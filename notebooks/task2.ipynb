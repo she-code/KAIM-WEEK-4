{
 "cells": [
  {
   "cell_type": "code",
   "execution_count": 2,
   "id": "6ab98b85",
   "metadata": {},
   "outputs": [],
   "source": [
    "import pandas as pd\n",
    "import numpy as np\n",
    "import pyarrow as pa"
   ]
  },
  {
   "cell_type": "code",
   "execution_count": 3,
   "id": "d39a38e9",
   "metadata": {},
   "outputs": [
    {
     "name": "stdout",
     "output_type": "stream",
     "text": [
      "     ID                                         Clean_Text  \\\n",
      "0  7403  BARDEFU 2 IN 1 Multi purpose juicer ኳሊቲ የሆነ የጁ...   \n",
      "1  7401  portable electrical water dispenser ባለ 3 press...   \n",
      "2  7399  GROOMING SET ሶስት በአንድ የያዘ የፀጉር ማሽን እና ሼቨር የሚሰራ...   \n",
      "3  7395  GROOMING SET ሶስት በአንድ የያዘ የፀጉር ማሽን እና ሼቨር የሚሰራ...   \n",
      "4  7393  1L Water Bottle High Quality 1L water time sca...   \n",
      "\n",
      "                                              Tokens  \\\n",
      "0  [BARDEFU, 2, IN, 1, Multi, purpose, juicer, ኳሊ...   \n",
      "1  [portable, electrical, water, dispenser, ባለ, 3...   \n",
      "2  [GROOMING, SET, ሶስት, በአንድ, የያዘ, የፀጉር, ማሽን, እና,...   \n",
      "3  [GROOMING, SET, ሶስት, በአንድ, የያዘ, የፀጉር, ማሽን, እና,...   \n",
      "4  [1L, Water, Bottle, High, Quality, 1L, water, ...   \n",
      "\n",
      "                                           Processed  \\\n",
      "0  [BARDEFU, 2, IN, 1, Multi, purpose, juicer, ኳሊ...   \n",
      "1  [portable, electrical, water, dispenser, ባለ, 3...   \n",
      "2  [GROOMING, SET, ሶስት, በአንድ, የያዘ, የፀጉር, ማሽን, እና,...   \n",
      "3  [GROOMING, SET, ሶስት, በአንድ, የያዘ, የፀጉር, ማሽን, እና,...   \n",
      "4  [1L, Water, Bottle, High, Quality, 1L, water, ...   \n",
      "\n",
      "                                             Message  \\\n",
      "0  👋 BARDEFU 2 IN 1 Multi purpose juicer\\n\\n👉 ኳሊቲ...   \n",
      "1  💥 portable electrical water dispenser\\n\\n👉ባለ 3...   \n",
      "2  💥GROOMING SET \\n\\n✂️ ሶስት በአንድ የያዘ የፀጉር ማሽን እና ...   \n",
      "3  💥GROOMING SET \\n\\n✂️ ሶስት በአንድ የያዘ የፀጉር ማሽን እና ...   \n",
      "4  💥 1L  Water Bottle\\n\\n      💯High Quality\\n\\n⚡...   \n",
      "\n",
      "                           Media Path  \n",
      "0  photos\\@shageronlinestore_7403.jpg  \n",
      "1  photos\\@shageronlinestore_7401.jpg  \n",
      "2  photos\\@shageronlinestore_7399.jpg  \n",
      "3  photos\\@shageronlinestore_7395.jpg  \n",
      "4  photos\\@shageronlinestore_7393.jpg  \n"
     ]
    }
   ],
   "source": [
    "# Load the saved parquet data\n",
    "parquet_df = pd.read_parquet('../data/processed/messages.parquet')\n",
    "print(parquet_df.head())"
   ]
  },
  {
   "cell_type": "code",
   "execution_count": null,
   "id": "ea822ce4",
   "metadata": {},
   "outputs": [
    {
     "name": "stdout",
     "output_type": "stream",
     "text": [
      "\n",
      "Instructions:\n",
      " - Use: B-Product, I-Product, B-LOC, I-LOC, B-PRICE, I-PRICE, O\n",
      " - Press Enter to assign 'O' (Outside) to a token\n",
      "\n",
      "\n",
      "Instructions:\n",
      " - Use: B-Product, I-Product, B-LOC, I-LOC, B-PRICE, I-PRICE, O\n",
      " - Press Enter to assign 'O' (Outside) to a token\n",
      "\n"
     ]
    }
   ],
   "source": [
    "\n",
    "# Select 30–50 messages to label\n",
    "subset = parquet_df[['ID', 'Processed']].dropna().head(30)\n",
    "\n",
    "# Convert stringified token lists (if necessary)\n",
    "if isinstance(subset.iloc[0]['Processed'], str):\n",
    "    import ast\n",
    "    subset['Processed'] = subset['Processed'].apply(ast.literal_eval)\n",
    "\n",
    "# Labeling function\n",
    "def label_tokens(tokens):\n",
    "    print(\"\\nInstructions:\")\n",
    "    print(\" - Use: B-Product, I-Product, B-LOC, I-LOC, B-PRICE, I-PRICE, O\")\n",
    "    print(\" - Press Enter to assign 'O' (Outside) to a token\\n\")\n",
    "    \n",
    "    labeled_tokens = []\n",
    "    for tok in tokens:\n",
    "        label = input(f\"{tok}: \").strip()\n",
    "        if label == \"\":\n",
    "            label = \"O\"\n",
    "        labeled_tokens.append((tok, label))\n",
    "    return labeled_tokens\n",
    "\n",
    "# Save labeled data to CoNLL format\n",
    "with open(\"../data/processed/amharic_ner_conll.txt\", \"w\", encoding=\"utf-8\") as f:\n",
    "    for _, row in subset.iterrows():\n",
    "        tokens = row['Processed']\n",
    "        labeled = label_tokens(tokens)\n",
    "        for token, tag in labeled:\n",
    "            f.write(f\"{token} {tag}\\n\")\n",
    "        f.write(\"\\n\")  # Blank line separates messages\n",
    "\n",
    "print(\"✅ Done! Saved 50 labeled messages to 'amharic_ner_conll.txt'\")\n"
   ]
  },
  {
   "cell_type": "code",
   "execution_count": null,
   "id": "727b19a9",
   "metadata": {},
   "outputs": [
    {
     "data": {
      "application/vnd.jupyter.widget-view+json": {
       "model_id": "67004f73d25b4c7d8f8d38acad616f2c",
       "version_major": 2,
       "version_minor": 0
      },
      "text/plain": [
       "Dropdown(description='BARDEFU', index=6, options=('B-Product', 'I-Product', 'B-LOC', 'I-LOC', 'B-PRICE', 'I-PR…"
      ]
     },
     "metadata": {},
     "output_type": "display_data"
    },
    {
     "data": {
      "application/vnd.jupyter.widget-view+json": {
       "model_id": "37f4423ea8674ac8b09eab67ebe74ac9",
       "version_major": 2,
       "version_minor": 0
      },
      "text/plain": [
       "Dropdown(description='2', index=6, options=('B-Product', 'I-Product', 'B-LOC', 'I-LOC', 'B-PRICE', 'I-PRICE', …"
      ]
     },
     "metadata": {},
     "output_type": "display_data"
    },
    {
     "data": {
      "application/vnd.jupyter.widget-view+json": {
       "model_id": "3663e1bcd4b94d71aa254e5416ad44a6",
       "version_major": 2,
       "version_minor": 0
      },
      "text/plain": [
       "Dropdown(description='IN', index=6, options=('B-Product', 'I-Product', 'B-LOC', 'I-LOC', 'B-PRICE', 'I-PRICE',…"
      ]
     },
     "metadata": {},
     "output_type": "display_data"
    },
    {
     "data": {
      "application/vnd.jupyter.widget-view+json": {
       "model_id": "6fb92df36ad9425bb0531ba293ef7a97",
       "version_major": 2,
       "version_minor": 0
      },
      "text/plain": [
       "Dropdown(description='1', index=6, options=('B-Product', 'I-Product', 'B-LOC', 'I-LOC', 'B-PRICE', 'I-PRICE', …"
      ]
     },
     "metadata": {},
     "output_type": "display_data"
    },
    {
     "data": {
      "application/vnd.jupyter.widget-view+json": {
       "model_id": "e2c7ca2bd30b437c91b543a79b655d6b",
       "version_major": 2,
       "version_minor": 0
      },
      "text/plain": [
       "Dropdown(description='Multi', index=6, options=('B-Product', 'I-Product', 'B-LOC', 'I-LOC', 'B-PRICE', 'I-PRIC…"
      ]
     },
     "metadata": {},
     "output_type": "display_data"
    },
    {
     "data": {
      "application/vnd.jupyter.widget-view+json": {
       "model_id": "f7545b6b4cf94c8fab50dedb84408b50",
       "version_major": 2,
       "version_minor": 0
      },
      "text/plain": [
       "Dropdown(description='purpose', index=6, options=('B-Product', 'I-Product', 'B-LOC', 'I-LOC', 'B-PRICE', 'I-PR…"
      ]
     },
     "metadata": {},
     "output_type": "display_data"
    },
    {
     "data": {
      "application/vnd.jupyter.widget-view+json": {
       "model_id": "4190526d09a64d92bb5b2b0feaddc037",
       "version_major": 2,
       "version_minor": 0
      },
      "text/plain": [
       "Dropdown(description='juicer', index=6, options=('B-Product', 'I-Product', 'B-LOC', 'I-LOC', 'B-PRICE', 'I-PRI…"
      ]
     },
     "metadata": {},
     "output_type": "display_data"
    },
    {
     "data": {
      "application/vnd.jupyter.widget-view+json": {
       "model_id": "49dece5d6ba24755a2cc365fcc9ec4df",
       "version_major": 2,
       "version_minor": 0
      },
      "text/plain": [
       "Dropdown(description='ኳሊቲ', index=6, options=('B-Product', 'I-Product', 'B-LOC', 'I-LOC', 'B-PRICE', 'I-PRICE'…"
      ]
     },
     "metadata": {},
     "output_type": "display_data"
    },
    {
     "data": {
      "application/vnd.jupyter.widget-view+json": {
       "model_id": "e221317bdaa64126aa1a95a695f940cf",
       "version_major": 2,
       "version_minor": 0
      },
      "text/plain": [
       "Dropdown(description='የጁስ', index=6, options=('B-Product', 'I-Product', 'B-LOC', 'I-LOC', 'B-PRICE', 'I-PRICE'…"
      ]
     },
     "metadata": {},
     "output_type": "display_data"
    },
    {
     "data": {
      "application/vnd.jupyter.widget-view+json": {
       "model_id": "ad2dab82d05443019b8cc979329a0541",
       "version_major": 2,
       "version_minor": 0
      },
      "text/plain": [
       "Dropdown(description='መፍጫ', index=6, options=('B-Product', 'I-Product', 'B-LOC', 'I-LOC', 'B-PRICE', 'I-PRICE'…"
      ]
     },
     "metadata": {},
     "output_type": "display_data"
    },
    {
     "data": {
      "application/vnd.jupyter.widget-view+json": {
       "model_id": "72f4372d91494db4aaef2e73493f915c",
       "version_major": 2,
       "version_minor": 0
      },
      "text/plain": [
       "Dropdown(description='የጀርመን', index=6, options=('B-Product', 'I-Product', 'B-LOC', 'I-LOC', 'B-PRICE', 'I-PRIC…"
      ]
     },
     "metadata": {},
     "output_type": "display_data"
    },
    {
     "data": {
      "application/vnd.jupyter.widget-view+json": {
       "model_id": "1a283b21663f405f8dcaf4cefa4fd6e2",
       "version_major": 2,
       "version_minor": 0
      },
      "text/plain": [
       "Dropdown(description='ቴክኖሎጂ', index=6, options=('B-Product', 'I-Product', 'B-LOC', 'I-LOC', 'B-PRICE', 'I-PRIC…"
      ]
     },
     "metadata": {},
     "output_type": "display_data"
    },
    {
     "data": {
      "application/vnd.jupyter.widget-view+json": {
       "model_id": "a7bfdefb12164281bb1a2298823f1327",
       "version_major": 2,
       "version_minor": 0
      },
      "text/plain": [
       "Dropdown(description='3', index=6, options=('B-Product', 'I-Product', 'B-LOC', 'I-LOC', 'B-PRICE', 'I-PRICE', …"
      ]
     },
     "metadata": {},
     "output_type": "display_data"
    },
    {
     "data": {
      "application/vnd.jupyter.widget-view+json": {
       "model_id": "1a96006f9c944c26bc655ecc86a706cd",
       "version_major": 2,
       "version_minor": 0
      },
      "text/plain": [
       "Dropdown(description='ሌትር', index=6, options=('B-Product', 'I-Product', 'B-LOC', 'I-LOC', 'B-PRICE', 'I-PRICE'…"
      ]
     },
     "metadata": {},
     "output_type": "display_data"
    },
    {
     "data": {
      "application/vnd.jupyter.widget-view+json": {
       "model_id": "bb6fd42b02b649d3a9ab8e3d313ccb43",
       "version_major": 2,
       "version_minor": 0
      },
      "text/plain": [
       "Dropdown(description='ጁስ', index=6, options=('B-Product', 'I-Product', 'B-LOC', 'I-LOC', 'B-PRICE', 'I-PRICE',…"
      ]
     },
     "metadata": {},
     "output_type": "display_data"
    },
    {
     "data": {
      "application/vnd.jupyter.widget-view+json": {
       "model_id": "d76a53cc242c44bf9711c0b262dd0688",
       "version_major": 2,
       "version_minor": 0
      },
      "text/plain": [
       "Dropdown(description='የሚፈጭ', index=6, options=('B-Product', 'I-Product', 'B-LOC', 'I-LOC', 'B-PRICE', 'I-PRICE…"
      ]
     },
     "metadata": {},
     "output_type": "display_data"
    },
    {
     "data": {
      "application/vnd.jupyter.widget-view+json": {
       "model_id": "07607571a9594771a9e6392fffefa873",
       "version_major": 2,
       "version_minor": 0
      },
      "text/plain": [
       "Dropdown(description='ጆግ', index=6, options=('B-Product', 'I-Product', 'B-LOC', 'I-LOC', 'B-PRICE', 'I-PRICE',…"
      ]
     },
     "metadata": {},
     "output_type": "display_data"
    },
    {
     "data": {
      "application/vnd.jupyter.widget-view+json": {
       "model_id": "824e993a0da249aa969b81a39011d17e",
       "version_major": 2,
       "version_minor": 0
      },
      "text/plain": [
       "Dropdown(description='ያለው', index=6, options=('B-Product', 'I-Product', 'B-LOC', 'I-LOC', 'B-PRICE', 'I-PRICE'…"
      ]
     },
     "metadata": {},
     "output_type": "display_data"
    },
    {
     "data": {
      "application/vnd.jupyter.widget-view+json": {
       "model_id": "151c9c0f9a3a4320995c0469d74c78bc",
       "version_major": 2,
       "version_minor": 0
      },
      "text/plain": [
       "Dropdown(description='የብና', index=6, options=('B-Product', 'I-Product', 'B-LOC', 'I-LOC', 'B-PRICE', 'I-PRICE'…"
      ]
     },
     "metadata": {},
     "output_type": "display_data"
    },
    {
     "data": {
      "application/vnd.jupyter.widget-view+json": {
       "model_id": "5c3bc832cda242f0a38a98dd14fc6d18",
       "version_major": 2,
       "version_minor": 0
      },
      "text/plain": [
       "Dropdown(description='እና', index=6, options=('B-Product', 'I-Product', 'B-LOC', 'I-LOC', 'B-PRICE', 'I-PRICE',…"
      ]
     },
     "metadata": {},
     "output_type": "display_data"
    },
    {
     "data": {
      "application/vnd.jupyter.widget-view+json": {
       "model_id": "de415c917ae44a7fb09268ca7d3d0692",
       "version_major": 2,
       "version_minor": 0
      },
      "text/plain": [
       "Dropdown(description='የቅመማ', index=6, options=('B-Product', 'I-Product', 'B-LOC', 'I-LOC', 'B-PRICE', 'I-PRICE…"
      ]
     },
     "metadata": {},
     "output_type": "display_data"
    },
    {
     "data": {
      "application/vnd.jupyter.widget-view+json": {
       "model_id": "580bac15213649b2a4ff9a42835d7481",
       "version_major": 2,
       "version_minor": 0
      },
      "text/plain": [
       "Dropdown(description='ቅመም', index=6, options=('B-Product', 'I-Product', 'B-LOC', 'I-LOC', 'B-PRICE', 'I-PRICE'…"
      ]
     },
     "metadata": {},
     "output_type": "display_data"
    },
    {
     "data": {
      "application/vnd.jupyter.widget-view+json": {
       "model_id": "e1270d6457b34ef49b1a8e6db8b0088c",
       "version_major": 2,
       "version_minor": 0
      },
      "text/plain": [
       "Dropdown(description='መፍጫ', index=6, options=('B-Product', 'I-Product', 'B-LOC', 'I-LOC', 'B-PRICE', 'I-PRICE'…"
      ]
     },
     "metadata": {},
     "output_type": "display_data"
    },
    {
     "data": {
      "application/vnd.jupyter.widget-view+json": {
       "model_id": "b999f59f71a544ad938c477a7638cd14",
       "version_major": 2,
       "version_minor": 0
      },
      "text/plain": [
       "Dropdown(description='ያለው', index=6, options=('B-Product', 'I-Product', 'B-LOC', 'I-LOC', 'B-PRICE', 'I-PRICE'…"
      ]
     },
     "metadata": {},
     "output_type": "display_data"
    },
    {
     "data": {
      "application/vnd.jupyter.widget-view+json": {
       "model_id": "88e8e8cc713d4c3798f207a3b525fce8",
       "version_major": 2,
       "version_minor": 0
      },
      "text/plain": [
       "Dropdown(description='8000Watt', index=6, options=('B-Product', 'I-Product', 'B-LOC', 'I-LOC', 'B-PRICE', 'I-P…"
      ]
     },
     "metadata": {},
     "output_type": "display_data"
    },
    {
     "data": {
      "application/vnd.jupyter.widget-view+json": {
       "model_id": "5b3a27d4c6ef4589b9776bb3837e1fb3",
       "version_major": 2,
       "version_minor": 0
      },
      "text/plain": [
       "Dropdown(description='ምላጮቹ', index=6, options=('B-Product', 'I-Product', 'B-LOC', 'I-LOC', 'B-PRICE', 'I-PRICE…"
      ]
     },
     "metadata": {},
     "output_type": "display_data"
    },
    {
     "data": {
      "application/vnd.jupyter.widget-view+json": {
       "model_id": "3c3d609507024819bf7eb8aacda8ca67",
       "version_major": 2,
       "version_minor": 0
      },
      "text/plain": [
       "Dropdown(description='ጠንካራ', index=6, options=('B-Product', 'I-Product', 'B-LOC', 'I-LOC', 'B-PRICE', 'I-PRICE…"
      ]
     },
     "metadata": {},
     "output_type": "display_data"
    },
    {
     "data": {
      "application/vnd.jupyter.widget-view+json": {
       "model_id": "41570ebcc83f4377b261a4a09f35ca35",
       "version_major": 2,
       "version_minor": 0
      },
      "text/plain": [
       "Dropdown(description='የሆኑ', index=6, options=('B-Product', 'I-Product', 'B-LOC', 'I-LOC', 'B-PRICE', 'I-PRICE'…"
      ]
     },
     "metadata": {},
     "output_type": "display_data"
    },
    {
     "data": {
      "application/vnd.jupyter.widget-view+json": {
       "model_id": "db0316244c39451bb9a6c5c9cbb3e68d",
       "version_major": 2,
       "version_minor": 0
      },
      "text/plain": [
       "Dropdown(description='ለቤት', index=6, options=('B-Product', 'I-Product', 'B-LOC', 'I-LOC', 'B-PRICE', 'I-PRICE'…"
      ]
     },
     "metadata": {},
     "output_type": "display_data"
    },
    {
     "data": {
      "application/vnd.jupyter.widget-view+json": {
       "model_id": "ed548a1de5e7450ebf8e7b92b81f63ff",
       "version_major": 2,
       "version_minor": 0
      },
      "text/plain": [
       "Dropdown(description='እንዲሁም', index=6, options=('B-Product', 'I-Product', 'B-LOC', 'I-LOC', 'B-PRICE', 'I-PRIC…"
      ]
     },
     "metadata": {},
     "output_type": "display_data"
    },
    {
     "data": {
      "application/vnd.jupyter.widget-view+json": {
       "model_id": "b9a31583ace94dc18b8a52e476fb4786",
       "version_major": 2,
       "version_minor": 0
      },
      "text/plain": [
       "Dropdown(description='ለስራ', index=6, options=('B-Product', 'I-Product', 'B-LOC', 'I-LOC', 'B-PRICE', 'I-PRICE'…"
      ]
     },
     "metadata": {},
     "output_type": "display_data"
    },
    {
     "data": {
      "application/vnd.jupyter.widget-view+json": {
       "model_id": "4829cc811fdf4b10b20d57db7df0a33f",
       "version_major": 2,
       "version_minor": 0
      },
      "text/plain": [
       "Dropdown(description='የሚሆን', index=6, options=('B-Product', 'I-Product', 'B-LOC', 'I-LOC', 'B-PRICE', 'I-PRICE…"
      ]
     },
     "metadata": {},
     "output_type": "display_data"
    },
    {
     "data": {
      "application/vnd.jupyter.widget-view+json": {
       "model_id": "1db3cd1886124c57a8c0278009370a5d",
       "version_major": 2,
       "version_minor": 0
      },
      "text/plain": [
       "Dropdown(description='አሪፍ', index=6, options=('B-Product', 'I-Product', 'B-LOC', 'I-LOC', 'B-PRICE', 'I-PRICE'…"
      ]
     },
     "metadata": {},
     "output_type": "display_data"
    },
    {
     "data": {
      "application/vnd.jupyter.widget-view+json": {
       "model_id": "e57d7360227142e9b2e8520993cd7ed8",
       "version_major": 2,
       "version_minor": 0
      },
      "text/plain": [
       "Dropdown(description='እቃ', index=6, options=('B-Product', 'I-Product', 'B-LOC', 'I-LOC', 'B-PRICE', 'I-PRICE',…"
      ]
     },
     "metadata": {},
     "output_type": "display_data"
    },
    {
     "data": {
      "application/vnd.jupyter.widget-view+json": {
       "model_id": "db3d48edc16645a6aa59e86750c31db9",
       "version_major": 2,
       "version_minor": 0
      },
      "text/plain": [
       "Dropdown(description='ለአጠቃቀም', index=6, options=('B-Product', 'I-Product', 'B-LOC', 'I-LOC', 'B-PRICE', 'I-PRI…"
      ]
     },
     "metadata": {},
     "output_type": "display_data"
    },
    {
     "data": {
      "application/vnd.jupyter.widget-view+json": {
       "model_id": "dc817de071b4438c8096e936a3e345e5",
       "version_major": 2,
       "version_minor": 0
      },
      "text/plain": [
       "Dropdown(description='ቀላል', index=6, options=('B-Product', 'I-Product', 'B-LOC', 'I-LOC', 'B-PRICE', 'I-PRICE'…"
      ]
     },
     "metadata": {},
     "output_type": "display_data"
    },
    {
     "data": {
      "application/vnd.jupyter.widget-view+json": {
       "model_id": "d85e51cb146244dd90d7a2fd0417aebc",
       "version_major": 2,
       "version_minor": 0
      },
      "text/plain": [
       "Dropdown(description='በረዶ', index=6, options=('B-Product', 'I-Product', 'B-LOC', 'I-LOC', 'B-PRICE', 'I-PRICE'…"
      ]
     },
     "metadata": {},
     "output_type": "display_data"
    },
    {
     "data": {
      "application/vnd.jupyter.widget-view+json": {
       "model_id": "6592dcec02bb41569b5eb3d7ba10337f",
       "version_major": 2,
       "version_minor": 0
      },
      "text/plain": [
       "Dropdown(description='ይፈጫል', index=6, options=('B-Product', 'I-Product', 'B-LOC', 'I-LOC', 'B-PRICE', 'I-PRICE…"
      ]
     },
     "metadata": {},
     "output_type": "display_data"
    },
    {
     "data": {
      "application/vnd.jupyter.widget-view+json": {
       "model_id": "7d96a85779754bf3812bcbb567111a91",
       "version_major": 2,
       "version_minor": 0
      },
      "text/plain": [
       "Dropdown(description='ዋጋ6800ብር', index=6, options=('B-Product', 'I-Product', 'B-LOC', 'I-LOC', 'B-PRICE', 'I-P…"
      ]
     },
     "metadata": {},
     "output_type": "display_data"
    },
    {
     "data": {
      "application/vnd.jupyter.widget-view+json": {
       "model_id": "cf0f75e9a3434ed3a25dd4f21fad0307",
       "version_major": 2,
       "version_minor": 0
      },
      "text/plain": [
       "Dropdown(description='ውስን', index=6, options=('B-Product', 'I-Product', 'B-LOC', 'I-LOC', 'B-PRICE', 'I-PRICE'…"
      ]
     },
     "metadata": {},
     "output_type": "display_data"
    },
    {
     "data": {
      "application/vnd.jupyter.widget-view+json": {
       "model_id": "bb4af38973a0427ca83445becc6bce25",
       "version_major": 2,
       "version_minor": 0
      },
      "text/plain": [
       "Dropdown(description='ፍሬ', index=6, options=('B-Product', 'I-Product', 'B-LOC', 'I-LOC', 'B-PRICE', 'I-PRICE',…"
      ]
     },
     "metadata": {},
     "output_type": "display_data"
    },
    {
     "data": {
      "application/vnd.jupyter.widget-view+json": {
       "model_id": "613d7ff58c3441cb88152c8b756971f5",
       "version_major": 2,
       "version_minor": 0
      },
      "text/plain": [
       "Dropdown(description='ያለን', index=6, options=('B-Product', 'I-Product', 'B-LOC', 'I-LOC', 'B-PRICE', 'I-PRICE'…"
      ]
     },
     "metadata": {},
     "output_type": "display_data"
    },
    {
     "data": {
      "application/vnd.jupyter.widget-view+json": {
       "model_id": "c26c0e3eadcf43a0ba4dbd96eba778b7",
       "version_major": 2,
       "version_minor": 0
      },
      "text/plain": [
       "Dropdown(description='Limited', index=6, options=('B-Product', 'I-Product', 'B-LOC', 'I-LOC', 'B-PRICE', 'I-PR…"
      ]
     },
     "metadata": {},
     "output_type": "display_data"
    },
    {
     "data": {
      "application/vnd.jupyter.widget-view+json": {
       "model_id": "5ea21ded93e1420f8735fb62defd76d8",
       "version_major": 2,
       "version_minor": 0
      },
      "text/plain": [
       "Dropdown(description='Stock', index=6, options=('B-Product', 'I-Product', 'B-LOC', 'I-LOC', 'B-PRICE', 'I-PRIC…"
      ]
     },
     "metadata": {},
     "output_type": "display_data"
    },
    {
     "data": {
      "application/vnd.jupyter.widget-view+json": {
       "model_id": "8ac656a8eb224731af804834f83b3259",
       "version_major": 2,
       "version_minor": 0
      },
      "text/plain": [
       "Dropdown(description='አድራሻ', index=6, options=('B-Product', 'I-Product', 'B-LOC', 'I-LOC', 'B-PRICE', 'I-PRICE…"
      ]
     },
     "metadata": {},
     "output_type": "display_data"
    },
    {
     "data": {
      "application/vnd.jupyter.widget-view+json": {
       "model_id": "f256d0885adc44c3a8331472037a2f8f",
       "version_major": 2,
       "version_minor": 0
      },
      "text/plain": [
       "Dropdown(description='ቁ1', index=6, options=('B-Product', 'I-Product', 'B-LOC', 'I-LOC', 'B-PRICE', 'I-PRICE',…"
      ]
     },
     "metadata": {},
     "output_type": "display_data"
    },
    {
     "data": {
      "application/vnd.jupyter.widget-view+json": {
       "model_id": "7b97f58089eb4f2e84fe759763ba42ef",
       "version_major": 2,
       "version_minor": 0
      },
      "text/plain": [
       "Dropdown(description='መገናኛ', index=6, options=('B-Product', 'I-Product', 'B-LOC', 'I-LOC', 'B-PRICE', 'I-PRICE…"
      ]
     },
     "metadata": {},
     "output_type": "display_data"
    },
    {
     "data": {
      "application/vnd.jupyter.widget-view+json": {
       "model_id": "293110db669d4b1aacba34f38bc821f1",
       "version_major": 2,
       "version_minor": 0
      },
      "text/plain": [
       "Dropdown(description='ታሜ', index=6, options=('B-Product', 'I-Product', 'B-LOC', 'I-LOC', 'B-PRICE', 'I-PRICE',…"
      ]
     },
     "metadata": {},
     "output_type": "display_data"
    },
    {
     "data": {
      "application/vnd.jupyter.widget-view+json": {
       "model_id": "5c622e4c90c3434f813c9bfd20a80301",
       "version_major": 2,
       "version_minor": 0
      },
      "text/plain": [
       "Dropdown(description='ጋስ', index=6, options=('B-Product', 'I-Product', 'B-LOC', 'I-LOC', 'B-PRICE', 'I-PRICE',…"
      ]
     },
     "metadata": {},
     "output_type": "display_data"
    },
    {
     "data": {
      "application/vnd.jupyter.widget-view+json": {
       "model_id": "7d7e99cc255a4694b27d56ba0f3f21ad",
       "version_major": 2,
       "version_minor": 0
      },
      "text/plain": [
       "Dropdown(description='ህንፃ', index=6, options=('B-Product', 'I-Product', 'B-LOC', 'I-LOC', 'B-PRICE', 'I-PRICE'…"
      ]
     },
     "metadata": {},
     "output_type": "display_data"
    },
    {
     "data": {
      "application/vnd.jupyter.widget-view+json": {
       "model_id": "82efd17cbcb64fbeb7ad612972d2bb89",
       "version_major": 2,
       "version_minor": 0
      },
      "text/plain": [
       "Dropdown(description='ጎን', index=6, options=('B-Product', 'I-Product', 'B-LOC', 'I-LOC', 'B-PRICE', 'I-PRICE',…"
      ]
     },
     "metadata": {},
     "output_type": "display_data"
    },
    {
     "data": {
      "application/vnd.jupyter.widget-view+json": {
       "model_id": "62b4bbe0e08947709432ad29ef1b38c7",
       "version_major": 2,
       "version_minor": 0
      },
      "text/plain": [
       "Dropdown(description='ስሪ', index=6, options=('B-Product', 'I-Product', 'B-LOC', 'I-LOC', 'B-PRICE', 'I-PRICE',…"
      ]
     },
     "metadata": {},
     "output_type": "display_data"
    },
    {
     "data": {
      "application/vnd.jupyter.widget-view+json": {
       "model_id": "231a570d042d40d99d9bb45843c921a9",
       "version_major": 2,
       "version_minor": 0
      },
      "text/plain": [
       "Dropdown(description='ኤም', index=6, options=('B-Product', 'I-Product', 'B-LOC', 'I-LOC', 'B-PRICE', 'I-PRICE',…"
      ]
     },
     "metadata": {},
     "output_type": "display_data"
    },
    {
     "data": {
      "application/vnd.jupyter.widget-view+json": {
       "model_id": "7626c3b81d05467c90f9f86d37a6eced",
       "version_major": 2,
       "version_minor": 0
      },
      "text/plain": [
       "Dropdown(description='ሲቲ', index=6, options=('B-Product', 'I-Product', 'B-LOC', 'I-LOC', 'B-PRICE', 'I-PRICE',…"
      ]
     },
     "metadata": {},
     "output_type": "display_data"
    },
    {
     "data": {
      "application/vnd.jupyter.widget-view+json": {
       "model_id": "e9b1a9aa364440fbb8d54bb8febe57eb",
       "version_major": 2,
       "version_minor": 0
      },
      "text/plain": [
       "Dropdown(description='ሞል', index=6, options=('B-Product', 'I-Product', 'B-LOC', 'I-LOC', 'B-PRICE', 'I-PRICE',…"
      ]
     },
     "metadata": {},
     "output_type": "display_data"
    },
    {
     "data": {
      "application/vnd.jupyter.widget-view+json": {
       "model_id": "837457b70c83444db7f723fdb7165bd0",
       "version_major": 2,
       "version_minor": 0
      },
      "text/plain": [
       "Dropdown(description='ሁለተኛ', index=6, options=('B-Product', 'I-Product', 'B-LOC', 'I-LOC', 'B-PRICE', 'I-PRICE…"
      ]
     },
     "metadata": {},
     "output_type": "display_data"
    },
    {
     "data": {
      "application/vnd.jupyter.widget-view+json": {
       "model_id": "6b76b3cc3ff845e8a43dbf59236cd5c8",
       "version_major": 2,
       "version_minor": 0
      },
      "text/plain": [
       "Dropdown(description='ፎቅ', index=6, options=('B-Product', 'I-Product', 'B-LOC', 'I-LOC', 'B-PRICE', 'I-PRICE',…"
      ]
     },
     "metadata": {},
     "output_type": "display_data"
    },
    {
     "data": {
      "application/vnd.jupyter.widget-view+json": {
       "model_id": "94fd174258f24058a17a32e4c1472e98",
       "version_major": 2,
       "version_minor": 0
      },
      "text/plain": [
       "Dropdown(description='ቢሮ', index=6, options=('B-Product', 'I-Product', 'B-LOC', 'I-LOC', 'B-PRICE', 'I-PRICE',…"
      ]
     },
     "metadata": {},
     "output_type": "display_data"
    },
    {
     "data": {
      "application/vnd.jupyter.widget-view+json": {
       "model_id": "87e27dcb92fa41479316c19a53f98387",
       "version_major": 2,
       "version_minor": 0
      },
      "text/plain": [
       "Dropdown(description='ቁ', index=6, options=('B-Product', 'I-Product', 'B-LOC', 'I-LOC', 'B-PRICE', 'I-PRICE', …"
      ]
     },
     "metadata": {},
     "output_type": "display_data"
    },
    {
     "data": {
      "application/vnd.jupyter.widget-view+json": {
       "model_id": "5803cba49e8f4751accd1bb10bed7cb7",
       "version_major": 2,
       "version_minor": 0
      },
      "text/plain": [
       "Dropdown(description='SL05Aከ', index=6, options=('B-Product', 'I-Product', 'B-LOC', 'I-LOC', 'B-PRICE', 'I-PRI…"
      ]
     },
     "metadata": {},
     "output_type": "display_data"
    },
    {
     "data": {
      "application/vnd.jupyter.widget-view+json": {
       "model_id": "edac87969495431b8845a0fb34c23dc9",
       "version_major": 2,
       "version_minor": 0
      },
      "text/plain": [
       "Dropdown(description='ሊፍቱ', index=6, options=('B-Product', 'I-Product', 'B-LOC', 'I-LOC', 'B-PRICE', 'I-PRICE'…"
      ]
     },
     "metadata": {},
     "output_type": "display_data"
    },
    {
     "data": {
      "application/vnd.jupyter.widget-view+json": {
       "model_id": "d2c1e9b2aaac4cd08409b55632f43d80",
       "version_major": 2,
       "version_minor": 0
      },
      "text/plain": [
       "Dropdown(description='ፊት', index=6, options=('B-Product', 'I-Product', 'B-LOC', 'I-LOC', 'B-PRICE', 'I-PRICE',…"
      ]
     },
     "metadata": {},
     "output_type": "display_data"
    },
    {
     "data": {
      "application/vnd.jupyter.widget-view+json": {
       "model_id": "0bc6b2cbfda24f2e954e17ccfecaec8a",
       "version_major": 2,
       "version_minor": 0
      },
      "text/plain": [
       "Dropdown(description='ለ', index=6, options=('B-Product', 'I-Product', 'B-LOC', 'I-LOC', 'B-PRICE', 'I-PRICE', …"
      ]
     },
     "metadata": {},
     "output_type": "display_data"
    },
    {
     "data": {
      "application/vnd.jupyter.widget-view+json": {
       "model_id": "fd44c0a479a34ec89c14da72a7526e3b",
       "version_major": 2,
       "version_minor": 0
      },
      "text/plain": [
       "Dropdown(description='ፊት', index=6, options=('B-Product', 'I-Product', 'B-LOC', 'I-LOC', 'B-PRICE', 'I-PRICE',…"
      ]
     },
     "metadata": {},
     "output_type": "display_data"
    },
    {
     "data": {
      "application/vnd.jupyter.widget-view+json": {
       "model_id": "7ee0cb824821405097f9206cb47e658a",
       "version_major": 2,
       "version_minor": 0
      },
      "text/plain": [
       "Dropdown(description='ቁ2', index=6, options=('B-Product', 'I-Product', 'B-LOC', 'I-LOC', 'B-PRICE', 'I-PRICE',…"
      ]
     },
     "metadata": {},
     "output_type": "display_data"
    },
    {
     "data": {
      "application/vnd.jupyter.widget-view+json": {
       "model_id": "cc0f6d56c9d94cbc878dec50d57b7746",
       "version_major": 2,
       "version_minor": 0
      },
      "text/plain": [
       "Dropdown(description='ለቡ', index=6, options=('B-Product', 'I-Product', 'B-LOC', 'I-LOC', 'B-PRICE', 'I-PRICE',…"
      ]
     },
     "metadata": {},
     "output_type": "display_data"
    },
    {
     "data": {
      "application/vnd.jupyter.widget-view+json": {
       "model_id": "d6e2090b369b43e2ab179df641df75a4",
       "version_major": 2,
       "version_minor": 0
      },
      "text/plain": [
       "Dropdown(description='መዳህኒዓለም', index=6, options=('B-Product', 'I-Product', 'B-LOC', 'I-LOC', 'B-PRICE', 'I-PR…"
      ]
     },
     "metadata": {},
     "output_type": "display_data"
    },
    {
     "data": {
      "application/vnd.jupyter.widget-view+json": {
       "model_id": "67c6300aeb0d4bbc8d56fe92fa3c8476",
       "version_major": 2,
       "version_minor": 0
      },
      "text/plain": [
       "Dropdown(description='ቤተክርስቲያን', index=6, options=('B-Product', 'I-Product', 'B-LOC', 'I-LOC', 'B-PRICE', 'I-P…"
      ]
     },
     "metadata": {},
     "output_type": "display_data"
    },
    {
     "data": {
      "application/vnd.jupyter.widget-view+json": {
       "model_id": "c31a912314a54c3585555e1e1c8f09f7",
       "version_major": 2,
       "version_minor": 0
      },
      "text/plain": [
       "Dropdown(description='ወደ', index=6, options=('B-Product', 'I-Product', 'B-LOC', 'I-LOC', 'B-PRICE', 'I-PRICE',…"
      ]
     },
     "metadata": {},
     "output_type": "display_data"
    },
    {
     "data": {
      "application/vnd.jupyter.widget-view+json": {
       "model_id": "f133a88aa3ee40648b6c394ed0ec251c",
       "version_major": 2,
       "version_minor": 0
      },
      "text/plain": [
       "Dropdown(description='ሙዚቃ', index=6, options=('B-Product', 'I-Product', 'B-LOC', 'I-LOC', 'B-PRICE', 'I-PRICE'…"
      ]
     },
     "metadata": {},
     "output_type": "display_data"
    },
    {
     "data": {
      "application/vnd.jupyter.widget-view+json": {
       "model_id": "80216951e97346e9bff7a9f8108e2ae3",
       "version_major": 2,
       "version_minor": 0
      },
      "text/plain": [
       "Dropdown(description='ቤት', index=6, options=('B-Product', 'I-Product', 'B-LOC', 'I-LOC', 'B-PRICE', 'I-PRICE',…"
      ]
     },
     "metadata": {},
     "output_type": "display_data"
    },
    {
     "data": {
      "application/vnd.jupyter.widget-view+json": {
       "model_id": "4824aecc3f6f46628d7cf1523126ee39",
       "version_major": 2,
       "version_minor": 0
      },
      "text/plain": [
       "Dropdown(description='ከፍ', index=6, options=('B-Product', 'I-Product', 'B-LOC', 'I-LOC', 'B-PRICE', 'I-PRICE',…"
      ]
     },
     "metadata": {},
     "output_type": "display_data"
    },
    {
     "data": {
      "application/vnd.jupyter.widget-view+json": {
       "model_id": "c10bc88ad4a54b3eb174e2cf24817001",
       "version_major": 2,
       "version_minor": 0
      },
      "text/plain": [
       "Dropdown(description='ብሎ', index=6, options=('B-Product', 'I-Product', 'B-LOC', 'I-LOC', 'B-PRICE', 'I-PRICE',…"
      ]
     },
     "metadata": {},
     "output_type": "display_data"
    },
    {
     "data": {
      "application/vnd.jupyter.widget-view+json": {
       "model_id": "6dc493c6bf5245fd9fca16099caf15e8",
       "version_major": 2,
       "version_minor": 0
      },
      "text/plain": [
       "Dropdown(description='ዛም_ሞል', index=6, options=('B-Product', 'I-Product', 'B-LOC', 'I-LOC', 'B-PRICE', 'I-PRIC…"
      ]
     },
     "metadata": {},
     "output_type": "display_data"
    },
    {
     "data": {
      "application/vnd.jupyter.widget-view+json": {
       "model_id": "0ef5835ff2e8454eb2a342f16f9f17dd",
       "version_major": 2,
       "version_minor": 0
      },
      "text/plain": [
       "Dropdown(description='2ኛ', index=6, options=('B-Product', 'I-Product', 'B-LOC', 'I-LOC', 'B-PRICE', 'I-PRICE',…"
      ]
     },
     "metadata": {},
     "output_type": "display_data"
    },
    {
     "data": {
      "application/vnd.jupyter.widget-view+json": {
       "model_id": "8fbde1f8206a4f729dcb708664a45c42",
       "version_major": 2,
       "version_minor": 0
      },
      "text/plain": [
       "Dropdown(description='ፎቅ', index=6, options=('B-Product', 'I-Product', 'B-LOC', 'I-LOC', 'B-PRICE', 'I-PRICE',…"
      ]
     },
     "metadata": {},
     "output_type": "display_data"
    },
    {
     "data": {
      "application/vnd.jupyter.widget-view+json": {
       "model_id": "3c16fb2f3a68421ca10218b49c605d37",
       "version_major": 2,
       "version_minor": 0
      },
      "text/plain": [
       "Dropdown(description='ቢሮቁ', index=6, options=('B-Product', 'I-Product', 'B-LOC', 'I-LOC', 'B-PRICE', 'I-PRICE'…"
      ]
     },
     "metadata": {},
     "output_type": "display_data"
    },
    {
     "data": {
      "application/vnd.jupyter.widget-view+json": {
       "model_id": "1eccc725db3c46e69049452c77bb5613",
       "version_major": 2,
       "version_minor": 0
      },
      "text/plain": [
       "Dropdown(description='214', index=6, options=('B-Product', 'I-Product', 'B-LOC', 'I-LOC', 'B-PRICE', 'I-PRICE'…"
      ]
     },
     "metadata": {},
     "output_type": "display_data"
    },
    {
     "data": {
      "application/vnd.jupyter.widget-view+json": {
       "model_id": "617cf38caf9e459bab45b48996a3d201",
       "version_major": 2,
       "version_minor": 0
      },
      "text/plain": [
       "Dropdown(description='0909522840', index=6, options=('B-Product', 'I-Product', 'B-LOC', 'I-LOC', 'B-PRICE', 'I…"
      ]
     },
     "metadata": {},
     "output_type": "display_data"
    },
    {
     "data": {
      "application/vnd.jupyter.widget-view+json": {
       "model_id": "9e15fa31239a4dfa903664bed33a99cc",
       "version_major": 2,
       "version_minor": 0
      },
      "text/plain": [
       "Dropdown(description='0923350054', index=6, options=('B-Product', 'I-Product', 'B-LOC', 'I-LOC', 'B-PRICE', 'I…"
      ]
     },
     "metadata": {},
     "output_type": "display_data"
    },
    {
     "data": {
      "application/vnd.jupyter.widget-view+json": {
       "model_id": "3de96dacd0aa47a8b106aab66b76acf5",
       "version_major": 2,
       "version_minor": 0
      },
      "text/plain": [
       "Dropdown(description='ለቡ', index=6, options=('B-Product', 'I-Product', 'B-LOC', 'I-LOC', 'B-PRICE', 'I-PRICE',…"
      ]
     },
     "metadata": {},
     "output_type": "display_data"
    },
    {
     "data": {
      "application/vnd.jupyter.widget-view+json": {
       "model_id": "d3c69d343471439f8729e16208acac0d",
       "version_major": 2,
       "version_minor": 0
      },
      "text/plain": [
       "Dropdown(description='ቅርንጫፍ0973611819', index=6, options=('B-Product', 'I-Product', 'B-LOC', 'I-LOC', 'B-PRICE…"
      ]
     },
     "metadata": {},
     "output_type": "display_data"
    },
    {
     "data": {
      "application/vnd.jupyter.widget-view+json": {
       "model_id": "552ee9f5d92b42cd9659e38b3838fba7",
       "version_major": 2,
       "version_minor": 0
      },
      "text/plain": [
       "Dropdown(description='በTelegram', index=6, options=('B-Product', 'I-Product', 'B-LOC', 'I-LOC', 'B-PRICE', 'I-…"
      ]
     },
     "metadata": {},
     "output_type": "display_data"
    },
    {
     "data": {
      "application/vnd.jupyter.widget-view+json": {
       "model_id": "5aeb54d8bb2b4f26a174a4c7984cb81f",
       "version_major": 2,
       "version_minor": 0
      },
      "text/plain": [
       "Dropdown(description='ለማዘዝ', index=6, options=('B-Product', 'I-Product', 'B-LOC', 'I-LOC', 'B-PRICE', 'I-PRICE…"
      ]
     },
     "metadata": {},
     "output_type": "display_data"
    },
    {
     "data": {
      "application/vnd.jupyter.widget-view+json": {
       "model_id": "8fc182ab6a034ef68baa864acc4e10b3",
       "version_major": 2,
       "version_minor": 0
      },
      "text/plain": [
       "Dropdown(description='ይጠቀሙ', index=6, options=('B-Product', 'I-Product', 'B-LOC', 'I-LOC', 'B-PRICE', 'I-PRICE…"
      ]
     },
     "metadata": {},
     "output_type": "display_data"
    },
    {
     "data": {
      "application/vnd.jupyter.widget-view+json": {
       "model_id": "03832370be424c5e94881515f6bbbf8b",
       "version_major": 2,
       "version_minor": 0
      },
      "text/plain": [
       "Dropdown(description='shager_onlinestore', index=6, options=('B-Product', 'I-Product', 'B-LOC', 'I-LOC', 'B-PR…"
      ]
     },
     "metadata": {},
     "output_type": "display_data"
    },
    {
     "data": {
      "application/vnd.jupyter.widget-view+json": {
       "model_id": "4855fe968734489395d0c29bc11a413a",
       "version_major": 2,
       "version_minor": 0
      },
      "text/plain": [
       "Dropdown(description='ለተጨማሪ', index=6, options=('B-Product', 'I-Product', 'B-LOC', 'I-LOC', 'B-PRICE', 'I-PRIC…"
      ]
     },
     "metadata": {},
     "output_type": "display_data"
    },
    {
     "data": {
      "application/vnd.jupyter.widget-view+json": {
       "model_id": "d2885726b4704a9590d1902cdd285d0f",
       "version_major": 2,
       "version_minor": 0
      },
      "text/plain": [
       "Dropdown(description='ማብራሪያ', index=6, options=('B-Product', 'I-Product', 'B-LOC', 'I-LOC', 'B-PRICE', 'I-PRIC…"
      ]
     },
     "metadata": {},
     "output_type": "display_data"
    },
    {
     "data": {
      "application/vnd.jupyter.widget-view+json": {
       "model_id": "8b8be9354b1a483aa084ab5b77324312",
       "version_major": 2,
       "version_minor": 0
      },
      "text/plain": [
       "Dropdown(description='የቴሌግራም', index=6, options=('B-Product', 'I-Product', 'B-LOC', 'I-LOC', 'B-PRICE', 'I-PRI…"
      ]
     },
     "metadata": {},
     "output_type": "display_data"
    },
    {
     "data": {
      "application/vnd.jupyter.widget-view+json": {
       "model_id": "bf5036ca9963479fa3c96f4dcbfd7e9f",
       "version_major": 2,
       "version_minor": 0
      },
      "text/plain": [
       "Dropdown(description='ገፃችን', index=6, options=('B-Product', 'I-Product', 'B-LOC', 'I-LOC', 'B-PRICE', 'I-PRICE…"
      ]
     },
     "metadata": {},
     "output_type": "display_data"
    },
    {
     "data": {
      "application/vnd.jupyter.widget-view+json": {
       "model_id": "10665fe1468f4f6c915977d10802d93a",
       "version_major": 2,
       "version_minor": 0
      },
      "text/plain": [
       "Dropdown(description='httpstmeShageronlinestore', index=6, options=('B-Product', 'I-Product', 'B-LOC', 'I-LOC'…"
      ]
     },
     "metadata": {},
     "output_type": "display_data"
    },
    {
     "data": {
      "application/vnd.jupyter.widget-view+json": {
       "model_id": "2eee21ebbffd4fb7a703ca946e9e8ede",
       "version_major": 2,
       "version_minor": 0
      },
      "text/plain": [
       "Button(description='Submit Labels', style=ButtonStyle())"
      ]
     },
     "metadata": {},
     "output_type": "display_data"
    },
    {
     "data": {
      "application/vnd.jupyter.widget-view+json": {
       "model_id": "cb6b8ec3b2ec4e3cbf287e5556d2b3c3",
       "version_major": 2,
       "version_minor": 0
      },
      "text/plain": [
       "Output()"
      ]
     },
     "metadata": {},
     "output_type": "display_data"
    }
   ],
   "source": [
    "import ipywidgets as widgets\n",
    "from IPython.display import display, clear_output\n",
    "import pandas as pd\n",
    "\n",
    "subset = parquet_df[['ID', 'Processed']].dropna().head(30)  \n",
    "\n",
    "labels_list = ['B-Product', 'I-Product', 'B-LOC', 'I-LOC', 'B-PRICE', 'I-PRICE', 'O','B-CONTACT','I-CONTACT']\n",
    "\n",
    "# File path to save labeled data\n",
    "output_path = '../data/processed/amharic_ner_conll_labeled.txt'\n",
    "\n",
    "def label_message(tokens, idx=0):\n",
    "    dropdowns = []\n",
    "    \n",
    "    # Create dropdowns for each token\n",
    "    for tok in tokens:\n",
    "        dd = widgets.Dropdown(options=labels_list, value='O', description=tok)\n",
    "        dropdowns.append(dd)\n",
    "    \n",
    "    btn = widgets.Button(description=\"Submit Labels\")\n",
    "    out = widgets.Output()\n",
    "    \n",
    "    def on_submit(b):\n",
    "        with out:\n",
    "            clear_output()\n",
    "            labels = [dd.value for dd in dropdowns]\n",
    "            for token, label in zip(tokens, labels):\n",
    "                print(f\"{token} : {label}\")\n",
    "\n",
    "            # Save current labeled tokens to file (append mode)\n",
    "            with open(output_path, 'a', encoding='utf-8') as f:\n",
    "                for token, label in zip(tokens, labels):\n",
    "                    f.write(f\"{token} {label}\\n\")\n",
    "                f.write('\\n')  # blank line to separate messages\n",
    "            \n",
    "            print(f\"\\nLabeled message {idx+1}/{len(subset)} saved!\")\n",
    "            \n",
    "            # Move to next message or finish\n",
    "            if idx + 1 < len(subset):\n",
    "                clear_output(wait=True)\n",
    "                label_message(subset.iloc[idx+1]['Processed'], idx + 1)\n",
    "            else:\n",
    "                print(\"\\n✅ All messages labeled and saved.\")\n",
    "    \n",
    "    btn.on_click(on_submit)\n",
    "    \n",
    "    display(*dropdowns, btn, out)\n",
    "\n",
    "# Clear the output file before starting labeling\n",
    "with open(output_path, 'w', encoding='utf-8') as f:\n",
    "    pass\n",
    "\n",
    "# Start labeling from first message\n",
    "label_message(subset.iloc[0]['Processed'])\n"
   ]
  }
 ],
 "metadata": {
  "kernelspec": {
   "display_name": "venv",
   "language": "python",
   "name": "python3"
  },
  "language_info": {
   "codemirror_mode": {
    "name": "ipython",
    "version": 3
   },
   "file_extension": ".py",
   "mimetype": "text/x-python",
   "name": "python",
   "nbconvert_exporter": "python",
   "pygments_lexer": "ipython3",
   "version": "3.13.3"
  }
 },
 "nbformat": 4,
 "nbformat_minor": 5
}
