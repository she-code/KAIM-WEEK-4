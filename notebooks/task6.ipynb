{
 "cells": [
  {
   "cell_type": "code",
   "execution_count": 1,
   "id": "6a3ae421",
   "metadata": {},
   "outputs": [],
   "source": [
    "import pyarrow\n",
    "import pandas as pd\n",
    "import numpy as np\n",
    "import os\n",
    "\n",
    "# use paraquet to load the data as-is\n",
    "# Define the target directory path\n",
    "parquet_dir = \"../data/processed/\"\n",
    "\n",
    "# Create the directory if it doesn't exist\n",
    "os.makedirs(parquet_dir, exist_ok=True)  # `exist_ok=True` prevents errors if dir already exists\n",
    "df = pd.read_parquet(os.path.join(parquet_dir, \"metadata.parquet\"))\n"
   ]
  },
  {
   "cell_type": "code",
   "execution_count": 3,
   "id": "8afd690b",
   "metadata": {},
   "outputs": [
    {
     "name": "stdout",
     "output_type": "stream",
     "text": [
      "<class 'pandas.core.frame.DataFrame'>\n",
      "RangeIndex: 1866 entries, 0 to 1865\n",
      "Data columns (total 11 columns):\n",
      " #   Column            Non-Null Count  Dtype              \n",
      "---  ------            --------------  -----              \n",
      " 0   message_id        1866 non-null   int64              \n",
      " 1   channel_name      1866 non-null   object             \n",
      " 2   channel_username  1866 non-null   object             \n",
      " 3   timestamp         1866 non-null   datetime64[ns, UTC]\n",
      " 4   has_media         1866 non-null   bool               \n",
      " 5   media_type        1866 non-null   object             \n",
      " 6   message_length    1866 non-null   int64              \n",
      " 7   word_count        1866 non-null   int64              \n",
      " 8   amharic_ratio     1866 non-null   float64            \n",
      " 9   hour_of_day       1866 non-null   int32              \n",
      " 10  day_of_week       1866 non-null   object             \n",
      "dtypes: bool(1), datetime64[ns, UTC](1), float64(1), int32(1), int64(3), object(4)\n",
      "memory usage: 140.4+ KB\n"
     ]
    }
   ],
   "source": [
    "df.info()\n"
   ]
  },
  {
   "cell_type": "code",
   "execution_count": null,
   "id": "3a94d10e",
   "metadata": {},
   "outputs": [],
   "source": [
    "# Load your actual metadata dataset\n",
    "def load_vendor_data(metadata_df, vendor_username):\n",
    "    \"\"\"\n",
    "    Load data for a specific vendor from your metadata DataFrame\n",
    "    \"\"\"\n",
    "    vendor_df = metadata_df[metadata_df['channel_username'] == vendor_username].copy()\n",
    "    return vendor_df"
   ]
  },
  {
   "cell_type": "code",
   "execution_count": null,
   "id": "234c3c72",
   "metadata": {},
   "outputs": [],
   "source": []
  }
 ],
 "metadata": {
  "kernelspec": {
   "display_name": "venv",
   "language": "python",
   "name": "python3"
  },
  "language_info": {
   "codemirror_mode": {
    "name": "ipython",
    "version": 3
   },
   "file_extension": ".py",
   "mimetype": "text/x-python",
   "name": "python",
   "nbconvert_exporter": "python",
   "pygments_lexer": "ipython3",
   "version": "3.13.3"
  }
 },
 "nbformat": 4,
 "nbformat_minor": 5
}
