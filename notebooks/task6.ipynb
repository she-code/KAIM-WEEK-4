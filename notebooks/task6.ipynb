{
 "cells": [
  {
   "cell_type": "code",
   "execution_count": null,
   "id": "6a3ae421",
   "metadata": {},
   "outputs": [],
   "source": [
    "import pyarrow\n",
    "import pandas as pd\n",
    "import numpy as np\n",
    "import os\n",
    "\n",
    "# use paraquet to load the data as-is\n",
    "# Define the target directory path\n",
    "parquet_dir = \"../data/processed/\"\n",
    "\n",
    "# Create the directory if it doesn't exist\n",
    "os.makedirs(parquet_dir, exist_ok=True)  # `exist_ok=True` prevents errors if dir already exists\n"
   ]
  },
  {
   "cell_type": "markdown",
   "id": "5d218e38",
   "metadata": {},
   "source": [
    "Load Metadata"
   ]
  },
  {
   "cell_type": "code",
   "execution_count": 21,
   "id": "f18115e4",
   "metadata": {},
   "outputs": [],
   "source": [
    "metadata_df = pd.read_parquet(os.path.join(parquet_dir, \"metadata.parquet\"))"
   ]
  },
  {
   "cell_type": "code",
   "execution_count": 5,
   "id": "8afd690b",
   "metadata": {},
   "outputs": [
    {
     "name": "stdout",
     "output_type": "stream",
     "text": [
      "<class 'pandas.core.frame.DataFrame'>\n",
      "RangeIndex: 1866 entries, 0 to 1865\n",
      "Data columns (total 11 columns):\n",
      " #   Column            Non-Null Count  Dtype              \n",
      "---  ------            --------------  -----              \n",
      " 0   message_id        1866 non-null   int64              \n",
      " 1   channel_name      1866 non-null   object             \n",
      " 2   channel_username  1866 non-null   object             \n",
      " 3   timestamp         1866 non-null   datetime64[ns, UTC]\n",
      " 4   has_media         1866 non-null   bool               \n",
      " 5   media_type        1866 non-null   object             \n",
      " 6   message_length    1866 non-null   int64              \n",
      " 7   word_count        1866 non-null   int64              \n",
      " 8   amharic_ratio     1866 non-null   float64            \n",
      " 9   hour_of_day       1866 non-null   int32              \n",
      " 10  day_of_week       1866 non-null   object             \n",
      "dtypes: bool(1), datetime64[ns, UTC](1), float64(1), int32(1), int64(3), object(4)\n",
      "memory usage: 140.4+ KB\n"
     ]
    }
   ],
   "source": [
    "metadata_df.info()\n"
   ]
  },
  {
   "cell_type": "markdown",
   "id": "acebf6e5",
   "metadata": {},
   "source": [
    "Load NER DATA"
   ]
  },
  {
   "cell_type": "code",
   "execution_count": 22,
   "id": "d2b119b5",
   "metadata": {},
   "outputs": [],
   "source": [
    "ner_df = pd.read_csv(\"../data/processed/ner_extracted.csv\")"
   ]
  },
  {
   "cell_type": "code",
   "execution_count": 13,
   "id": "be73e717",
   "metadata": {},
   "outputs": [
    {
     "data": {
      "application/vnd.microsoft.datawrangler.viewer.v0+json": {
       "columns": [
        {
         "name": "index",
         "rawType": "int64",
         "type": "integer"
        },
        {
         "name": "product_name",
         "rawType": "object",
         "type": "string"
        },
        {
         "name": "price",
         "rawType": "float64",
         "type": "float"
        },
        {
         "name": "currency",
         "rawType": "object",
         "type": "string"
        },
        {
         "name": "location",
         "rawType": "object",
         "type": "unknown"
        },
        {
         "name": "contact_info",
         "rawType": "float64",
         "type": "float"
        },
        {
         "name": "is_available",
         "rawType": "bool",
         "type": "boolean"
        },
        {
         "name": "message_id",
         "rawType": "int64",
         "type": "integer"
        },
        {
         "name": "product_category",
         "rawType": "object",
         "type": "string"
        }
       ],
       "ref": "227267e5-9881-443b-b3e9-6f60c993ebf3",
       "rows": [
        [
         "0",
         "BARDEFU 2 IN 1 Multi purpose juicer ኳሊቲ የሆነ የጁስ መፍጫ የጀርመን ቴክኖሎጂ የሆነ 3 ሌትር ጁስ የሚፈጭ ጆግ ያለው የብና እና የቅመማ ቅመም መፍጫ ያለው 8000Watt የሆነ ምላጮቹ ጠንካራ የሆኑ ለቤት እንዲሁም ለስራ የሚሆን አሪፍ እቃ ለአጠቃቀም ቀላል በረዶ ይፈጫል ዋጋ6800ብር ውስን ፍሬ ነው ያለን Limited Stock አድራሻ ቁ1 መገናኛ ታሜ ጋስ ህንፃ ጎን ስሪ ኤም ሲቲ ሞል ሁለተኛ ፎቅ ቢሮ ቁ SL05Aከ ሊፍቱ ፊት ለ ፊት ቁ2 ለቡ መዳህኒዓለም ቤተክርስቲያን ወደ ሙዚቃ ቤት ከፍ ብሎ ዛም_ሞል 2ኛ ፎቅ ቢሮቁ 214 0909522840 0923350054 ለቡ ቅርንጫፍ0973611819 በTelegram ለማዘዝ ይጠቀሙ shager_onlinestore ለተጨማሪ ማብራሪያ የቴሌግራም ገፃችን httpstmeShageronlinestore",
         "6800.0",
         "ETB",
         "ቁ1 መገናኛ ታሜ ጋስ ህንፃ ጎን ስሪ ኤም ሲቲ ሞል ሁለተኛ ፎቅ ቢሮ ቁ SL05Aከ ሊፍቱ ፊት ለ ፊት ቁ2 ለቡ መዳህኒዓለም ቤተክርስቲያን ወደ ሙዚቃ ቤት ከፍ ብሎ ዛም_ሞል 2ኛ ፎቅ ቢሮቁ 214 0909522840 0923350054 ለቡ ቅርንጫፍ0973611819 በTelegram ለማዘዝ ይጠቀሙ shager_onlinestore ለተጨማሪ ማብራሪያ የቴሌግራም ገፃችን httpstmeShageronlinestore",
         "251909522840.0",
         "True",
         "7403",
         "Electronics"
        ],
        [
         "1",
         "portable electrical water dispenser ባለ 3 press ለማንኛውም ዓይነት የውሃ ጀሪካን የሚሆን ቱቦው 55cm የሚረዝም 1200mA ቻርጅ የመያዝ አቅም ያለው ባትሪ መጠጫ ብርጭቆ በራሱ ላይ ማስቀመጥ ይቻላል ዋጋ 1600 ብር አድራሻ ቁ1 መገናኛ ታሜ ጋስ ህንፃ ጎን ስሪ ኤም ሲቲ ሞል ሁለተኛ ፎቅ ቢሮ ቁ SL05Aከ ሊፍቱ ፊት ለ ፊት ቁ2 ለቡ መዳህኒዓለም ቤተክርስቲያን ፊት ለፊት ዛም_ሞል 2ኛ ፎቅ ቢሮ ቁጥር214 0909522840 0923350054 ለቡ ቅርንጫፍ0973611819 በTelegram ለማዘዝ ይጠቀሙ shager_onlinestore ለተጨማሪ ማብራሪያ የቴሌግራም ገፃችን httpstmeShageronlinestore",
         "1600.0",
         "ETB",
         "ቁ1 መገናኛ ታሜ ጋስ ህንፃ ጎን ስሪ ኤም ሲቲ ሞል ሁለተኛ ፎቅ ቢሮ ቁ SL05Aከ ሊፍቱ ፊት ለ ፊት ቁ2 ለቡ መዳህኒዓለም ቤተክርስቲያን ፊት ለፊት ዛም_ሞል 2ኛ ፎቅ ቢሮ ቁጥር214 0909522840 0923350054 ለቡ ቅርንጫፍ0973611819 በTelegram ለማዘዝ ይጠቀሙ shager_onlinestore ለተጨማሪ ማብራሪያ የቴሌግራም ገፃችን httpstmeShageronlinestore",
         "251909522840.0",
         "True",
         "7401",
         "Electronics"
        ],
        [
         "2",
         "GROOMING SET ሶስት በአንድ የያዘ የፀጉር ማሽን እና ሼቨር የሚሰራ ጥራት ባለው ግብአት እና ዲዛየን የተሰራ የራስ ፀጉር እና ፂምን በስርአት እና በጥራት ለማስተካከል አስተማማኝ ማሽን በሚፈልጉት መጠን ለመቁረጥ መቀያየሪ ቁጥሮች ያሉት ጥቃቅን ለስላሳ ምላጮች እየተሽከረከሩ ምቾትን በተላበሰ መልኩ ፂምዎን ያስምሩሉዎታል እንደ ምላጭ ወይም የፀጉር ቶንዶስ ምቾት የማይነሳ በልስላሴ አንገትና አገጭ ስር ሙልጭ አድርጎ የሚላጭ ዋጋ፦ 2300 ብር ዉስን ፍሬ ነው ያለን limited stock አድራሻ ቁ1 መገናኛ ታሜ ጋስ ህንፃ ጎን ስሪ ኤም ሲቲ ሞል ሁለተኛ ፎቅ ቢሮ ቁ SL05Aከ ሊፍቱ ፊት ለ ፊት ቁ2 ለቡ መዳህኒዓለም ቤተክርስቲያን ፊት ለፊት ዛም_ሞል 2ኛ ፎቅ ቢሮ ቁጥር214 0909522840 0923350054 ለቡ ቅርንጫፍ0973611819 በTelegram ለማዘዝ ይጠቀሙ shager_onlinestore ለተጨማሪ ማብራሪያ የቴሌግራም ገፃችን httpstmeShageronlinestore",
         "2300.0",
         "ETB",
         "ቁ1 መገናኛ ታሜ ጋስ ህንፃ ጎን ስሪ ኤም ሲቲ ሞል ሁለተኛ ፎቅ ቢሮ ቁ SL05Aከ ሊፍቱ ፊት ለ ፊት ቁ2 ለቡ መዳህኒዓለም ቤተክርስቲያን ፊት ለፊት ዛም_ሞል 2ኛ ፎቅ ቢሮ ቁጥር214 0909522840 0923350054 ለቡ ቅርንጫፍ0973611819 በTelegram ለማዘዝ ይጠቀሙ shager_onlinestore ለተጨማሪ ማብራሪያ የቴሌግራም ገፃችን httpstmeShageronlinestore",
         "251909522840.0",
         "True",
         "7399",
         "Home Goods"
        ],
        [
         "3",
         "GROOMING SET ሶስት በአንድ የያዘ የፀጉር ማሽን እና ሼቨር የሚሰራ ጥራት ባለው ግብአት እና ዲዛየን የተሰራ የራስ ፀጉር እና ፂምን በስርአት እና በጥራት ለማስተካከል አስተማማኝ ማሽን በሚፈልጉት መጠን ለመቁረጥ መቀያየሪ ቁጥሮች ያሉት ጥቃቅን ለስላሳ ምላጮች እየተሽከረከሩ ምቾትን በተላበሰ መልኩ ፂምዎን ያስምሩሉዎታል እንደ ምላጭ ወይም የፀጉር ቶንዶስ ምቾት የማይነሳ በልስላሴ አንገትና አገጭ ስር ሙልጭ አድርጎ የሚላጭ ዋጋ፦ 2300 ብር ዉስን ፍሬ ነው ያለን limited stock አድራሻ ቁ1 መገናኛ ታሜ ጋስ ህንፃ ጎን ስሪ ኤም ሲቲ ሞል ሁለተኛ ፎቅ ቢሮ ቁ SL05Aከ ሊፍቱ ፊት ለ ፊት ቁ2 ለቡ መዳህኒዓለም ቤተክርስቲያን ፊት ለፊት ዛም_ሞል 2ኛ ፎቅ ቢሮ ቁጥር214 0909522840 0923350054 ለቡ ቅርንጫፍ0973611819 በTelegram ለማዘዝ ይጠቀሙ shager_onlinestore ለተጨማሪ ማብራሪያ የቴሌግራም ገፃችን httpstmeShageronlinestore",
         "2300.0",
         "ETB",
         "ቁ1 መገናኛ ታሜ ጋስ ህንፃ ጎን ስሪ ኤም ሲቲ ሞል ሁለተኛ ፎቅ ቢሮ ቁ SL05Aከ ሊፍቱ ፊት ለ ፊት ቁ2 ለቡ መዳህኒዓለም ቤተክርስቲያን ፊት ለፊት ዛም_ሞል 2ኛ ፎቅ ቢሮ ቁጥር214 0909522840 0923350054 ለቡ ቅርንጫፍ0973611819 በTelegram ለማዘዝ ይጠቀሙ shager_onlinestore ለተጨማሪ ማብራሪያ የቴሌግራም ገፃችን httpstmeShageronlinestore",
         "251909522840.0",
         "True",
         "7395",
         "Home Goods"
        ],
        [
         "4",
         "1L Water Bottle High Quality 1L water time scale reminder outdoor sports and fitness ዋጋ800ብር ውስን ፍሬ ነው ያለን Limited Stock አድራሻ ቁ1 መገናኛ ታሜ ጋስ ህንፃ ጎን ስሪ ኤም ሲቲ ሞል ሁለተኛ ፎቅ ቢሮ ቁ SL05Aከ ሊፍቱ ፊት ለ ፊት ቁ2 ለቡ መዳህኒዓለም ቤተክርስቲያን 100ሜ ወደ ሙዚቃ ቤት ከፍ ብሎ ዛም_ሞል 2ኛ ፎቅ ቢሮቁ 214 0909522840 0923350054 ለቡ ቅርንጫፍ0973611819 በTelegram ለማዘዝ ይጠቀሙ shager_onlinestore ለተጨማሪ ማብራሪያ የቴሌግራም ገፃችን httpstmeShageronlinestore",
         "800.0",
         "ETB",
         "ቁ1 መገናኛ ታሜ ጋስ ህንፃ ጎን ስሪ ኤም ሲቲ ሞል ሁለተኛ ፎቅ ቢሮ ቁ SL05Aከ ሊፍቱ ፊት ለ ፊት ቁ2 ለቡ መዳህኒዓለም ቤተክርስቲያን 100ሜ ወደ ሙዚቃ ቤት ከፍ ብሎ ዛም_ሞል 2ኛ ፎቅ ቢሮቁ 214 0909522840 0923350054 ለቡ ቅርንጫፍ0973611819 በTelegram ለማዘዝ ይጠቀሙ shager_onlinestore ለተጨማሪ ማብራሪያ የቴሌግራም ገፃችን httpstmeShageronlinestore",
         "251909522840.0",
         "True",
         "7393",
         "Home Goods"
        ],
        [
         "5",
         "Sonifer Steam Iron የልብስ መቶከሻ High Quality Ceramic Soleplate Temperature Control dial Powerful Burst Function variable Steam Control Spray and Steam Function Overheat Protection Transparent Water Level Window Flexible 360 Swivel Cord Voltage AC 220240V ዋጋ፦ 2900ብር ዉስን ፍሬ ነው ያለን limited stock አድራሻ ቁ1 መገናኛ ታሜ ጋስ ህንፃ ጎን ስሪ ኤም ሲቲ ሞል ሁለተኛ ፎቅ ቢሮ ቁ SL05Aከ ሊፍቱ ፊት ለ ፊት ቁ2 ለቡ መዳህኒዓለም ቤተክርስቲያን 100ሜ ወደ ሙዚቃ ቤት ከፍ ብሎ ዛም_ሞል 2ኛ ፎቅ ቢሮቁ 214 0909522840 0923350054 ለቡ ቅርንጫፍ0973611819 በTelegram ለማዘዝ ይጠቀሙ shager_onlinestore ለተጨማሪ ማብራሪያ የቴሌግራም ገፃችን httpstmeShageronlinestore",
         "2900.0",
         "ETB",
         "ቁ1 መገናኛ ታሜ ጋስ ህንፃ ጎን ስሪ ኤም ሲቲ ሞል ሁለተኛ ፎቅ ቢሮ ቁ SL05Aከ ሊፍቱ ፊት ለ ፊት ቁ2 ለቡ መዳህኒዓለም ቤተክርስቲያን 100ሜ ወደ ሙዚቃ ቤት ከፍ ብሎ ዛም_ሞል 2ኛ ፎቅ ቢሮቁ 214 0909522840 0923350054 ለቡ ቅርንጫፍ0973611819 በTelegram ለማዘዝ ይጠቀሙ shager_onlinestore ለተጨማሪ ማብራሪያ የቴሌግራም ገፃችን httpstmeShageronlinestore",
         "251909522840.0",
         "True",
         "7391",
         "Food"
        ],
        [
         "6",
         "Sayona multifunctional juicer and extractor Best Quality ብርቱካን ካሮት አፕል አናናስ ጁስ ይሰራል ፋይበሩን ለብቻ ያስወግዴል የፍራፍሬ ጁስ ይሰራል ሽንኩርትና ስጋ ይፈጫል ቡናና ቅመማ ቅመም ይፈጫል። ዋጋ፦8500 ብር ውስን ፍሬ ነው ያለን Limited Stock አድራሻ ቁ1 መገናኛ ታሜ ጋስ ህንፃ ጎን ስሪ ኤም ሲቲ ሞል ሁለተኛ ፎቅ ቢሮ ቁ SL05Aከ ሊፍቱ ፊት ለ ፊት ቁ2 ለቡ መዳህኒዓለም ቤተክርስቲያን ወደ ሙዚቃ ቤት ከፍ ብሎ ዛም_ሞል 2ኛ ፎቅ ቢሮቁ 214 0909522840 0923350054 ለቡ ቅርንጫፍ0973611819 በTelegram ለማዘዝ ይጠቀሙ shager_onlinestore ለተጨማሪ ማብራሪያ የቴሌግራም ገፃችን httpstmeShageronlinestore",
         "8500.0",
         "ETB",
         "ቁ1 መገናኛ ታሜ ጋስ ህንፃ ጎን ስሪ ኤም ሲቲ ሞል ሁለተኛ ፎቅ ቢሮ ቁ SL05Aከ ሊፍቱ ፊት ለ ፊት ቁ2 ለቡ መዳህኒዓለም ቤተክርስቲያን ወደ ሙዚቃ ቤት ከፍ ብሎ ዛም_ሞል 2ኛ ፎቅ ቢሮቁ 214 0909522840 0923350054 ለቡ ቅርንጫፍ0973611819 በTelegram ለማዘዝ ይጠቀሙ shager_onlinestore ለተጨማሪ ማብራሪያ የቴሌግራም ገፃችን httpstmeShageronlinestore",
         "251909522840.0",
         "True",
         "7390",
         "Electronics"
        ],
        [
         "7",
         "2in1 long handled bath brush ለአያያዝ ምቹ በቀላሉ የማንደርስበትን የጀርባ ክፍል ለማሸት ተመራጭ ለቆዳ ተስማሚ የሆነ ብሩሽ በሁለቱም በኩል የሚያሽ ዋጋ፦ 450 ብር አድራሻ ቁ1 ስሪ ኤም ሲቲ ሞል ሁለተኛ ፎቅ ቢሮ ቁ SL05Aከ ሊፍቱ ፊት ለ ፊት ቁ2 ለቡ መዳህኒዓለም ቤተክርስቲያን 100ሜ ወደ ሙዚቃ ቤት ከፍ ብሎ ዛም_ሞል 2ኛ ፎቅ ቢሮቁ 214 0909522840 0923350054 ለቡ ቅርንጫፍ0973611819 በTelegram ለማዘዝ ይጠቀሙ shager_onlinestore ለተጨማሪ ማብራሪያ የቴሌግራም ገፃችን httpstmeShageronlinestore",
         "450.0",
         "ETB",
         "ቁ1 ስሪ ኤም ሲቲ ሞል ሁለተኛ ፎቅ ቢሮ ቁ SL05Aከ ሊፍቱ ፊት ለ ፊት ቁ2 ለቡ መዳህኒዓለም ቤተክርስቲያን 100ሜ ወደ ሙዚቃ ቤት ከፍ ብሎ ዛም_ሞል 2ኛ ፎቅ ቢሮቁ 214 0909522840 0923350054 ለቡ ቅርንጫፍ0973611819 በTelegram ለማዘዝ ይጠቀሙ shager_onlinestore ለተጨማሪ ማብራሪያ የቴሌግራም ገፃችን httpstmeShageronlinestore",
         "251909522840.0",
         "True",
         "7384",
         "Other"
        ],
        [
         "8",
         "Miralux Hot plate ባለሁለት ምድጃ ስቶቭ orginal 2000 ዋት ፊውዝ የተገጠመለት ትልቅ ድስት መሸከም የሚችል አስተማማኝ ቴርሞስታት ባለ ፊውዝ ዋጋ፦ ትልቁ 2900ብር አድራሻ ቁ1 መገናኛ ስሪ ኤም ሲቲ ሞል ሁለተኛ ፎቅ ቢሮ ቁ SL05Aከ ሊፍቱ ፊት ለ ፊት ቁ2 ለቡ መዳህኒዓለም ቤተክርስቲያን ፊት ለፊት ዛም_ሞል 2ኛ ፎቅ ቢሮ ቁጥር214 ለቡ ቅርንጫፍ0973611819 0909522840 0923350054 በTelegram ለማዘዝ ይጠቀሙ shager_onlinestore ለተጨማሪ ማብራሪያ የቴሌግራም ገፃችን httpstmeShageronlinestore",
         "2900.0",
         "ETB",
         "ቁ1 መገናኛ ስሪ ኤም ሲቲ ሞል ሁለተኛ ፎቅ ቢሮ ቁ SL05Aከ ሊፍቱ ፊት ለ ፊት ቁ2 ለቡ መዳህኒዓለም ቤተክርስቲያን ፊት ለፊት ዛም_ሞል 2ኛ ፎቅ ቢሮ ቁጥር214 ለቡ ቅርንጫፍ0973611819 0909522840 0923350054 በTelegram ለማዘዝ ይጠቀሙ shager_onlinestore ለተጨማሪ ማብራሪያ የቴሌግራም ገፃችን httpstmeShageronlinestore",
         "251973611819.0",
         "True",
         "7383",
         "Other"
        ],
        [
         "9",
         "7pcs glass water set አንድ ማራኪ ጆግና 6 መጠጫ ብርጭቆዎች የፈሳሽ መጠጥ ማቅረቢያ ከፍተኛ ሙቀት የሚቋቋም ኳሊቲ ወፍራም ዋጋ፦ 3400 ብር ውስን ፍሬ ነው የቀረው አድራሻ ቁ1 መገናኛ ታሜ ጋስ ህንፃ ጎን ስሪ ኤም ሲቲ ሞል ሁለተኛ ፎቅ ቢሮ ቁ SL05Aከ ሊፍቱ ፊት ለ ፊት ቁ2 ለቡ መዳህኒዓለም ቤተክርስቲያን 100ሜ ወደ ሙዚቃ ቤት ከፍ ብሎ ዛም_ሞል 2ኛ ፎቅ ቢሮቁ 214 0909522840 0923350054 ለቡ ቅርንጫፍ0973611819 በTelegram ለማዘዝ ይጠቀሙ shager_onlinestore ለተጨማሪ ማብራሪያ የቴሌግራም ገፃችን httpstmeShageronlinestore",
         "3400.0",
         "ETB",
         "ቁ1 መገናኛ ታሜ ጋስ ህንፃ ጎን ስሪ ኤም ሲቲ ሞል ሁለተኛ ፎቅ ቢሮ ቁ SL05Aከ ሊፍቱ ፊት ለ ፊት ቁ2 ለቡ መዳህኒዓለም ቤተክርስቲያን 100ሜ ወደ ሙዚቃ ቤት ከፍ ብሎ ዛም_ሞል 2ኛ ፎቅ ቢሮቁ 214 0909522840 0923350054 ለቡ ቅርንጫፍ0973611819 በTelegram ለማዘዝ ይጠቀሙ shager_onlinestore ለተጨማሪ ማብራሪያ የቴሌግራም ገፃችን httpstmeShageronlinestore",
         "251909522840.0",
         "True",
         "7382",
         "Home Goods"
        ],
        [
         "10",
         "special base for refrigerator and washing machine Home moving furniture caster wheel heavy objects transporter small mover laborsaving moving wheels bed tool ዋጋ፦ 2000 ብር ውስን ፍሬ ነው ያለው አድራሻ ቁ1 መገናኛ ታሜ ጋስ ህንፃ ጎን ስሪ ኤም ሲቲ ሞል ሁለተኛ ፎቅ ቢሮ ቁ SL05Aከ ሊፍቱ ፊት ለ ፊት ቁ2 ለቡ መዳህኒዓለም ቤተክርስቲያን ፊት ለፊት ዛም_ሞል 2ኛ ፎቅ ቢሮ ቁጥር214 0909522840 0923350054 ለቡ ቅርንጫፍ0973611819 በTelegram ለማዘዝ ይጠቀሙ shager_onlinestore ለተጨማሪ ማብራሪያ የቴሌግራም ገፃችን httpstmeShageronlinestore",
         "2000.0",
         "ETB",
         "ቁ1 መገናኛ ታሜ ጋስ ህንፃ ጎን ስሪ ኤም ሲቲ ሞል ሁለተኛ ፎቅ ቢሮ ቁ SL05Aከ ሊፍቱ ፊት ለ ፊት ቁ2 ለቡ መዳህኒዓለም ቤተክርስቲያን ፊት ለፊት ዛም_ሞል 2ኛ ፎቅ ቢሮ ቁጥር214 0909522840 0923350054 ለቡ ቅርንጫፍ0973611819 በTelegram ለማዘዝ ይጠቀሙ shager_onlinestore ለተጨማሪ ማብራሪያ የቴሌግራም ገፃችን httpstmeShageronlinestore",
         "251909522840.0",
         "True",
         "7375",
         "Home Goods"
        ],
        [
         "11",
         "Vintage Mason Glass Drinking Jar with Straw የራሳቸው ስትሮ ያላቸው እጅግ ውብ የሆኑ የጁስ መጠጫ ብርጭቆወች 500ml ዋጋ፦ 550ብር ውስን ፍሬ ነው ያለው አድራሻ ቁ1 መገናኛ ስሪ ኤም ሲቲ ሞል ሁለተኛ ፎቅ ቢሮ ቁ SL05Aከ ሊፍቱ ፊት ለ ፊት ቁ2 ለቡ መዳህኒዓለም ቤተክርስቲያን ፊት ለፊት ዛም_ሞል 2ኛ ፎቅ ቢሮ ቁጥር214 ለቡ ቅርንጫፍ0973611819 0909522840 0923350054 በTelegram ለማዘዝ ይጠቀሙ shager_onlinestore ለተጨማሪ ማብራሪያ የቴሌግራም ገፃችን httpstmeShageronlinestore",
         "550.0",
         "ETB",
         "ቁ1 መገናኛ ስሪ ኤም ሲቲ ሞል ሁለተኛ ፎቅ ቢሮ ቁ SL05Aከ ሊፍቱ ፊት ለ ፊት ቁ2 ለቡ መዳህኒዓለም ቤተክርስቲያን ፊት ለፊት ዛም_ሞል 2ኛ ፎቅ ቢሮ ቁጥር214 ለቡ ቅርንጫፍ0973611819 0909522840 0923350054 በTelegram ለማዘዝ ይጠቀሙ shager_onlinestore ለተጨማሪ ማብራሪያ የቴሌግራም ገፃችን httpstmeShageronlinestore",
         "251973611819.0",
         "True",
         "7370",
         "Other"
        ],
        [
         "12",
         "HOBBY LOBBY 3 in 1 Chopper and Garlic Peeler ስጋ እና ሽንኩርት በሰከንዶች ድቅቅ የሚያደርግ የነጭ_ሽንኩርት የራሱ መላጫ ያለው Two 3liter jars One is metal and the other is thick glass With 4 blades and 2 blades grinder Meat gizzards vegetables onions and garlic are ground into it Dried and peeled garlic cloves with a peeler An additional switch with 4 blades 3press grinder ዋጋ 3900ብር ውስን ፍሬ ነው ያለን Limited Stock አድራሻ ቁ1 መገናኛ ታሜ ጋስ ህንፃ ጎን ስሪ ኤም ሲቲ ሞል ሁለተኛ ፎቅ ቢሮ ቁ SL05Aከ ሊፍቱ ፊት ለ ፊት ቁ2 ለቡ መዳህኒዓለም ቤተክርስቲያን 100ሜ ወደ ሙዚቃ ቤት ከፍ ብሎ ዛም_ሞል 2ኛ ፎቅ ቢሮቁ 214 0909522840 0923350054 ለቡ ቅርንጫፍ0973611819 በTelegram ለማዘዝ ይጠቀሙ shager_onlinestore ለተጨማሪ ማብራሪያ የቴሌግራም ገፃችን httpstmeShageronlinestore",
         "3900.0",
         "ETB",
         "ቁ1 መገናኛ ታሜ ጋስ ህንፃ ጎን ስሪ ኤም ሲቲ ሞል ሁለተኛ ፎቅ ቢሮ ቁ SL05Aከ ሊፍቱ ፊት ለ ፊት ቁ2 ለቡ መዳህኒዓለም ቤተክርስቲያን 100ሜ ወደ ሙዚቃ ቤት ከፍ ብሎ ዛም_ሞል 2ኛ ፎቅ ቢሮቁ 214 0909522840 0923350054 ለቡ ቅርንጫፍ0973611819 በTelegram ለማዘዝ ይጠቀሙ shager_onlinestore ለተጨማሪ ማብራሪያ የቴሌግራም ገፃችን httpstmeShageronlinestore",
         "251909522840.0",
         "True",
         "7366",
         "Other"
        ],
        [
         "13",
         "አልቆል_ለተባላችሁ_በድጋሚ_አስገብተናል የመስታዎት ፓትራዎች glass bakewares Rectagular shape ገበታ ላይ መቅረብ የሚችሉ ውብ የመስታዎት ፓትራዎች ሶስት የተለያየ መጠን ያላቸው 31 ሊ ፣ 25 ሊ፣ 18ሊ ፓትራዎችን የያዘ ለላዛኛ ፣ ፓስታ ፍርኖ፣ ኬክ ተመራጭ ውብና ማራኪ ገበታ ላይ መቅረብ የሚችሉ ውፍራም ማንኛውንም ሙቀት የሚቋቋም ዋጋ፦ ሶስቱን በ 3800 ብር ውስን ፍሬ ነው ያለን Limited Stock አድራሻ ቁ1 መገናኛ ታሜ ጋስ ህንፃ ጎን ስሪ ኤም ሲቲ ሞል ሁለተኛ ፎቅ ቢሮ ቁ SL05Aከ ሊፍቱ ፊት ለ ፊት ቁ2 ለቡ መዳህኒዓለም ቤተክርስቲያን 100ሜ ወደ ሙዚቃ ቤት ከፍ ብሎ ዛም_ሞል 2ኛ ፎቅ ቢሮቁ 214 0909522840 0923350054 ለቡ ቅርንጫፍ0973611819 በTelegram ለማዘዝ ይጠቀሙ shager_onlinestore ለተጨማሪ ማብራሪያ የቴሌግራም ገፃችን httpstmeShageronlinestore",
         "3800.0",
         "ETB",
         "ቁ1 መገናኛ ታሜ ጋስ ህንፃ ጎን ስሪ ኤም ሲቲ ሞል ሁለተኛ ፎቅ ቢሮ ቁ SL05Aከ ሊፍቱ ፊት ለ ፊት ቁ2 ለቡ መዳህኒዓለም ቤተክርስቲያን 100ሜ ወደ ሙዚቃ ቤት ከፍ ብሎ ዛም_ሞል 2ኛ ፎቅ ቢሮቁ 214 0909522840 0923350054 ለቡ ቅርንጫፍ0973611819 በTelegram ለማዘዝ ይጠቀሙ shager_onlinestore ለተጨማሪ ማብራሪያ የቴሌግራም ገፃችን httpstmeShageronlinestore",
         "251909522840.0",
         "True",
         "7360",
         "Other"
        ],
        [
         "14",
         "3in1 delux multifunctional bassinet ከግራ ወደቀኝ እየተንቀሳቀሰ ልጆችን እሹሩሩ እያለ የሚያጫውት የሚያስተኛ የራሱ ሪሞት ያለው የራሱ ሙዚቃዎች ያሉት እንዲሁም በብሉቱዝ እና በፍላሽ የምንፈልገውን ሙዚቃ ማጫዎት እንችላለን በሶኬት እና በባትሪ ድንጋይ የሚሰራ ልጆች ከፍ ሲሉ እንደ ወንበር ያገለግላቸዋል ዋጋ፦ 14000 ብር ውስን ፍሬ ነው ያለው አድራሻ ቁ1 መገናኛ ታሜ ጋስ ህንፃ ጎን ስሪ ኤም ሲቲ ሞል ሁለተኛ ፎቅ ቢሮ ቁ SL05Aከ ሊፍቱ ፊት ለ ፊት ቁ2 ለቡ መዳህኒዓለም ቤተክርስቲያን 100ሜ ወደ ሙዚቃ ቤት ከፍ ብሎ ዛም_ሞል 2ኛ ፎቅ ቢሮቁ 214 0909522840 0923350054 ለቡ ቅርንጫፍ0973611819 በTelegram ለማዘዝ ይጠቀሙ shager_onlinestore ለተጨማሪ ማብራሪያ የቴሌግራም ገፃችን httpstmeShageronlinestore",
         "14000.0",
         "ETB",
         "ቁ1 መገናኛ ታሜ ጋስ ህንፃ ጎን ስሪ ኤም ሲቲ ሞል ሁለተኛ ፎቅ ቢሮ ቁ SL05Aከ ሊፍቱ ፊት ለ ፊት ቁ2 ለቡ መዳህኒዓለም ቤተክርስቲያን 100ሜ ወደ ሙዚቃ ቤት ከፍ ብሎ ዛም_ሞል 2ኛ ፎቅ ቢሮቁ 214 0909522840 0923350054 ለቡ ቅርንጫፍ0973611819 በTelegram ለማዘዝ ይጠቀሙ shager_onlinestore ለተጨማሪ ማብራሪያ የቴሌግራም ገፃችን httpstmeShageronlinestore",
         "251909522840.0",
         "True",
         "7357",
         "Other"
        ],
        [
         "15",
         "Electric Hot plate በኤሌክትሪክ የሚሰራ የራሱ ሙቀት መቆጣጠሪያ ያለው 1400 watt ለማንቀሳቀስ የራሱ መያዣ ያለው ከጀበና እስከ ትልቅ ድስቶች የሚመች ዋጋ፦ 4500ብር ውስን ፍሬ ነው የቀረው አድራሻ ቁ1 መገናኛ ታሜ ጋስ ህንፃ ጎን ስሪ ኤም ሲቲ ሞል ሁለተኛ ፎቅ ቢሮ ቁ SL05Aከ ሊፍቱ ፊት ለ ፊት ቁ2 ለቡ መዳህኒዓለም ቤተክርስቲያን 100ሜ ወደ ሙዚቃ ቤት ከፍ ብሎ ዛም_ሞል 2ኛ ፎቅ ቢሮቁ 214 0909522840 0923350054 ለቡ ቅርንጫፍ0973611819 በTelegram ለማዘዝ ይጠቀሙ shager_onlinestore ለተጨማሪ ማብራሪያ የቴሌግራም ገፃችን httpstmeShageronlinestore",
         "4500.0",
         "ETB",
         "ቁ1 መገናኛ ታሜ ጋስ ህንፃ ጎን ስሪ ኤም ሲቲ ሞል ሁለተኛ ፎቅ ቢሮ ቁ SL05Aከ ሊፍቱ ፊት ለ ፊት ቁ2 ለቡ መዳህኒዓለም ቤተክርስቲያን 100ሜ ወደ ሙዚቃ ቤት ከፍ ብሎ ዛም_ሞል 2ኛ ፎቅ ቢሮቁ 214 0909522840 0923350054 ለቡ ቅርንጫፍ0973611819 በTelegram ለማዘዝ ይጠቀሙ shager_onlinestore ለተጨማሪ ማብራሪያ የቴሌግራም ገፃችን httpstmeShageronlinestore",
         "251909522840.0",
         "True",
         "7348",
         "Other"
        ],
        [
         "16",
         "Portable Folding Stool ተጣጣፊ ወንበር እስከ 100kg ክብደት የሚሸከም ከወፍራም ፕላስቲክ የተሰራ ቤተ ዕምነት ውስጥ፣ ቤት ውስጥ ፣ ስራ ቦታ እና መዝናኛ ቦታ ይገለገሉበታል 48cm ቁመት ሲኖረው መቀመጫው 22cm28cm ስፋት ያለው ለመያዝና ለማስቀመጥ የሚመች ቅልጥፋ ያለ ዋጋትልቁ1700 ብር ትንሹ1500ብር ውስን ፍሬ ነው ያለው አድራሻ ቁ1 መገናኛ ታሜ ጋስ ህንፃ ጎን ስሪ ኤም ሲቲ ሞል ሁለተኛ ፎቅ ቢሮ ቁ SL05Aከ ሊፍቱ ፊት ለ ፊት ቁ2 ለቡ መዳህኒዓለም ቤተክርስቲያን 100ሜ ወደ ሙዚቃ ቤት ከፍ ብሎ ዛም_ሞል 2ኛ ፎቅ ቢሮቁ 214 0909522840 0923350054 ለቡ ቅርንጫፍ0973611819 በTelegram ለማዘዝ ይጠቀሙ shager_onlinestore ለተጨማሪ ማብራሪያ የቴሌግራም ገፃችን httpstmeShageronlinestore",
         "1700.0",
         "ETB",
         "እና መዝናኛ ቦታ ይገለገሉበታል 48cm ቁመት ሲኖረው መቀመጫው 22cm28cm ስፋት ያለው ለመያዝና ለማስቀመጥ የሚመች ቅልጥፋ ያለ ዋጋትልቁ1700 ብር ትንሹ1500ብር ውስን ፍሬ ነው ያለው አድራሻ ቁ1 መገናኛ ታሜ ጋስ ህንፃ ጎን ስሪ ኤም ሲቲ ሞል ሁለተኛ ፎቅ ቢሮ ቁ SL05Aከ ሊፍቱ ፊት ለ ፊት ቁ2 ለቡ መዳህኒዓለም ቤተክርስቲያን 100ሜ ወደ ሙዚቃ ቤት ከፍ ብሎ ዛም_ሞል 2ኛ ፎቅ ቢሮቁ 214 0909522840 0923350054 ለቡ ቅርንጫፍ0973611819 በTelegram ለማዘዝ ይጠቀሙ shager_onlinestore ለተጨማሪ ማብራሪያ የቴሌግራም ገፃችን httpstmeShageronlinestore",
         "251909522840.0",
         "True",
         "7343",
         "Other"
        ],
        [
         "17",
         "Multifunction Juice Extractor ለአፕል ብርቱካን፣ ካሮት፣ አናናስ፣ ቲማቲም የመሳሰሉትን እየጨመቀ ቆሻሻውን ፡ ለብቻ፡ እያጣራ፡ ውሃውን እየጨመቀ፡ ወደራሱ ጆክ የሚቀዳ፤ የፍራፍሬ፤ ዋጋ፦ 5500 ብር ውስን ፍሬ ነው የቀረው አድራሻ ቁ1 መገናኛ ታሜ ጋስ ህንፃ ጎን ስሪ ኤም ሲቲ ሞል ሁለተኛ ፎቅ ቢሮ ቁ SL05Aከ ሊፍቱ ፊት ለ ፊት ቁ2 ለቡ መዳህኒዓለም ቤተክርስቲያን 100ሜ ወደ ሙዚቃ ቤት ከፍ ብሎ ዛም_ሞል 2ኛ ፎቅ ቢሮቁ 214 0909522840 0923350054 ለቡ ቅርንጫፍ0973611819 በTelegram ለማዘዝ ይጠቀሙ shager_onlinestore ለተጨማሪ ማብራሪያ የቴሌግራም ገፃችን httpstmeShageronlinestore",
         "5500.0",
         "ETB",
         "ቁ1 መገናኛ ታሜ ጋስ ህንፃ ጎን ስሪ ኤም ሲቲ ሞል ሁለተኛ ፎቅ ቢሮ ቁ SL05Aከ ሊፍቱ ፊት ለ ፊት ቁ2 ለቡ መዳህኒዓለም ቤተክርስቲያን 100ሜ ወደ ሙዚቃ ቤት ከፍ ብሎ ዛም_ሞል 2ኛ ፎቅ ቢሮቁ 214 0909522840 0923350054 ለቡ ቅርንጫፍ0973611819 በTelegram ለማዘዝ ይጠቀሙ shager_onlinestore ለተጨማሪ ማብራሪያ የቴሌግራም ገፃችን httpstmeShageronlinestore",
         "251909522840.0",
         "True",
         "7339",
         "Other"
        ],
        [
         "18",
         "1pc stainless steel loaf pan ትልቁ ዋጋትልቁ1000ብር ውስን ፍሬ ነው ያለው አድራሻ ቁ1 ስሪ ኤም ሲቲ ሞል ሁለተኛ ፎቅ ቢሮ ቁ SL05Aከ ሊፍቱ ፊት ለ ፊት ቁ2 ለቡ መዳህኒዓለም ቤተክርስቲያን ፊት ለፊት ዛም_ሞል 2ኛ ፎቅ ቢሮ ቁጥር214 ለቡ ቅርንጫፍ0973611819 0909522840 0923350054 በTelegram ለማዘዝ ይጠቀሙ shager_onlinestore ለተጨማሪ ማብራሪያ የቴሌግራም ገፃችን httpstmeShageronlinestore",
         "1000.0",
         "ETB",
         "ቁ1 ስሪ ኤም ሲቲ ሞል ሁለተኛ ፎቅ ቢሮ ቁ SL05Aከ ሊፍቱ ፊት ለ ፊት ቁ2 ለቡ መዳህኒዓለም ቤተክርስቲያን ፊት ለፊት ዛም_ሞል 2ኛ ፎቅ ቢሮ ቁጥር214 ለቡ ቅርንጫፍ0973611819 0909522840 0923350054 በTelegram ለማዘዝ ይጠቀሙ shager_onlinestore ለተጨማሪ ማብራሪያ የቴሌግራም ገፃችን httpstmeShageronlinestore",
         "251973611819.0",
         "True",
         "7336",
         "Other"
        ],
        [
         "19",
         "Infantino Cuddle Up Ergonomic Baby Carrier Carries children from 1240lbs 54 181 kgs Comfortable ergonomic seat for baby 2 ways to carry Front and Backpack Removable canopy hood with adorable teddy bear styling Machine washable ዋጋ፦ 3200 ብር አድራሻ ቁ1 መገናኛ ታሜ ጋስ ህንፃ ጎን ስሪ ኤም ሲቲ ሞል ሁለተኛ ፎቅ ቢሮ ቁ SL05Aከ ሊፍቱ ፊት ለ ፊት ቁ2 ለቡ መዳህኒዓለም ቤተክርስቲያን ፊት ለፊት ዛም_ሞል 2ኛ ፎቅ ቢሮ ቁጥር214 0909522840 0923350054 ለቡ ቅርንጫፍ0973611819 በTelegram ለማዘዝ ይጠቀሙ shager_onlinestore ለተጨማሪ ማብራሪያ የቴሌግራም ገፃችን httpstmeShageronlinestore",
         "3200.0",
         "ETB",
         "ቁ1 መገናኛ ታሜ ጋስ ህንፃ ጎን ስሪ ኤም ሲቲ ሞል ሁለተኛ ፎቅ ቢሮ ቁ SL05Aከ ሊፍቱ ፊት ለ ፊት ቁ2 ለቡ መዳህኒዓለም ቤተክርስቲያን ፊት ለፊት ዛም_ሞል 2ኛ ፎቅ ቢሮ ቁጥር214 0909522840 0923350054 ለቡ ቅርንጫፍ0973611819 በTelegram ለማዘዝ ይጠቀሙ shager_onlinestore ለተጨማሪ ማብራሪያ የቴሌግራም ገፃችን httpstmeShageronlinestore",
         "251909522840.0",
         "True",
         "7332",
         "Other"
        ],
        [
         "20",
         "Expanding Cookware Organiser minimum size 305cm Maximum size 56cm ዋጋ፦ 850 ብር ውስን ፍሬ ነው ያለው አድራሻ መገናኛ ስሪ ኤም ሲቲ ሞል ሁለተኛ ፎቅ ቢሮ ቁ SL05Aከ ሊፍቱ ፊት ለ ፊት ቁ2 ለቡ መዳህኒዓለም ቤተክርስቲያን 100ሜ ወደ ሙዚቃ ቤት ከፍ ብሎ ዛም_ሞል 2ኛ ፎቅ ቢሮቁ 214 0909522840 0923350054 ለቡ ቅርንጫፍ0973611819 በTelegram ለማዘዝ ይጠቀሙ shager_onlinestore ለተጨማሪ ማብራሪያ የቴሌግራም ገፃችን httpstmeShageronlinestore",
         "850.0",
         "ETB",
         "መገናኛ ስሪ ኤም ሲቲ ሞል ሁለተኛ ፎቅ ቢሮ ቁ SL05Aከ ሊፍቱ ፊት ለ ፊት ቁ2 ለቡ መዳህኒዓለም ቤተክርስቲያን 100ሜ ወደ ሙዚቃ ቤት ከፍ ብሎ ዛም_ሞል 2ኛ ፎቅ ቢሮቁ 214 0909522840 0923350054 ለቡ ቅርንጫፍ0973611819 በTelegram ለማዘዝ ይጠቀሙ shager_onlinestore ለተጨማሪ ማብራሪያ የቴሌግራም ገፃችን httpstmeShageronlinestore",
         "251909522840.0",
         "True",
         "7329",
         "Other"
        ],
        [
         "21",
         "36 pairs over the door shoe rack በቀላሉ የሚገጣጠም የሚነቃቀል ኑሮን የሚያቀል ቦታ የማይዝ ለአጠቃቀም በጣም ቀላል ባለ 12 መደርደሪያ 36 ጫማ የሚይዝ በር ላይ ተንጠልጣይ Size 5020183cm ዋጋ3100 ብር ውስን ፍሬ ነው ያለን Limited Stock አድራሻ ቁ1 መገናኛ ታሜ ጋስ ህንፃ ጎን ስሪ ኤም ሲቲ ሞል ሁለተኛ ፎቅ ቢሮ ቁ SL05Aከ ሊፍቱ ፊት ለ ፊት ቁ2 ለቡ መዳህኒዓለም ቤተክርስቲያን 100ሜ ወደ ሙዚቃ ቤት ከፍ ብሎ ዛም_ሞል 2ኛ ፎቅ ቢሮቁ 214 0909522840 0923350054 ለቡ ቅርንጫፍ0973611819 በTelegram ለማዘዝ ይጠቀሙ shager_onlinestore ለተጨማሪ ማብራሪያ የቴሌግራም ገፃችን httpstmeShageronlinestore",
         "3100.0",
         "ETB",
         "የማይዝ ለአጠቃቀም በጣም ቀላል ባለ 12 መደርደሪያ 36 ጫማ የሚይዝ በር ላይ ተንጠልጣይ Size 5020183cm ዋጋ3100 ብር ውስን ፍሬ ነው ያለን Limited Stock አድራሻ ቁ1 መገናኛ ታሜ ጋስ ህንፃ ጎን ስሪ ኤም ሲቲ ሞል ሁለተኛ ፎቅ ቢሮ ቁ SL05Aከ ሊፍቱ ፊት ለ ፊት ቁ2 ለቡ መዳህኒዓለም ቤተክርስቲያን 100ሜ ወደ ሙዚቃ ቤት ከፍ ብሎ ዛም_ሞል 2ኛ ፎቅ ቢሮቁ 214 0909522840 0923350054 ለቡ ቅርንጫፍ0973611819 በTelegram ለማዘዝ ይጠቀሙ shager_onlinestore ለተጨማሪ ማብራሪያ የቴሌግራም ገፃችን httpstmeShageronlinestore",
         "251909522840.0",
         "True",
         "7323",
         "Clothing"
        ],
        [
         "22",
         "Rechargeable Breast Pump BPA Free portable ዋጋ፦ 2100 ብር አድራሻ ቁ1 መገናኛ ታሜ ጋስ ህንፃ ጎን ስሪ ኤም ሲቲ ሞል ሁለተኛ ፎቅ ቢሮ ቁ SL05Aከ ሊፍቱ ፊት ለ ፊት ቁ2 ለቡ መዳህኒዓለም ቤተክርስቲያን ፊት ለፊት ዛም_ሞል 2ኛ ፎቅ ቢሮ ቁጥር214 0909522840 0923350054 ለቡ ቅርንጫፍ0973611819 በTelegram ለማዘዝ ይጠቀሙ shager_onlinestore ለተጨማሪ ማብራሪያ የቴሌግራም ገፃችን httpstmeShageronlinestore",
         "2100.0",
         "ETB",
         "ቁ1 መገናኛ ታሜ ጋስ ህንፃ ጎን ስሪ ኤም ሲቲ ሞል ሁለተኛ ፎቅ ቢሮ ቁ SL05Aከ ሊፍቱ ፊት ለ ፊት ቁ2 ለቡ መዳህኒዓለም ቤተክርስቲያን ፊት ለፊት ዛም_ሞል 2ኛ ፎቅ ቢሮ ቁጥር214 0909522840 0923350054 ለቡ ቅርንጫፍ0973611819 በTelegram ለማዘዝ ይጠቀሙ shager_onlinestore ለተጨማሪ ማብራሪያ የቴሌግራም ገፃችን httpstmeShageronlinestore",
         "251909522840.0",
         "True",
         "7316",
         "Other"
        ],
        [
         "23",
         "SAACHI CERAMIC PIZZA PAN ለቤትና ለሬስቶራንት አገልግሎት የሚውል ለአጠቃቀም ሆነ ለአያያዝ ቀላልና ምቹ የሆነ እንዲሁም ለፒዛ ፣ ለቡና መቁያነት ፣ ለአንባሻ ፣ ለጨጨብሳ ፣ ለፈጢራ ፣ ለዳቦ ፣ ለጥብስና ለተለያዩ አገልግሎቶች የሚሆን ከ normal pizza pan በጥራት የተሻለ አነስተኛ የኤሌክትሪክ ፍጆታ የሚጠቀም ዋጋ፦6000ብር ውስን ፍሬ ነው ያለው አድራሻ ቁ1 መገናኛ ስሪ ኤም ሲቲ ሞል ሁለተኛ ፎቅ ቢሮ ቁ SL05Aከ ሊፍቱ ፊት ለ ፊት ቁ2 ለቡ መዳህኒዓለም ቤተክርስቲያን ፊት ለፊት ዛም_ሞል 2ኛ ፎቅ ቢሮ ቁጥር214 ለቡ ቅርንጫፍ0973611819 0909522840 0923350054 በTelegram ለማዘዝ ይጠቀሙ shager_onlinestore ለተጨማሪ ማብራሪያ የቴሌግራም ገፃችን httpstmeShageronlinestore",
         "6000.0",
         "ETB",
         "ቁ1 መገናኛ ስሪ ኤም ሲቲ ሞል ሁለተኛ ፎቅ ቢሮ ቁ SL05Aከ ሊፍቱ ፊት ለ ፊት ቁ2 ለቡ መዳህኒዓለም ቤተክርስቲያን ፊት ለፊት ዛም_ሞል 2ኛ ፎቅ ቢሮ ቁጥር214 ለቡ ቅርንጫፍ0973611819 0909522840 0923350054 በTelegram ለማዘዝ ይጠቀሙ shager_onlinestore ለተጨማሪ ማብራሪያ የቴሌግራም ገፃችን httpstmeShageronlinestore",
         "251973611819.0",
         "True",
         "7315",
         "Other"
        ],
        [
         "24",
         "12pcs Silicone Kitchen Set 220c ድረስ መቆቆም እሚችል available in different colors ዋጋ፦ 2000ብር አድራሻ ቁ1 መገናኛ ስሪ ኤም ሲቲ ሞል ሁለተኛ ፎቅ ቢሮ ቁ SL05Aከ ሊፍቱ ፊት ለ ፊት ቁ2 ለቡ መዳህኒዓለም ቤተክርስቲያን ፊት ለፊት ዛም_ሞል 2ኛ ፎቅ ቢሮ ቁጥር214 ለቡ ቅርንጫፍ0973611819 0909522840 0923350054 በTelegram ለማዘዝ ይጠቀሙ shager_onlinestore ለተጨማሪ ማብራሪያ የቴሌግራም ገፃችን httpstmeShageronlinestore",
         "2000.0",
         "ETB",
         "ቁ1 መገናኛ ስሪ ኤም ሲቲ ሞል ሁለተኛ ፎቅ ቢሮ ቁ SL05Aከ ሊፍቱ ፊት ለ ፊት ቁ2 ለቡ መዳህኒዓለም ቤተክርስቲያን ፊት ለፊት ዛም_ሞል 2ኛ ፎቅ ቢሮ ቁጥር214 ለቡ ቅርንጫፍ0973611819 0909522840 0923350054 በTelegram ለማዘዝ ይጠቀሙ shager_onlinestore ለተጨማሪ ማብራሪያ የቴሌግራም ገፃችን httpstmeShageronlinestore",
         "251973611819.0",
         "True",
         "7312",
         "Home Goods"
        ],
        [
         "25",
         "kitchen knife set ዋጋ2500ብር ውስን ፍሬ ነው ያለው አድራሻ ቁ1 መገናኛ ታሜ ጋስ ህንፃ ጎን ስሪ ኤም ሲቲ ሞል ሁለተኛ ፎቅ ቢሮ ቁ SL05Aከ ሊፍቱ ፊት ለ ፊት ቁ2 ለቡ መዳህኒዓለም ቤተክርስቲያን ፊት ለፊት ዛም_ሞል 2ኛ ፎቅ ቢሮ ቁጥር214 0909522840 0923350054 ለቡ ቅርንጫፍ0973611819 በTelegram ለማዘዝ ይጠቀሙ shager_onlinestore ለተጨማሪ ማብራሪያ የቴሌግራም ገፃችን httpstmeShageronlinestore",
         "2500.0",
         "ETB",
         "ቁ1 መገናኛ ታሜ ጋስ ህንፃ ጎን ስሪ ኤም ሲቲ ሞል ሁለተኛ ፎቅ ቢሮ ቁ SL05Aከ ሊፍቱ ፊት ለ ፊት ቁ2 ለቡ መዳህኒዓለም ቤተክርስቲያን ፊት ለፊት ዛም_ሞል 2ኛ ፎቅ ቢሮ ቁጥር214 0909522840 0923350054 ለቡ ቅርንጫፍ0973611819 በTelegram ለማዘዝ ይጠቀሙ shager_onlinestore ለተጨማሪ ማብራሪያ የቴሌግራም ገፃችን httpstmeShageronlinestore",
         "251909522840.0",
         "True",
         "7311",
         "Home Goods"
        ],
        [
         "26",
         "360 rotating cake turntable Size28cm cakedecorating turntable makes it simple to decorate profrssional looking desserts at home great for left and right handed decorates makes the decorating process easy non slip surface on top of the patform keeps cake or cake board in place while you decorate ዋጋ1300ብር ውስን ፍሬ ነው ያለን Limited Stock አድራሻ ቁ1 መገናኛ ታሜ ጋስ ህንፃ ጎን ስሪ ኤም ሲቲ ሞል ሁለተኛ ፎቅ ቢሮ ቁ SL05Aከ ሊፍቱ ፊት ለ ፊት ቁ2 ለቡ መዳህኒዓለም ቤተክርስቲያን 100ሜ ወደ ሙዚቃ ቤት ከፍ ብሎ ዛም_ሞል 2ኛ ፎቅ ቢሮቁ 214 0909522840 0923350054 ለቡ ቅርንጫፍ0973611819 በTelegram ለማዘዝ ይጠቀሙ shager_onlinestore ለተጨማሪ ማብራሪያ የቴሌግራም ገፃችን httpstmeShageronlinestore",
         "1300.0",
         "ETB",
         "ቁ1 መገናኛ ታሜ ጋስ ህንፃ ጎን ስሪ ኤም ሲቲ ሞል ሁለተኛ ፎቅ ቢሮ ቁ SL05Aከ ሊፍቱ ፊት ለ ፊት ቁ2 ለቡ መዳህኒዓለም ቤተክርስቲያን 100ሜ ወደ ሙዚቃ ቤት ከፍ ብሎ ዛም_ሞል 2ኛ ፎቅ ቢሮቁ 214 0909522840 0923350054 ለቡ ቅርንጫፍ0973611819 በTelegram ለማዘዝ ይጠቀሙ shager_onlinestore ለተጨማሪ ማብራሪያ የቴሌግራም ገፃችን httpstmeShageronlinestore",
         "251909522840.0",
         "True",
         "7307",
         "Other"
        ],
        [
         "27",
         "Manual Fruit Juicer with jug ማንዋል የሎሚ እና የብርቱካን መጭመቂያ Safe Quick Super Easy to Clean and Effective Juicing ዋጋ፦ 1000 ብር ውስን ፍሬ ነው የቀረው አድራሻ ቁ1 መገናኛ ታሜ ጋስ ህንፃ ጎን ስሪ ኤም ሲቲ ሞል ሁለተኛ ፎቅ ቢሮ ቁ SL05Aከ ሊፍቱ ፊት ለ ፊት ቁ2 ለቡ መዳህኒዓለም ቤተክርስቲያን ፊት ለፊት ዛም_ሞል 2ኛ ፎቅ ቢሮ ቁጥር214 0909522840 0923350054 ለቡ ቅርንጫፍ0973611819 በTelegram ለማዘዝ ይጠቀሙ shager_onlinestore ለተጨማሪ ማብራሪያ የቴሌግራም ገፃችን httpstmeShageronlinestore",
         "1000.0",
         "ETB",
         "ቁ1 መገናኛ ታሜ ጋስ ህንፃ ጎን ስሪ ኤም ሲቲ ሞል ሁለተኛ ፎቅ ቢሮ ቁ SL05Aከ ሊፍቱ ፊት ለ ፊት ቁ2 ለቡ መዳህኒዓለም ቤተክርስቲያን ፊት ለፊት ዛም_ሞል 2ኛ ፎቅ ቢሮ ቁጥር214 0909522840 0923350054 ለቡ ቅርንጫፍ0973611819 በTelegram ለማዘዝ ይጠቀሙ shager_onlinestore ለተጨማሪ ማብራሪያ የቴሌግራም ገፃችን httpstmeShageronlinestore",
         "251909522840.0",
         "True",
         "7303",
         "Electronics"
        ],
        [
         "28",
         "Momcoc Smiley Face Non Stick Pancake Pan Granite coated pan 100 የማይዝ በአንድ ግዜ 7 ኬክ ይጋግራል ዋጋ፦ 1700 ብር ውስን ፍሬ ነው ያለን Limited Stock አድራሻ ቁ1 መገናኛ ታሜ ጋስ ህንፃ ጎን ስሪ ኤም ሲቲ ሞል ሁለተኛ ፎቅ ቢሮ ቁ SL05Aከ ሊፍቱ ፊት ለ ፊት ቁ2 ለቡ መዳህኒዓለም ቤተክርስቲያን ፊት ለፊት ዛም_ሞል 2ኛ ፎቅ ቢሮ ቁጥር214 0909522840 0923350054 ለቡ ቅርንጫፍ0973611819 በTelegram ለማዘዝ ይጠቀሙ shager_onlinestore ለተጨማሪ ማብራሪያ የቴሌግራም ገፃችን httpstmeShageronlinestore",
         "1700.0",
         "ETB",
         "ቁ1 መገናኛ ታሜ ጋስ ህንፃ ጎን ስሪ ኤም ሲቲ ሞል ሁለተኛ ፎቅ ቢሮ ቁ SL05Aከ ሊፍቱ ፊት ለ ፊት ቁ2 ለቡ መዳህኒዓለም ቤተክርስቲያን ፊት ለፊት ዛም_ሞል 2ኛ ፎቅ ቢሮ ቁጥር214 0909522840 0923350054 ለቡ ቅርንጫፍ0973611819 በTelegram ለማዘዝ ይጠቀሙ shager_onlinestore ለተጨማሪ ማብራሪያ የቴሌግራም ገፃችን httpstmeShageronlinestore",
         "251909522840.0",
         "True",
         "7298",
         "Other"
        ],
        [
         "29",
         "wc toilet rackwashing machin rack የመፀዳጃ ቤትዕቃዎች መደርደሪያ ጠንካራ ብረት ሼልፉ የላሜራ ብዙ ነገሮችን ያስቀምጡበታል አገጣጠሙ ቀላል በራሱ የሚቆም 160ሜትር ቁመት፣ 47ሣሜ ስፋት እና ሰፊው አካላ 25ሣሜ ጥልቀት ያለው ለኮንዶሚኒየምአፓርታማ ቤቶች የሚፈለግ ዋጋ 3700ብር ውስን ፍሬ ነው ያለው አድራሻ ቁ1 መገናኛ ስሪ ኤም ሲቲ ሞል ሁለተኛ ፎቅ ቢሮ ቁ SL05Aከ ሊፍቱ ፊት ለ ፊት ቁ2 ለቡ መዳህኒዓለም ቤተክርስቲያን ፊት ለፊት ዛም_ሞል 2ኛ ፎቅ ቢሮ ቁጥር214 ለቡ ቅርንጫፍ0973611819 0909522840 0923350054 በTelegram ለማዘዝ ይጠቀሙ shager_onlinestore ለተጨማሪ ማብራሪያ የቴሌግራም ገፃችን httpstmeShageronlinestore",
         "3700.0",
         "ETB",
         "ቁ1 መገናኛ ስሪ ኤም ሲቲ ሞል ሁለተኛ ፎቅ ቢሮ ቁ SL05Aከ ሊፍቱ ፊት ለ ፊት ቁ2 ለቡ መዳህኒዓለም ቤተክርስቲያን ፊት ለፊት ዛም_ሞል 2ኛ ፎቅ ቢሮ ቁጥር214 ለቡ ቅርንጫፍ0973611819 0909522840 0923350054 በTelegram ለማዘዝ ይጠቀሙ shager_onlinestore ለተጨማሪ ማብራሪያ የቴሌግራም ገፃችን httpstmeShageronlinestore",
         "251973611819.0",
         "True",
         "7296",
         "Other"
        ],
        [
         "30",
         "ለመላው የእስልምና እምነት ተከታዮች በሙሉ እንኳን 1446ኛው የኢድ አል አድሃ አረፋ በዓል በሰላም አደረሳችሁ። ዛሬ_ሙሉ_ቀን_ሱቃችን_ክፍት_ነው ኢድ ሙባረክ መልካም በዓል አድራሻ መገናኛ ስሪ ኤም ሲቲ ሞል ሁለተኛ ፎቅ ቢሮ ቁ SL05Aከ ሊፍቱ ፊት ለ ፊት 0909522840 0923350054 በTelegram ለማዘዝ ይጠቀሙ shager_onlinestore ለተጨማሪ ማብራሪያ የቴሌግራም ገፃችን httpstmeShageronlinestore",
         null,
         "ETB",
         "መገናኛ ስሪ ኤም ሲቲ ሞል ሁለተኛ ፎቅ ቢሮ ቁ SL05Aከ ሊፍቱ ፊት ለ ፊት 0909522840 0923350054 በTelegram ለማዘዝ ይጠቀሙ shager_onlinestore ለተጨማሪ ማብራሪያ የቴሌግራም ገፃችን httpstmeShageronlinestore",
         "251909522840.0",
         "False",
         "7295",
         "Other"
        ],
        [
         "31",
         "1pc under sink organizer sink splash guard waterproof and mildow proof mat For kitchen and bathroom over sink organizer available color gray ዋጋ700ብር ውስን ፍሬ ነው ያለው አድራሻ ቁ1 መገናኛ ታሜ ጋስ ህንፃ ጎን ስሪ ኤም ሲቲ ሞል ሁለተኛ ፎቅ ቢሮ ቁ SL05Aከ ሊፍቱ ፊት ለ ፊት ቁ2 ለቡ መዳህኒዓለም ቤተክርስቲያን 100ሜ ወደ ሙዚቃ ቤት ከፍ ብሎ ዛም_ሞል 2ኛ ፎቅ ቢሮቁ 214 0909522840 0923350054 ለቡ ቅርንጫፍ0973611819 በTelegram ለማዘዝ ይጠቀሙ shager_onlinestore ለተጨማሪ ማብራሪያ የቴሌግራም ገፃችን httpstmeShageronlinestor",
         "700.0",
         "ETB",
         "ቁ1 መገናኛ ታሜ ጋስ ህንፃ ጎን ስሪ ኤም ሲቲ ሞል ሁለተኛ ፎቅ ቢሮ ቁ SL05Aከ ሊፍቱ ፊት ለ ፊት ቁ2 ለቡ መዳህኒዓለም ቤተክርስቲያን 100ሜ ወደ ሙዚቃ ቤት ከፍ ብሎ ዛም_ሞል 2ኛ ፎቅ ቢሮቁ 214 0909522840 0923350054 ለቡ ቅርንጫፍ0973611819 በTelegram ለማዘዝ ይጠቀሙ shager_onlinestore ለተጨማሪ ማብራሪያ የቴሌግራም ገፃችን httpstmeShageronlinestor",
         "251909522840.0",
         "True",
         "7290",
         "Home Goods"
        ],
        [
         "32",
         "Lint remover Fabric shaver for clothes በቻርጅ የሚሰራ ዋጋ፦ 900 ብር ውስን ፍሬ ነው ያለን Limited Stock አድራሻ ቁ1 መገናኛ ታሜ ጋስ ህንፃ ጎን ስሪ ኤም ሲቲ ሞል ሁለተኛ ፎቅ ቢሮ ቁ SL05Aከ ሊፍቱ ፊት ለ ፊት ቁ2 ለቡ መዳህኒዓለም ቤተክርስቲያን 100ሜ ወደ ሙዚቃ ቤት ከፍ ብሎ ዛም_ሞል 2ኛ ፎቅ ቢሮቁ 214 0909522840 0923350054 ለቡ ቅርንጫፍ0973611819 በTelegram ለማዘዝ ይጠቀሙ shager_onlinestore ለተጨማሪ ማብራሪያ የቴሌግራም ገፃችን httpstmeShageronlinestor",
         "900.0",
         "ETB",
         "ቁ1 መገናኛ ታሜ ጋስ ህንፃ ጎን ስሪ ኤም ሲቲ ሞል ሁለተኛ ፎቅ ቢሮ ቁ SL05Aከ ሊፍቱ ፊት ለ ፊት ቁ2 ለቡ መዳህኒዓለም ቤተክርስቲያን 100ሜ ወደ ሙዚቃ ቤት ከፍ ብሎ ዛም_ሞል 2ኛ ፎቅ ቢሮቁ 214 0909522840 0923350054 ለቡ ቅርንጫፍ0973611819 በTelegram ለማዘዝ ይጠቀሙ shager_onlinestore ለተጨማሪ ማብራሪያ የቴሌግራም ገፃችን httpstmeShageronlinestor",
         "251909522840.0",
         "True",
         "7287",
         "Other"
        ],
        [
         "33",
         "Head protector helmet for kids ዋጋ550ብር አድራሻ ቁ1 መገናኛ ስሪ ኤም ሲቲ ሞል ሁለተኛ ፎቅ ቢሮ ቁ SL05Aከ ሊፍቱ ፊት ለ ፊት ቁ2 ለቡ መዳህኒዓለም ቤተክርስቲያን ፊት ለፊት ዛም_ሞል 2ኛ ፎቅ ቢሮ ቁጥር214 ለቡ ቅርንጫፍ0973611819 0909522840 0923350054 በTelegram ለማዘዝ ይጠቀሙ shager_onlinestore ለተጨማሪ ማብራሪያ የቴሌግራም ገፃችን httpstmeShageronlinestore",
         "550.0",
         "ETB",
         "ቁ1 መገናኛ ስሪ ኤም ሲቲ ሞል ሁለተኛ ፎቅ ቢሮ ቁ SL05Aከ ሊፍቱ ፊት ለ ፊት ቁ2 ለቡ መዳህኒዓለም ቤተክርስቲያን ፊት ለፊት ዛም_ሞል 2ኛ ፎቅ ቢሮ ቁጥር214 ለቡ ቅርንጫፍ0973611819 0909522840 0923350054 በTelegram ለማዘዝ ይጠቀሙ shager_onlinestore ለተጨማሪ ማብራሪያ የቴሌግራም ገፃችን httpstmeShageronlinestore",
         "251973611819.0",
         "True",
         "7283",
         "Other"
        ],
        [
         "34",
         "Anti slip kids shoes እማያንሸራትት ዋጋ600ብር አድራሻ ቁ1 መገናኛ ስሪ ኤም ሲቲ ሞል ሁለተኛ ፎቅ ቢሮ ቁ SL05Aከ ሊፍቱ ፊት ለ ፊት ቁ2 ለቡ መዳህኒዓለም ቤተክርስቲያን ፊት ለፊት ዛም_ሞል 2ኛ ፎቅ ቢሮ ቁጥር214 ለቡ ቅርንጫፍ0973611819 0909522840 0923350054 በTelegram ለማዘዝ ይጠቀሙ shager_onlinestore ለተጨማሪ ማብራሪያ የቴሌግራም ገፃችን httpstmeShageronlinestore",
         "600.0",
         "ETB",
         "ቁ1 መገናኛ ስሪ ኤም ሲቲ ሞል ሁለተኛ ፎቅ ቢሮ ቁ SL05Aከ ሊፍቱ ፊት ለ ፊት ቁ2 ለቡ መዳህኒዓለም ቤተክርስቲያን ፊት ለፊት ዛም_ሞል 2ኛ ፎቅ ቢሮ ቁጥር214 ለቡ ቅርንጫፍ0973611819 0909522840 0923350054 በTelegram ለማዘዝ ይጠቀሙ shager_onlinestore ለተጨማሪ ማብራሪያ የቴሌግራም ገፃችን httpstmeShageronlinestore",
         "251973611819.0",
         "True",
         "7278",
         "Clothing"
        ],
        [
         "35",
         "2in1 dumpling maker ሳምቡሳን በቀላሉ ለመስራት ዋጋ፦ 700 ብር ውስን ፍሬ ነው ያለው አድራሻ ቁ1 መገናኛ ታሜ ጋስ ህንፃ ጎን ስሪ ኤም ሲቲ ሞል ሁለተኛ ፎቅ ቢሮ ቁ SL05Aከ ሊፍቱ ፊት ለ ፊት ቁ2 ለቡ መዳህኒዓለም ቤተክርስቲያን 100ሜ ወደ ሙዚቃ ቤት ከፍ ብሎ ዛም_ሞል 2ኛ ፎቅ ቢሮቁ 214 0909522840 0923350054 ለቡ ቅርንጫፍ0973611819 በTelegram ለማዘዝ ይጠቀሙ shager_onlinestore ለተጨማሪ ማብራሪያ የቴሌግራም ገፃችን httpstmeShageronlinestore",
         "700.0",
         "ETB",
         "ቁ1 መገናኛ ታሜ ጋስ ህንፃ ጎን ስሪ ኤም ሲቲ ሞል ሁለተኛ ፎቅ ቢሮ ቁ SL05Aከ ሊፍቱ ፊት ለ ፊት ቁ2 ለቡ መዳህኒዓለም ቤተክርስቲያን 100ሜ ወደ ሙዚቃ ቤት ከፍ ብሎ ዛም_ሞል 2ኛ ፎቅ ቢሮቁ 214 0909522840 0923350054 ለቡ ቅርንጫፍ0973611819 በTelegram ለማዘዝ ይጠቀሙ shager_onlinestore ለተጨማሪ ማብራሪያ የቴሌግራም ገፃችን httpstmeShageronlinestore",
         "251909522840.0",
         "True",
         "7275",
         "Other"
        ],
        [
         "36",
         "Oven Gloves Heat Resistant Cushion Potholders ዋጋ፦400 ብር ውስን ፍሬ ነው ያለን Limited Stock አድራሻ ቁ1 መገናኛ ታሜ ጋስ ህንፃ ጎን ስሪ ኤም ሲቲ ሞል ሁለተኛ ፎቅ ቢሮ ቁ SL05Aከ ሊፍቱ ፊት ለ ፊት ቁ2 ለቡ መዳህኒዓለም ቤተክርስቲያን ወደ ሙዚቃ ቤት 100ሜትር ከፍ ብሎ ዛም_ሞል 2ኛ ፎቅ ቢሮቁ 214 0909522840 0923350054 ለቡ ቅርንጫፍ0973611819 በTelegram ለማዘዝ ይጠቀሙ shager_onlinestore ለተጨማሪ ማብራሪያ የቴሌግራም ገፃችን httpstmeShageronlinestore",
         "400.0",
         "ETB",
         "ቁ1 መገናኛ ታሜ ጋስ ህንፃ ጎን ስሪ ኤም ሲቲ ሞል ሁለተኛ ፎቅ ቢሮ ቁ SL05Aከ ሊፍቱ ፊት ለ ፊት ቁ2 ለቡ መዳህኒዓለም ቤተክርስቲያን ወደ ሙዚቃ ቤት 100ሜትር ከፍ ብሎ ዛም_ሞል 2ኛ ፎቅ ቢሮቁ 214 0909522840 0923350054 ለቡ ቅርንጫፍ0973611819 በTelegram ለማዘዝ ይጠቀሙ shager_onlinestore ለተጨማሪ ማብራሪያ የቴሌግራም ገፃችን httpstmeShageronlinestore",
         "251909522840.0",
         "True",
         "7273",
         "Other"
        ],
        [
         "37",
         "Adjustable Posture Corrector Corrector Belt Great for Men and Women የአንገት፣የትከሻ እና የወገብ ህመምን የሚቀርፍ Spinalcord መደገፊያ አብሮ የተገጠመለት አቅዋሞን በማስተካከል ቀጥ ያል እና ማራኪ ቁመና ለመላበስ የሚመርጡት። Size Medium Large XL 2XL 3XL ዋጋ፦ 800 ብር ውስን ፍሬ ነው ያለን Limited Stock አድራሻ ቁ1 መገናኛ ታሜ ጋስ ህንፃ ጎን ስሪ ኤም ሲቲ ሞል ሁለተኛ ፎቅ ቢሮ ቁ SL05Aከ ሊፍቱ ፊት ለ ፊት ቁ2 ለቡ መዳህኒዓለም ቤተክርስቲያን 100ሜ ወደ ሙዚቃ ቤት ከፍ ብሎ ዛም_ሞል 2ኛ ፎቅ ቢሮቁ 214 0909522840 0923350054 ለቡ ቅርንጫፍ0973611819 በTelegram ለማዘዝ ይጠቀሙ shager_onlinestore ለተጨማሪ ማብራሪያ የቴሌግራም ገፃችን httpstmeShageronlinestore",
         "800.0",
         "ETB",
         "ቁ1 መገናኛ ታሜ ጋስ ህንፃ ጎን ስሪ ኤም ሲቲ ሞል ሁለተኛ ፎቅ ቢሮ ቁ SL05Aከ ሊፍቱ ፊት ለ ፊት ቁ2 ለቡ መዳህኒዓለም ቤተክርስቲያን 100ሜ ወደ ሙዚቃ ቤት ከፍ ብሎ ዛም_ሞል 2ኛ ፎቅ ቢሮቁ 214 0909522840 0923350054 ለቡ ቅርንጫፍ0973611819 በTelegram ለማዘዝ ይጠቀሙ shager_onlinestore ለተጨማሪ ማብራሪያ የቴሌግራም ገፃችን httpstmeShageronlinestore",
         "251909522840.0",
         "True",
         "7270",
         "Other"
        ],
        [
         "38",
         "DUEL USE AIR COOLER FAN AND HUMIDIFIER ሞቃታማ በሆነ ጊዚ አየሩን የሚያቀዘቅዝ ለቤት መልካም መዓዛን የሚሰጥ Effectively improving air efficiency with the function of humidification and refrigeration Features Night Light Dual Spray Mode Unique Design Large water tank Powerful airflow Colours Green ዋጋ2000ብር ውስን ፍሬ ነው ያለን Limited Stock አድራሻ ቁ1 መገናኛ ታሜ ጋስ ህንፃ ጎን ስሪ ኤም ሲቲ ሞል ሁለተኛ ፎቅ ቢሮ ቁ SL05Aከ ሊፍቱ ፊት ለ ፊት ቁ2 ለቡ መዳህኒዓለም ቤተክርስቲያን 100ሜ ወደ ሙዚቃ ቤት ከፍ ብሎ ዛም_ሞል 2ኛ ፎቅ ቢሮቁ 214 0909522840 0923350054 ለቡ ቅርንጫፍ0973611819 በTelegram ለማዘዝ ይጠቀሙ shager_onlinestore ለተጨማሪ ማብራሪያ የቴሌግራም ገፃችን httpstmeShageronlinestore",
         "2000.0",
         "ETB",
         "ቁ1 መገናኛ ታሜ ጋስ ህንፃ ጎን ስሪ ኤም ሲቲ ሞል ሁለተኛ ፎቅ ቢሮ ቁ SL05Aከ ሊፍቱ ፊት ለ ፊት ቁ2 ለቡ መዳህኒዓለም ቤተክርስቲያን 100ሜ ወደ ሙዚቃ ቤት ከፍ ብሎ ዛም_ሞል 2ኛ ፎቅ ቢሮቁ 214 0909522840 0923350054 ለቡ ቅርንጫፍ0973611819 በTelegram ለማዘዝ ይጠቀሙ shager_onlinestore ለተጨማሪ ማብራሪያ የቴሌግራም ገፃችን httpstmeShageronlinestore",
         "251909522840.0",
         "True",
         "7260",
         "Other"
        ],
        [
         "39",
         "4 set seasoning bottles 2 ፍሬ የዘይት እና አቼቶ መቀነሻ 2 ፍሬ የቅመም መቀነሻ እና የራሱ መነስነሻ ያለው የራሱ የሆነ ማስቀመጫ ያለው ለራስዎ፣ለወዳጅ ዘመድዎ የሚያበረክቱት አስተማማኝ እቃ ዋጋ፦ 1600 ብር ውስን ፍሬ ነው ያለው ውስን ፍሬ ነው ያለን Limited Stock አድራሻ ቁ1 መገናኛ ታሜ ጋስ ህንፃ ጎን ስሪ ኤም ሲቲ ሞል ሁለተኛ ፎቅ ቢሮ ቁ SL05Aከ ሊፍቱ ፊት ለ ፊት ቁ2 ለቡ መዳህኒዓለም ቤተክርስቲያን 100ሜ ወደ ሙዚቃ ቤት ከፍ ብሎ ዛም_ሞል 2ኛ ፎቅ ቢሮቁ 214 0909522840 0923350054 ለቡ ቅርንጫፍ0973611819 በTelegram ለማዘዝ ይጠቀሙ shager_onlinestore ለተጨማሪ ማብራሪያ የቴሌግራም ገፃችን httpstmeShageronlinestore",
         "1600.0",
         "ETB",
         "ቁ1 መገናኛ ታሜ ጋስ ህንፃ ጎን ስሪ ኤም ሲቲ ሞል ሁለተኛ ፎቅ ቢሮ ቁ SL05Aከ ሊፍቱ ፊት ለ ፊት ቁ2 ለቡ መዳህኒዓለም ቤተክርስቲያን 100ሜ ወደ ሙዚቃ ቤት ከፍ ብሎ ዛም_ሞል 2ኛ ፎቅ ቢሮቁ 214 0909522840 0923350054 ለቡ ቅርንጫፍ0973611819 በTelegram ለማዘዝ ይጠቀሙ shager_onlinestore ለተጨማሪ ማብራሪያ የቴሌግራም ገፃችን httpstmeShageronlinestore",
         "251909522840.0",
         "True",
         "7258",
         "Home Goods"
        ],
        [
         "40",
         "4 set seasoning bottles 2 ፍሬ የዘይት እና አቼቶ መቀነሻ 2 ፍሬ የቅመም መቀነሻ እና የራሱ መነስነሻ ያለው የራሱ የሆነ ማስቀመጫ ያለው ለራስዎ፣ለወዳጅ ዘመድዎ የሚያበረክቱት አስተማማኝ እቃ ዋጋ፦ 1600 ብር ውስን ፍሬ ነው ያለው ውስን ፍሬ ነው ያለን Limited Stock አድራሻ ቁ1 መገናኛ ታሜ ጋስ ህንፃ ጎን ስሪ ኤም ሲቲ ሞል ሁለተኛ ፎቅ ቢሮ ቁ SL05Aከ ሊፍቱ ፊት ለ ፊት ቁ2 ለቡ መዳህኒዓለም ቤተክርስቲያን 100ሜ ወደ ሙዚቃ ቤት ከፍ ብሎ ዛም_ሞል 2ኛ ፎቅ ቢሮቁ 214 0909522840 0923350054 ለቡ ቅርንጫፍ0973611819 በTelegram ለማዘዝ ይጠቀሙ shager_onlinestore ለተጨማሪ ማብራሪያ የቴሌግራም ገፃችን httpstmeShageronlinestore",
         "1600.0",
         "ETB",
         "ቁ1 መገናኛ ታሜ ጋስ ህንፃ ጎን ስሪ ኤም ሲቲ ሞል ሁለተኛ ፎቅ ቢሮ ቁ SL05Aከ ሊፍቱ ፊት ለ ፊት ቁ2 ለቡ መዳህኒዓለም ቤተክርስቲያን 100ሜ ወደ ሙዚቃ ቤት ከፍ ብሎ ዛም_ሞል 2ኛ ፎቅ ቢሮቁ 214 0909522840 0923350054 ለቡ ቅርንጫፍ0973611819 በTelegram ለማዘዝ ይጠቀሙ shager_onlinestore ለተጨማሪ ማብራሪያ የቴሌግራም ገፃችን httpstmeShageronlinestore",
         "251909522840.0",
         "True",
         "7257",
         "Home Goods"
        ],
        [
         "41",
         "Delux baby bather ሲንክ ላይ የሻወር ገንዳ ላይ ለማጠብ ምቹ በቀላሉ የሚተጣጠፍ እና ለማስቀመጥ ቦታ የማይዝ 3 የአቀማመጥ ደረጃወች ስላሉት ቀና አድርገን እና ጋደም አድርገን ለማጠብ የሚመች ፀሀይ ለማሞቅ የሚመች ዋጋ2000ብር አድራሻ ቁ1 መገናኛ ታሜ ጋስ ህንፃ ጎን ስሪ ኤም ሲቲ ሞል ሁለተኛ ፎቅ ቢሮ ቁ SL05Aከ ሊፍቱ ፊት ለ ፊት ቁ2 ለቡ መዳህኒዓለም ቤተክርስቲያን 100ሜ ወደ ሙዚቃ ቤት ከፍ ብሎ ዛም_ሞል 2ኛ ፎቅ ቢሮቁ 214 0909522840 0923350054 ለቡ ቅርንጫፍ0973611819 በTelegram ለማዘዝ ይጠቀሙ shager_onlinestore ለተጨማሪ ማብራሪያ የቴሌግራም ገፃችን httpstmeShageronlinestore",
         "2000.0",
         "ETB",
         "የማይዝ 3 የአቀማመጥ ደረጃወች ስላሉት ቀና አድርገን እና ጋደም አድርገን ለማጠብ የሚመች ፀሀይ ለማሞቅ የሚመች ዋጋ2000ብር አድራሻ ቁ1 መገናኛ ታሜ ጋስ ህንፃ ጎን ስሪ ኤም ሲቲ ሞል ሁለተኛ ፎቅ ቢሮ ቁ SL05Aከ ሊፍቱ ፊት ለ ፊት ቁ2 ለቡ መዳህኒዓለም ቤተክርስቲያን 100ሜ ወደ ሙዚቃ ቤት ከፍ ብሎ ዛም_ሞል 2ኛ ፎቅ ቢሮቁ 214 0909522840 0923350054 ለቡ ቅርንጫፍ0973611819 በTelegram ለማዘዝ ይጠቀሙ shager_onlinestore ለተጨማሪ ማብራሪያ የቴሌግራም ገፃችን httpstmeShageronlinestore",
         "251909522840.0",
         "True",
         "7255",
         "Other"
        ],
        [
         "42",
         "SUN 5 Nail Dryer Features Infrared intelligent induction 30 S 60 S 90 S timing LCD display Bottom cooling hole ዋጋ፦ 2600 ብር ውስን ፍሬ ነው ያለው አድራሻ ቁ1 መገናኛ ታሜ ጋስ ህንፃ ጎን ስሪ ኤም ሲቲ ሞል ሁለተኛ ፎቅ ቢሮ ቁ SL05Aከ ሊፍቱ ፊት ለ ፊት ቁ2 ለቡ መዳህኒዓለም ቤተክርስቲያን 100ሜ ወደ ሙዚቃ ቤት ከፍ ብሎ ዛም_ሞል 2ኛ ፎቅ ቢሮቁ 214 0909522840 0923350054 ለቡ ቅርንጫፍ0973611819 በTelegram ለማዘዝ ይጠቀሙ shager_onlinestore ለተጨማሪ ማብራሪያ የቴሌግራም ገፃችን httpstmeShageronlinestore",
         "2600.0",
         "ETB",
         "ቁ1 መገናኛ ታሜ ጋስ ህንፃ ጎን ስሪ ኤም ሲቲ ሞል ሁለተኛ ፎቅ ቢሮ ቁ SL05Aከ ሊፍቱ ፊት ለ ፊት ቁ2 ለቡ መዳህኒዓለም ቤተክርስቲያን 100ሜ ወደ ሙዚቃ ቤት ከፍ ብሎ ዛም_ሞል 2ኛ ፎቅ ቢሮቁ 214 0909522840 0923350054 ለቡ ቅርንጫፍ0973611819 በTelegram ለማዘዝ ይጠቀሙ shager_onlinestore ለተጨማሪ ማብራሪያ የቴሌግራም ገፃችን httpstmeShageronlinestore",
         "251909522840.0",
         "True",
         "7250",
         "Other"
        ],
        [
         "43",
         "Feenik Vacuum Jug Hight Qulity ከጠንካራ Material የተሰራ ለረጅም ሰአት ሙቀትን ጠብቆ ማቆየት የሚችል Brand Feenik Capacity 15L and 2L 24Hr COLD 12Hr HOT FUNCTION Fashionablebeautiful durable and easy to use Suitable for liquid drinks like hot water coffee tea and etc Ideal to the home office hotel and outdoor use ዋጋ፦ 15L 2000 ብር አድራሻ ቁ1 ስሪ ኤም ሲቲ ሞል ሁለተኛ ፎቅ ቢሮ ቁ SL05Aከ ሊፍቱ ፊት ለ ፊት ቁ2 ለቡ መዳህኒዓለም ቤተክርስቲያን ፊት ለፊት ዛም_ሞል 2ኛ ፎቅ ቢሮ ቁጥር214 ለቡ ቅርንጫፍ0973611819 0909522840 0923350054 በTelegram ለማዘዝ ይጠቀሙ shager_onlinestore ለተጨማሪ ማብራሪያ የቴሌግራም ገፃችን httpstmeShageronlinestore",
         "2000.0",
         "ETB",
         "ቁ1 ስሪ ኤም ሲቲ ሞል ሁለተኛ ፎቅ ቢሮ ቁ SL05Aከ ሊፍቱ ፊት ለ ፊት ቁ2 ለቡ መዳህኒዓለም ቤተክርስቲያን ፊት ለፊት ዛም_ሞል 2ኛ ፎቅ ቢሮ ቁጥር214 ለቡ ቅርንጫፍ0973611819 0909522840 0923350054 በTelegram ለማዘዝ ይጠቀሙ shager_onlinestore ለተጨማሪ ማብራሪያ የቴሌግራም ገፃችን httpstmeShageronlinestore",
         "251973611819.0",
         "True",
         "7247",
         "Food"
        ],
        [
         "44",
         "Saachi Hot plate ሳቺ ባለሁለት ምድጃ ስቶቭ orginal 2000 ዋት ፊውዝ የተገጠመለት ትልቅ ድስት መሸከም የሚችል አስተማማኝ ቴርሞስታት ባለ ፊውዝ ዋጋ፦ ትልቁ 3400ብር አድራሻ ቁ1 መገናኛ ስሪ ኤም ሲቲ ሞል ሁለተኛ ፎቅ ቢሮ ቁ SL05Aከ ሊፍቱ ፊት ለ ፊት ቁ2 ለቡ መዳህኒዓለም ቤተክርስቲያን ፊት ለፊት ዛም_ሞል 2ኛ ፎቅ ቢሮ ቁጥር214 ለቡ ቅርንጫፍ0973611819 0909522840 0923350054 በTelegram ለማዘዝ ይጠቀሙ shager_onlinestore ለተጨማሪ ማብራሪያ የቴሌግራም ገፃችን httpstmeShageronlinestore",
         "3400.0",
         "ETB",
         "ቁ1 መገናኛ ስሪ ኤም ሲቲ ሞል ሁለተኛ ፎቅ ቢሮ ቁ SL05Aከ ሊፍቱ ፊት ለ ፊት ቁ2 ለቡ መዳህኒዓለም ቤተክርስቲያን ፊት ለፊት ዛም_ሞል 2ኛ ፎቅ ቢሮ ቁጥር214 ለቡ ቅርንጫፍ0973611819 0909522840 0923350054 በTelegram ለማዘዝ ይጠቀሙ shager_onlinestore ለተጨማሪ ማብራሪያ የቴሌግራም ገፃችን httpstmeShageronlinestore",
         "251973611819.0",
         "True",
         "7246",
         "Other"
        ],
        [
         "45",
         "Baby comb and brush set Bpa free super soft touch for gentle cleansing ዋጋ500ብር አድራሻ ቁ1 መገናኛ ታሜ ጋስ ህንፃ ጎን ስሪ ኤም ሲቲ ሞል ሁለተኛ ፎቅ ቢሮ ቁ SL05Aከ ሊፍቱ ፊት ለ ፊት ቁ2 ለቡ መዳህኒዓለም ቤተክርስቲያን 100ሜ ወደ ሙዚቃ ቤት ከፍ ብሎ ዛም_ሞል 2ኛ ፎቅ ቢሮቁ 214 0909522840 0923350054 ለቡ ቅርንጫፍ0973611819 በTelegram ለማዘዝ ይጠቀሙ shager_onlinestore ለተጨማሪ ማብራሪያ የቴሌግራም ገፃችን httpstmeShageronlinestore",
         "500.0",
         "ETB",
         "ቁ1 መገናኛ ታሜ ጋስ ህንፃ ጎን ስሪ ኤም ሲቲ ሞል ሁለተኛ ፎቅ ቢሮ ቁ SL05Aከ ሊፍቱ ፊት ለ ፊት ቁ2 ለቡ መዳህኒዓለም ቤተክርስቲያን 100ሜ ወደ ሙዚቃ ቤት ከፍ ብሎ ዛም_ሞል 2ኛ ፎቅ ቢሮቁ 214 0909522840 0923350054 ለቡ ቅርንጫፍ0973611819 በTelegram ለማዘዝ ይጠቀሙ shager_onlinestore ለተጨማሪ ማብራሪያ የቴሌግራም ገፃችን httpstmeShageronlinestore",
         "251909522840.0",
         "True",
         "7240",
         "Home Goods"
        ],
        [
         "46",
         "22L Tea Coffee pot ውብ እና ማራኪ እስከ 400c ሙቀት መቋቋም ስለሚችል ስቶቭ ላይ መጣድ የሚችል ከፍተኛ ጥራት ያለው ዋጋ፦22L 2000ብር ውስን ፍሬ ነው ያለው አድራሻ ቁ1 መገናኛ ስሪ ኤም ሲቲ ሞል ሁለተኛ ፎቅ ቢሮ ቁ SL05Aከ ሊፍቱ ፊት ለ ፊት ቁ2 ለቡ መዳህኒዓለም ቤተክርስቲያን ፊት ለፊት ዛም_ሞል 2ኛ ፎቅ ቢሮ ቁጥር214 ለቡ ቅርንጫፍ0973611819 0909522840 0923350054 በTelegram ለማዘዝ ይጠቀሙ shager_onlinestore ለተጨማሪ ማብራሪያ የቴሌግራም ገፃችን httpstmeShageronlinestore",
         "2000.0",
         "ETB",
         "ቁ1 መገናኛ ስሪ ኤም ሲቲ ሞል ሁለተኛ ፎቅ ቢሮ ቁ SL05Aከ ሊፍቱ ፊት ለ ፊት ቁ2 ለቡ መዳህኒዓለም ቤተክርስቲያን ፊት ለፊት ዛም_ሞል 2ኛ ፎቅ ቢሮ ቁጥር214 ለቡ ቅርንጫፍ0973611819 0909522840 0923350054 በTelegram ለማዘዝ ይጠቀሙ shager_onlinestore ለተጨማሪ ማብራሪያ የቴሌግራም ገፃችን httpstmeShageronlinestore",
         "251973611819.0",
         "True",
         "7235",
         "Food"
        ],
        [
         "47",
         "Sokany Deep Fryer 35litters 1 Large Frying Basket Adjustable Temperature Up to 190 Timing selection Stainless Steel Housing Overheating Protection Cool Touch Heat Resistance Handle All part Are Dishwasher Safe Except Heating Element Voltage AC 220 240V ዋጋ፦ 4500 ብር ዉስን ፍሬ ነው ያለን limited stock አድራሻ ቁ1 መገናኛ ታሜ ጋስ ህንፃ ጎን ስሪ ኤም ሲቲ ሞል ሁለተኛ ፎቅ ቢሮ ቁ SL05Aከ ሊፍቱ ፊት ለ ፊት ቁ2 ለቡ መዳህኒዓለም ቤተክርስቲያን ፊት ለፊት ዛም_ሞል 2ኛ ፎቅ ቢሮ ቁጥር214 0909522840 0923350054 ለቡ ቅርንጫፍ0973611819 በTelegram ለማዘዝ ይጠቀሙ shager_onlinestore ለተጨማሪ ማብራሪያ የቴሌግራም ገፃችን httpstmeShageronlinestore",
         "4500.0",
         "ETB",
         "ቁ1 መገናኛ ታሜ ጋስ ህንፃ ጎን ስሪ ኤም ሲቲ ሞል ሁለተኛ ፎቅ ቢሮ ቁ SL05Aከ ሊፍቱ ፊት ለ ፊት ቁ2 ለቡ መዳህኒዓለም ቤተክርስቲያን ፊት ለፊት ዛም_ሞል 2ኛ ፎቅ ቢሮ ቁጥር214 0909522840 0923350054 ለቡ ቅርንጫፍ0973611819 በTelegram ለማዘዝ ይጠቀሙ shager_onlinestore ለተጨማሪ ማብራሪያ የቴሌግራም ገፃችን httpstmeShageronlinestore",
         "251909522840.0",
         "True",
         "7231",
         "Other"
        ],
        [
         "48",
         "7pcs Glass water Set ማራኪ እና በዉብ ዲዛይን 16L የመያዝ አቅም ያለው 6 መጠጫ ብርጭቆ ጋር ተጨማሪ 1 ሰርቢስ ያለው ለቤትዎ ተጨማሪ ድምቀት የሚሆን በሁለት የቀለም አማራጭ ዋጋ3900ብር ውስን ፍሬ ነው ያለው አድራሻ ቁ1 መገናኛ ታሜ ጋስ ህንፃ ጎን ስሪ ኤም ሲቲ ሞል ሁለተኛ ፎቅ ቢሮ ቁ SL05Aከ ሊፍቱ ፊት ለ ፊት ቁ2 ለቡ መዳህኒዓለም ቤተክርስቲያን ወደ ሙዚቃ ቤት 100ሜትር ከፍ ብሎ ዛም_ሞል 2ኛ ፎቅ ቢሮቁ 214 0909522840 0923350054 ለቡ ቅርንጫፍ0973611819 በTelegram ለማዘዝ ይጠቀሙ shager_onlinestore ለተጨማሪ ማብራሪያ የቴሌግራም ገፃችን httpstmeShageronlinestore",
         "3900.0",
         "ETB",
         "ቁ1 መገናኛ ታሜ ጋስ ህንፃ ጎን ስሪ ኤም ሲቲ ሞል ሁለተኛ ፎቅ ቢሮ ቁ SL05Aከ ሊፍቱ ፊት ለ ፊት ቁ2 ለቡ መዳህኒዓለም ቤተክርስቲያን ወደ ሙዚቃ ቤት 100ሜትር ከፍ ብሎ ዛም_ሞል 2ኛ ፎቅ ቢሮቁ 214 0909522840 0923350054 ለቡ ቅርንጫፍ0973611819 በTelegram ለማዘዝ ይጠቀሙ shager_onlinestore ለተጨማሪ ማብራሪያ የቴሌግራም ገፃችን httpstmeShageronlinestore",
         "251909522840.0",
         "True",
         "7225",
         "Home Goods"
        ],
        [
         "49",
         "Spin Mop 360 Microfiber Mop ከጠንካራ ማቴሪያል የተሰራ ባሊዉ 4 ጎማ የተገጠመለት ተጨማሪ ቅያሪ ጨርቅ ያለው የራሱ ዉሀ ማፍሰሻ የተገጠመለት ዋጋ3000ብር ውስን ፍሬ ነው ያለን አድራሻ ቁ1 መገናኛ ታሜ ጋስ ህንፃ ጎን ስሪ ኤም ሲቲ ሞል ሁለተኛ ፎቅ ቢሮ ቁ SL05Aከ ሊፍቱ ፊት ለ ፊት ቁ2 ለቡ መዳህኒዓለም ቤተክርስቲያን 100ሜ ወደ ሙዚቃ ቤት ከፍ ብሎ ዛም_ሞል 2ኛ ፎቅ ቢሮቁ 214 0909522840 0923350054 ለቡ ቅርንጫፍ0973611819 በTelegram ለማዘዝ ይጠቀሙ shager_onlinestore ለተጨማሪ ማብራሪያ የቴሌግራም ገፃችን httpstmeShageronlinestore",
         "3000.0",
         "ETB",
         "ቁ1 መገናኛ ታሜ ጋስ ህንፃ ጎን ስሪ ኤም ሲቲ ሞል ሁለተኛ ፎቅ ቢሮ ቁ SL05Aከ ሊፍቱ ፊት ለ ፊት ቁ2 ለቡ መዳህኒዓለም ቤተክርስቲያን 100ሜ ወደ ሙዚቃ ቤት ከፍ ብሎ ዛም_ሞል 2ኛ ፎቅ ቢሮቁ 214 0909522840 0923350054 ለቡ ቅርንጫፍ0973611819 በTelegram ለማዘዝ ይጠቀሙ shager_onlinestore ለተጨማሪ ማብራሪያ የቴሌግራም ገፃችን httpstmeShageronlinestore",
         "251909522840.0",
         "True",
         "7217",
         "Other"
        ]
       ],
       "shape": {
        "columns": 8,
        "rows": 1866
       }
      },
      "text/html": [
       "<div>\n",
       "<style scoped>\n",
       "    .dataframe tbody tr th:only-of-type {\n",
       "        vertical-align: middle;\n",
       "    }\n",
       "\n",
       "    .dataframe tbody tr th {\n",
       "        vertical-align: top;\n",
       "    }\n",
       "\n",
       "    .dataframe thead th {\n",
       "        text-align: right;\n",
       "    }\n",
       "</style>\n",
       "<table border=\"1\" class=\"dataframe\">\n",
       "  <thead>\n",
       "    <tr style=\"text-align: right;\">\n",
       "      <th></th>\n",
       "      <th>product_name</th>\n",
       "      <th>price</th>\n",
       "      <th>currency</th>\n",
       "      <th>location</th>\n",
       "      <th>contact_info</th>\n",
       "      <th>is_available</th>\n",
       "      <th>message_id</th>\n",
       "      <th>product_category</th>\n",
       "    </tr>\n",
       "  </thead>\n",
       "  <tbody>\n",
       "    <tr>\n",
       "      <th>0</th>\n",
       "      <td>BARDEFU 2 IN 1 Multi purpose juicer ኳሊቲ የሆነ የጁ...</td>\n",
       "      <td>6800.0</td>\n",
       "      <td>ETB</td>\n",
       "      <td>ቁ1 መገናኛ ታሜ ጋስ ህንፃ ጎን ስሪ ኤም ሲቲ ሞል ሁለተኛ ፎቅ ቢሮ ቁ ...</td>\n",
       "      <td>2.519095e+11</td>\n",
       "      <td>True</td>\n",
       "      <td>7403</td>\n",
       "      <td>Electronics</td>\n",
       "    </tr>\n",
       "    <tr>\n",
       "      <th>1</th>\n",
       "      <td>portable electrical water dispenser ባለ 3 press...</td>\n",
       "      <td>1600.0</td>\n",
       "      <td>ETB</td>\n",
       "      <td>ቁ1 መገናኛ ታሜ ጋስ ህንፃ ጎን ስሪ ኤም ሲቲ ሞል ሁለተኛ ፎቅ ቢሮ ቁ ...</td>\n",
       "      <td>2.519095e+11</td>\n",
       "      <td>True</td>\n",
       "      <td>7401</td>\n",
       "      <td>Electronics</td>\n",
       "    </tr>\n",
       "    <tr>\n",
       "      <th>2</th>\n",
       "      <td>GROOMING SET ሶስት በአንድ የያዘ የፀጉር ማሽን እና ሼቨር የሚሰራ...</td>\n",
       "      <td>2300.0</td>\n",
       "      <td>ETB</td>\n",
       "      <td>ቁ1 መገናኛ ታሜ ጋስ ህንፃ ጎን ስሪ ኤም ሲቲ ሞል ሁለተኛ ፎቅ ቢሮ ቁ ...</td>\n",
       "      <td>2.519095e+11</td>\n",
       "      <td>True</td>\n",
       "      <td>7399</td>\n",
       "      <td>Home Goods</td>\n",
       "    </tr>\n",
       "    <tr>\n",
       "      <th>3</th>\n",
       "      <td>GROOMING SET ሶስት በአንድ የያዘ የፀጉር ማሽን እና ሼቨር የሚሰራ...</td>\n",
       "      <td>2300.0</td>\n",
       "      <td>ETB</td>\n",
       "      <td>ቁ1 መገናኛ ታሜ ጋስ ህንፃ ጎን ስሪ ኤም ሲቲ ሞል ሁለተኛ ፎቅ ቢሮ ቁ ...</td>\n",
       "      <td>2.519095e+11</td>\n",
       "      <td>True</td>\n",
       "      <td>7395</td>\n",
       "      <td>Home Goods</td>\n",
       "    </tr>\n",
       "    <tr>\n",
       "      <th>4</th>\n",
       "      <td>1L Water Bottle High Quality 1L water time sca...</td>\n",
       "      <td>800.0</td>\n",
       "      <td>ETB</td>\n",
       "      <td>ቁ1 መገናኛ ታሜ ጋስ ህንፃ ጎን ስሪ ኤም ሲቲ ሞል ሁለተኛ ፎቅ ቢሮ ቁ ...</td>\n",
       "      <td>2.519095e+11</td>\n",
       "      <td>True</td>\n",
       "      <td>7393</td>\n",
       "      <td>Home Goods</td>\n",
       "    </tr>\n",
       "    <tr>\n",
       "      <th>...</th>\n",
       "      <td>...</td>\n",
       "      <td>...</td>\n",
       "      <td>...</td>\n",
       "      <td>...</td>\n",
       "      <td>...</td>\n",
       "      <td>...</td>\n",
       "      <td>...</td>\n",
       "      <td>...</td>\n",
       "    </tr>\n",
       "    <tr>\n",
       "      <th>1861</th>\n",
       "      <td>JORDAN 9 size 44142434445 MADE IN VIETNAM SHEW...</td>\n",
       "      <td>NaN</td>\n",
       "      <td>ETB</td>\n",
       "      <td>ድሬዳዋ አሸዋ ሚና 1 ፎቅ እንገኛለን ስልክ 0987336458 0924209...</td>\n",
       "      <td>2.519873e+11</td>\n",
       "      <td>False</td>\n",
       "      <td>2640</td>\n",
       "      <td>Clothing</td>\n",
       "    </tr>\n",
       "    <tr>\n",
       "      <th>1862</th>\n",
       "      <td>Reebok hunter Green size 40414243 MADE IN VIET...</td>\n",
       "      <td>NaN</td>\n",
       "      <td>ETB</td>\n",
       "      <td>ድሬዳዋ አሸዋ ሚና 1 ፎቅ እንገኛለን ስልክ 0987336458 0924209...</td>\n",
       "      <td>2.519873e+11</td>\n",
       "      <td>False</td>\n",
       "      <td>2639</td>\n",
       "      <td>Clothing</td>\n",
       "    </tr>\n",
       "    <tr>\n",
       "      <th>1863</th>\n",
       "      <td>NIKE Alpha Huarache Elite 3 size 40414243 MADE...</td>\n",
       "      <td>NaN</td>\n",
       "      <td>ETB</td>\n",
       "      <td>ድሬዳዋ አሸዋ ሚና 1 ፎቅ እንገኛለን ስልክ 0987336458 0924209...</td>\n",
       "      <td>2.519873e+11</td>\n",
       "      <td>False</td>\n",
       "      <td>2638</td>\n",
       "      <td>Clothing</td>\n",
       "    </tr>\n",
       "    <tr>\n",
       "      <th>1864</th>\n",
       "      <td>Alexander McQUEEN size 36373839 SHEWA BRAND አድ...</td>\n",
       "      <td>NaN</td>\n",
       "      <td>ETB</td>\n",
       "      <td>ድሬዳዋ አሸዋ ሚና 1 ፎቅ እንገኛለን ስልክ 0987336458 0924209...</td>\n",
       "      <td>2.519873e+11</td>\n",
       "      <td>False</td>\n",
       "      <td>2637</td>\n",
       "      <td>Other</td>\n",
       "    </tr>\n",
       "    <tr>\n",
       "      <th>1865</th>\n",
       "      <td>NIKE TEMPUS size 40414243 MADE IN ITALY SHEWA ...</td>\n",
       "      <td>NaN</td>\n",
       "      <td>ETB</td>\n",
       "      <td>ድሬዳዋ አሸዋ ሚና 1 ፎቅ እንገኛለን ስልክ 0987336458 0924209...</td>\n",
       "      <td>2.519873e+11</td>\n",
       "      <td>False</td>\n",
       "      <td>2636</td>\n",
       "      <td>Clothing</td>\n",
       "    </tr>\n",
       "  </tbody>\n",
       "</table>\n",
       "<p>1866 rows × 8 columns</p>\n",
       "</div>"
      ],
      "text/plain": [
       "                                           product_name   price currency  \\\n",
       "0     BARDEFU 2 IN 1 Multi purpose juicer ኳሊቲ የሆነ የጁ...  6800.0      ETB   \n",
       "1     portable electrical water dispenser ባለ 3 press...  1600.0      ETB   \n",
       "2     GROOMING SET ሶስት በአንድ የያዘ የፀጉር ማሽን እና ሼቨር የሚሰራ...  2300.0      ETB   \n",
       "3     GROOMING SET ሶስት በአንድ የያዘ የፀጉር ማሽን እና ሼቨር የሚሰራ...  2300.0      ETB   \n",
       "4     1L Water Bottle High Quality 1L water time sca...   800.0      ETB   \n",
       "...                                                 ...     ...      ...   \n",
       "1861  JORDAN 9 size 44142434445 MADE IN VIETNAM SHEW...     NaN      ETB   \n",
       "1862  Reebok hunter Green size 40414243 MADE IN VIET...     NaN      ETB   \n",
       "1863  NIKE Alpha Huarache Elite 3 size 40414243 MADE...     NaN      ETB   \n",
       "1864  Alexander McQUEEN size 36373839 SHEWA BRAND አድ...     NaN      ETB   \n",
       "1865  NIKE TEMPUS size 40414243 MADE IN ITALY SHEWA ...     NaN      ETB   \n",
       "\n",
       "                                               location  contact_info  \\\n",
       "0     ቁ1 መገናኛ ታሜ ጋስ ህንፃ ጎን ስሪ ኤም ሲቲ ሞል ሁለተኛ ፎቅ ቢሮ ቁ ...  2.519095e+11   \n",
       "1     ቁ1 መገናኛ ታሜ ጋስ ህንፃ ጎን ስሪ ኤም ሲቲ ሞል ሁለተኛ ፎቅ ቢሮ ቁ ...  2.519095e+11   \n",
       "2     ቁ1 መገናኛ ታሜ ጋስ ህንፃ ጎን ስሪ ኤም ሲቲ ሞል ሁለተኛ ፎቅ ቢሮ ቁ ...  2.519095e+11   \n",
       "3     ቁ1 መገናኛ ታሜ ጋስ ህንፃ ጎን ስሪ ኤም ሲቲ ሞል ሁለተኛ ፎቅ ቢሮ ቁ ...  2.519095e+11   \n",
       "4     ቁ1 መገናኛ ታሜ ጋስ ህንፃ ጎን ስሪ ኤም ሲቲ ሞል ሁለተኛ ፎቅ ቢሮ ቁ ...  2.519095e+11   \n",
       "...                                                 ...           ...   \n",
       "1861  ድሬዳዋ አሸዋ ሚና 1 ፎቅ እንገኛለን ስልክ 0987336458 0924209...  2.519873e+11   \n",
       "1862  ድሬዳዋ አሸዋ ሚና 1 ፎቅ እንገኛለን ስልክ 0987336458 0924209...  2.519873e+11   \n",
       "1863  ድሬዳዋ አሸዋ ሚና 1 ፎቅ እንገኛለን ስልክ 0987336458 0924209...  2.519873e+11   \n",
       "1864  ድሬዳዋ አሸዋ ሚና 1 ፎቅ እንገኛለን ስልክ 0987336458 0924209...  2.519873e+11   \n",
       "1865  ድሬዳዋ አሸዋ ሚና 1 ፎቅ እንገኛለን ስልክ 0987336458 0924209...  2.519873e+11   \n",
       "\n",
       "      is_available  message_id product_category  \n",
       "0             True        7403      Electronics  \n",
       "1             True        7401      Electronics  \n",
       "2             True        7399       Home Goods  \n",
       "3             True        7395       Home Goods  \n",
       "4             True        7393       Home Goods  \n",
       "...            ...         ...              ...  \n",
       "1861         False        2640         Clothing  \n",
       "1862         False        2639         Clothing  \n",
       "1863         False        2638         Clothing  \n",
       "1864         False        2637            Other  \n",
       "1865         False        2636         Clothing  \n",
       "\n",
       "[1866 rows x 8 columns]"
      ]
     },
     "execution_count": 13,
     "metadata": {},
     "output_type": "execute_result"
    }
   ],
   "source": [
    "ner_df"
   ]
  },
  {
   "cell_type": "code",
   "execution_count": 24,
   "id": "f441cbf5",
   "metadata": {},
   "outputs": [],
   "source": [
    "def create_full_dataset(metadata_df: pd.DataFrame, message_df: pd.DataFrame) -> pd.DataFrame:\n",
    "    \"\"\"\n",
    "    Merge metadata with NER extracted information\n",
    "    \"\"\"\n",
    "    # Merge with metadata\n",
    "    full_df = pd.merge(\n",
    "        metadata_df,\n",
    "        message_df,\n",
    "        left_on='message_id',\n",
    "        right_on='message_id',\n",
    "        how='left'\n",
    "    )\n",
    "    \n",
    "    # Clean price data\n",
    "    full_df['price'] = pd.to_numeric(full_df['price'], errors='coerce')\n",
    "    \n",
    "    return full_df\n",
    "\n",
    "# Example usage\n",
    "full_dataset = create_full_dataset(metadata_df, ner_df)"
   ]
  },
  {
   "cell_type": "code",
   "execution_count": 16,
   "id": "869417e7",
   "metadata": {},
   "outputs": [
    {
     "data": {
      "text/plain": [
       "Index(['message_id', 'channel_name', 'channel_username', 'timestamp',\n",
       "       'has_media', 'media_type', 'message_length', 'word_count',\n",
       "       'amharic_ratio', 'hour_of_day', 'day_of_week', 'product_name', 'price',\n",
       "       'currency', 'location', 'contact_info', 'is_available',\n",
       "       'product_category'],\n",
       "      dtype='object')"
      ]
     },
     "execution_count": 16,
     "metadata": {},
     "output_type": "execute_result"
    }
   ],
   "source": [
    "full_dataset.columns"
   ]
  },
  {
   "cell_type": "code",
   "execution_count": 25,
   "id": "b69dee52",
   "metadata": {},
   "outputs": [
    {
     "data": {
      "application/vnd.microsoft.datawrangler.viewer.v0+json": {
       "columns": [
        {
         "name": "index",
         "rawType": "object",
         "type": "string"
        },
        {
         "name": "0",
         "rawType": "int64",
         "type": "integer"
        }
       ],
       "ref": "59b60b0b-18a2-4142-910e-57eb19e2e846",
       "rows": [
        [
         "message_id",
         "0"
        ],
        [
         "channel_name",
         "0"
        ],
        [
         "channel_username",
         "0"
        ],
        [
         "timestamp",
         "0"
        ],
        [
         "has_media",
         "0"
        ],
        [
         "media_type",
         "0"
        ],
        [
         "message_length",
         "0"
        ],
        [
         "word_count",
         "0"
        ],
        [
         "amharic_ratio",
         "0"
        ],
        [
         "hour_of_day",
         "0"
        ],
        [
         "day_of_week",
         "0"
        ],
        [
         "product_name",
         "0"
        ],
        [
         "price",
         "605"
        ],
        [
         "currency",
         "0"
        ],
        [
         "location",
         "201"
        ],
        [
         "contact_info",
         "16"
        ],
        [
         "is_available",
         "0"
        ],
        [
         "product_category",
         "0"
        ]
       ],
       "shape": {
        "columns": 1,
        "rows": 18
       }
      },
      "text/plain": [
       "message_id            0\n",
       "channel_name          0\n",
       "channel_username      0\n",
       "timestamp             0\n",
       "has_media             0\n",
       "media_type            0\n",
       "message_length        0\n",
       "word_count            0\n",
       "amharic_ratio         0\n",
       "hour_of_day           0\n",
       "day_of_week           0\n",
       "product_name          0\n",
       "price               605\n",
       "currency              0\n",
       "location            201\n",
       "contact_info         16\n",
       "is_available          0\n",
       "product_category      0\n",
       "dtype: int64"
      ]
     },
     "execution_count": 25,
     "metadata": {},
     "output_type": "execute_result"
    }
   ],
   "source": [
    "full_dataset.isna().sum()"
   ]
  },
  {
   "cell_type": "markdown",
   "id": "1ed24ae3",
   "metadata": {},
   "source": [
    "Handle Missing Values"
   ]
  },
  {
   "cell_type": "code",
   "execution_count": 31,
   "id": "bd5a811d",
   "metadata": {},
   "outputs": [],
   "source": [
    "# Fill missing values in 'price' column\n",
    "# Use median price for product category\n",
    "category_median = full_dataset.groupby('product_category')['price'].transform('median')\n",
    "full_dataset['price'] = full_dataset['price'].fillna(category_median)\n",
    "\n",
    "# Fill missing values in 'location' column\n",
    "# Calculate the mode for each group (returns a Series with the first mode if multiple exist)\n",
    "location_mode = (\n",
    "    full_dataset.groupby('channel_username')['location']\n",
    "    .agg(lambda x: x.mode()[0] if not x.mode().empty else np.nan)\n",
    ")\n",
    "\n",
    "# Fill missing 'location' values using the mapped mode\n",
    "full_dataset['location'] = full_dataset['location'].fillna(\n",
    "    full_dataset['channel_username'].map(location_mode)\n",
    ")\n",
    "\n",
    "# Fill missing values in 'contact_info' column\n",
    "contact_info_mode = full_dataset.groupby(\"channel_username\")['contact_info'].transform('median')\n",
    "full_dataset['contact_info'] = full_dataset['contact_info'].fillna(contact_info_mode)\n"
   ]
  },
  {
   "cell_type": "code",
   "execution_count": 32,
   "id": "cfe80eb3",
   "metadata": {},
   "outputs": [
    {
     "data": {
      "application/vnd.microsoft.datawrangler.viewer.v0+json": {
       "columns": [
        {
         "name": "index",
         "rawType": "object",
         "type": "string"
        },
        {
         "name": "0",
         "rawType": "int64",
         "type": "integer"
        }
       ],
       "ref": "3d6e4c2b-66d9-4fc9-9c43-2d3db037eeb4",
       "rows": [
        [
         "message_id",
         "0"
        ],
        [
         "channel_name",
         "0"
        ],
        [
         "channel_username",
         "0"
        ],
        [
         "timestamp",
         "0"
        ],
        [
         "has_media",
         "0"
        ],
        [
         "media_type",
         "0"
        ],
        [
         "message_length",
         "0"
        ],
        [
         "word_count",
         "0"
        ],
        [
         "amharic_ratio",
         "0"
        ],
        [
         "hour_of_day",
         "0"
        ],
        [
         "day_of_week",
         "0"
        ],
        [
         "product_name",
         "0"
        ],
        [
         "price",
         "0"
        ],
        [
         "currency",
         "0"
        ],
        [
         "location",
         "0"
        ],
        [
         "contact_info",
         "0"
        ],
        [
         "is_available",
         "0"
        ],
        [
         "product_category",
         "0"
        ]
       ],
       "shape": {
        "columns": 1,
        "rows": 18
       }
      },
      "text/plain": [
       "message_id          0\n",
       "channel_name        0\n",
       "channel_username    0\n",
       "timestamp           0\n",
       "has_media           0\n",
       "media_type          0\n",
       "message_length      0\n",
       "word_count          0\n",
       "amharic_ratio       0\n",
       "hour_of_day         0\n",
       "day_of_week         0\n",
       "product_name        0\n",
       "price               0\n",
       "currency            0\n",
       "location            0\n",
       "contact_info        0\n",
       "is_available        0\n",
       "product_category    0\n",
       "dtype: int64"
      ]
     },
     "execution_count": 32,
     "metadata": {},
     "output_type": "execute_result"
    }
   ],
   "source": [
    "full_dataset.isna().sum()"
   ]
  },
  {
   "cell_type": "code",
   "execution_count": 39,
   "id": "0e67c016",
   "metadata": {},
   "outputs": [
    {
     "data": {
      "application/vnd.microsoft.datawrangler.viewer.v0+json": {
       "columns": [
        {
         "name": "index",
         "rawType": "object",
         "type": "string"
        },
        {
         "name": "price",
         "rawType": "float64",
         "type": "float"
        }
       ],
       "ref": "12696f58-2e9e-4a76-95e1-ba787f75a646",
       "rows": [
        [
         "count",
         "1866.0"
        ],
        [
         "mean",
         "3225.165058949625"
        ],
        [
         "std",
         "1216.95013482467"
        ],
        [
         "min",
         "4.0"
        ],
        [
         "25%",
         "3100.0"
        ],
        [
         "50%",
         "3300.0"
        ],
        [
         "75%",
         "3400.0"
        ],
        [
         "max",
         "26000.0"
        ]
       ],
       "shape": {
        "columns": 1,
        "rows": 8
       }
      },
      "text/plain": [
       "count     1866.000000\n",
       "mean      3225.165059\n",
       "std       1216.950135\n",
       "min          4.000000\n",
       "25%       3100.000000\n",
       "50%       3300.000000\n",
       "75%       3400.000000\n",
       "max      26000.000000\n",
       "Name: price, dtype: float64"
      ]
     },
     "execution_count": 39,
     "metadata": {},
     "output_type": "execute_result"
    }
   ],
   "source": [
    "full_dataset['price'].describe()"
   ]
  },
  {
   "cell_type": "code",
   "execution_count": 46,
   "id": "a66c3f3f",
   "metadata": {},
   "outputs": [],
   "source": [
    "from datetime import datetime, timedelta\n",
    "\n",
    "def calculate_vendor_metrics(merged_df):\n",
    "    \"\"\"\n",
    "    Processes the full dataset to calculate lending metrics per vendor\n",
    "    Returns a DataFrame with vendor scorecards\n",
    "    \"\"\"\n",
    "    # Convert timestamp\n",
    "    merged_df['date'] = pd.to_datetime(merged_df['timestamp']).dt.date\n",
    "    \n",
    "    # Group by vendor\n",
    "    vendor_groups = merged_df.groupby('channel_username')\n",
    "    \n",
    "    scorecards = []\n",
    "    \n",
    "    for vendor, group in vendor_groups:\n",
    "        # Activity Metrics\n",
    "        date_range = (group['date'].max() - group['date'].min()).days\n",
    "        posts_per_week = len(group) / (date_range / 7) if date_range > 0 else 0\n",
    "        \n",
    "        # Engagement Metrics (assuming 'views' column exists)\n",
    "        avg_views = group['views'].mean() if 'views' in group.columns else np.nan\n",
    "        top_post = group.loc[group['views'].idxmax()] if 'views' in group.columns else None\n",
    "        \n",
    "        # Business Profile\n",
    "        avg_price = group['price'].mean()\n",
    "        price_category = 'High-margin' if avg_price > 3300 else 'Volume' \n",
    "        \n",
    "        # Calculate Lending Score (customize weights as needed)\n",
    "        lending_score = (\n",
    "            0.4 * (avg_views / 3300 if not np.isnan(avg_views) else 0.5) + \n",
    "            0.3 * min(posts_per_week / 5, 1) + \n",
    "            0.2 * (1 if price_category == 'High-margin' else 0.7) + \n",
    "            0.1 * (group['has_media'].mean())\n",
    "        ) * 100\n",
    "        \n",
    "        scorecards.append({\n",
    "            'Vendor ID': vendor,\n",
    "            'Vendor Name': group['channel_name'].iloc[0],\n",
    "            'Avg. Views/Post': round(avg_views) if not np.isnan(avg_views) else 'N/A',\n",
    "            'Posts/Week': round(posts_per_week, 1),\n",
    "            'Avg. Price (ETB)': round(avg_price),\n",
    "            'Price Strategy': price_category,\n",
    "            'Top Product': top_post['product_name'] if top_post is not None else 'N/A',\n",
    "            'Top Product Price': top_post['price'] if top_post is not None else 'N/A',\n",
    "            'Media Ratio': f\"{group['has_media'].mean():.0%}\",\n",
    "            'Lending Score': round(lending_score)\n",
    "        })\n",
    "    \n",
    "    return pd.DataFrame(scorecards)\n"
   ]
  },
  {
   "cell_type": "code",
   "execution_count": null,
   "id": "8d44aca8",
   "metadata": {},
   "outputs": [],
   "source": [
    "# Generate Scorecard Report\n",
    "def generate_scorecard_report(scorecard_df):\n",
    "    \"\"\"Formats the final report with key sections\"\"\"\n",
    "    report = f\"\"\"\n",
    "    ETHIOMART VENDOR SCORECARD\n",
    "    Generated on: {datetime.now().strftime('%Y-%m-%d')}\n",
    "    Total Vendors Analyzed: {len(scorecard_df)}\n",
    "    \n",
    "    ========================\n",
    "    KEY METRICS SUMMARY:\n",
    "    {scorecard_df[['Vendor Name', 'Posts/Week', 'Avg. Price (ETB)', 'Lending Score']]\n",
    "     .sort_values('Lending Score', ascending=False)\n",
    "     .head(10)\n",
    "     .to_string(index=False)}\n",
    "    \n",
    "    ========================\n",
    "    TOP PERFORMERS BY CATEGORY:\n",
    "    • Highest Engagement: {scorecard_df.loc[scorecard_df['Avg. Views/Post'].idxmax()]['Vendor Name']}\n",
    "    • Most Active: {scorecard_df.loc[scorecard_df['Posts/Week'].idxmax()]['Vendor Name']}\n",
    "    • Premium Sellers: {scorecard_df.loc[scorecard_df['Avg. Price (ETB)'].idxmax()]['Vendor Name']}\n",
    "    \n",
    "    ========================\n",
    "    LENDING RECOMMENDATIONS:\n",
    "    \"\"\"\n",
    "    \n",
    "    # Add lending recommendations\n",
    "    for _, row in scorecard_df[scorecard_df['Lending Score'] >= 70].iterrows():\n",
    "        report += f\"\\n• APPROVE {row['Vendor Name']} ({row['Lending Score']}): ${min(round(row['Avg. Price (ETB)'] * 10), 50000)} ETB micro-loan\"\n",
    "    \n",
    "    return report\n"
   ]
  },
  {
   "cell_type": "code",
   "execution_count": 53,
   "id": "4bdcd29c",
   "metadata": {},
   "outputs": [],
   "source": [
    "scorecard = calculate_vendor_metrics(full_dataset)\n"
   ]
  },
  {
   "cell_type": "code",
   "execution_count": 56,
   "id": "f230f7e9",
   "metadata": {},
   "outputs": [
    {
     "data": {
      "application/vnd.microsoft.datawrangler.viewer.v0+json": {
       "columns": [
        {
         "name": "index",
         "rawType": "int64",
         "type": "integer"
        },
        {
         "name": "Vendor ID",
         "rawType": "object",
         "type": "string"
        },
        {
         "name": "Vendor Name",
         "rawType": "object",
         "type": "string"
        },
        {
         "name": "Avg. Views/Post",
         "rawType": "object",
         "type": "string"
        },
        {
         "name": "Posts/Week",
         "rawType": "float64",
         "type": "float"
        },
        {
         "name": "Avg. Price (ETB)",
         "rawType": "int64",
         "type": "integer"
        },
        {
         "name": "Price Strategy",
         "rawType": "object",
         "type": "string"
        },
        {
         "name": "Top Product",
         "rawType": "object",
         "type": "string"
        },
        {
         "name": "Top Product Price",
         "rawType": "object",
         "type": "string"
        },
        {
         "name": "Media Ratio",
         "rawType": "object",
         "type": "string"
        },
        {
         "name": "Lending Score",
         "rawType": "int64",
         "type": "integer"
        }
       ],
       "ref": "76b7ace8-bbf9-4c8c-80a9-2520701c23e5",
       "rows": [
        [
         "0",
         "@Shewabrand",
         "Shewa Brand",
         "N/A",
         "5.5",
         "3217",
         "Volume",
         "N/A",
         "N/A",
         "100%",
         "74"
        ],
        [
         "1",
         "@ethio_brand_collection",
         "EthioBrand®",
         "N/A",
         "10.5",
         "3390",
         "High-margin",
         "N/A",
         "N/A",
         "100%",
         "80"
        ],
        [
         "2",
         "@shageronlinestore",
         "Sheger online-store",
         "N/A",
         "14.6",
         "2654",
         "Volume",
         "N/A",
         "N/A",
         "100%",
         "74"
        ]
       ],
       "shape": {
        "columns": 10,
        "rows": 3
       }
      },
      "text/html": [
       "<div>\n",
       "<style scoped>\n",
       "    .dataframe tbody tr th:only-of-type {\n",
       "        vertical-align: middle;\n",
       "    }\n",
       "\n",
       "    .dataframe tbody tr th {\n",
       "        vertical-align: top;\n",
       "    }\n",
       "\n",
       "    .dataframe thead th {\n",
       "        text-align: right;\n",
       "    }\n",
       "</style>\n",
       "<table border=\"1\" class=\"dataframe\">\n",
       "  <thead>\n",
       "    <tr style=\"text-align: right;\">\n",
       "      <th></th>\n",
       "      <th>Vendor ID</th>\n",
       "      <th>Vendor Name</th>\n",
       "      <th>Avg. Views/Post</th>\n",
       "      <th>Posts/Week</th>\n",
       "      <th>Avg. Price (ETB)</th>\n",
       "      <th>Price Strategy</th>\n",
       "      <th>Top Product</th>\n",
       "      <th>Top Product Price</th>\n",
       "      <th>Media Ratio</th>\n",
       "      <th>Lending Score</th>\n",
       "    </tr>\n",
       "  </thead>\n",
       "  <tbody>\n",
       "    <tr>\n",
       "      <th>0</th>\n",
       "      <td>@Shewabrand</td>\n",
       "      <td>Shewa Brand</td>\n",
       "      <td>N/A</td>\n",
       "      <td>5.5</td>\n",
       "      <td>3217</td>\n",
       "      <td>Volume</td>\n",
       "      <td>N/A</td>\n",
       "      <td>N/A</td>\n",
       "      <td>100%</td>\n",
       "      <td>74</td>\n",
       "    </tr>\n",
       "    <tr>\n",
       "      <th>1</th>\n",
       "      <td>@ethio_brand_collection</td>\n",
       "      <td>EthioBrand®</td>\n",
       "      <td>N/A</td>\n",
       "      <td>10.5</td>\n",
       "      <td>3390</td>\n",
       "      <td>High-margin</td>\n",
       "      <td>N/A</td>\n",
       "      <td>N/A</td>\n",
       "      <td>100%</td>\n",
       "      <td>80</td>\n",
       "    </tr>\n",
       "    <tr>\n",
       "      <th>2</th>\n",
       "      <td>@shageronlinestore</td>\n",
       "      <td>Sheger online-store</td>\n",
       "      <td>N/A</td>\n",
       "      <td>14.6</td>\n",
       "      <td>2654</td>\n",
       "      <td>Volume</td>\n",
       "      <td>N/A</td>\n",
       "      <td>N/A</td>\n",
       "      <td>100%</td>\n",
       "      <td>74</td>\n",
       "    </tr>\n",
       "  </tbody>\n",
       "</table>\n",
       "</div>"
      ],
      "text/plain": [
       "                 Vendor ID          Vendor Name Avg. Views/Post  Posts/Week  \\\n",
       "0              @Shewabrand          Shewa Brand             N/A         5.5   \n",
       "1  @ethio_brand_collection          EthioBrand®             N/A        10.5   \n",
       "2       @shageronlinestore  Sheger online-store             N/A        14.6   \n",
       "\n",
       "   Avg. Price (ETB) Price Strategy Top Product Top Product Price Media Ratio  \\\n",
       "0              3217         Volume         N/A               N/A        100%   \n",
       "1              3390    High-margin         N/A               N/A        100%   \n",
       "2              2654         Volume         N/A               N/A        100%   \n",
       "\n",
       "   Lending Score  \n",
       "0             74  \n",
       "1             80  \n",
       "2             74  "
      ]
     },
     "execution_count": 56,
     "metadata": {},
     "output_type": "execute_result"
    }
   ],
   "source": [
    "scorecard"
   ]
  },
  {
   "cell_type": "code",
   "execution_count": 57,
   "id": "a4011cbd",
   "metadata": {},
   "outputs": [],
   "source": [
    "scorecard_report = generate_scorecard_report(scorecard)"
   ]
  },
  {
   "cell_type": "code",
   "execution_count": 58,
   "id": "81b556cf",
   "metadata": {},
   "outputs": [
    {
     "data": {
      "text/markdown": [
       "```\n",
       "\n",
       "    ETHIOMART VENDOR SCORECARD\n",
       "    Generated on: 2025-06-24\n",
       "    Total Vendors Analyzed: 3\n",
       "\n",
       "    ========================\n",
       "    KEY METRICS SUMMARY:\n",
       "            Vendor Name  Posts/Week  Avg. Price (ETB)  Lending Score\n",
       "        EthioBrand®        10.5              3390             80\n",
       "        Shewa Brand         5.5              3217             74\n",
       "Sheger online-store        14.6              2654             74\n",
       "\n",
       "    ========================\n",
       "    TOP PERFORMERS BY CATEGORY:\n",
       "    • Highest Engagement: Shewa Brand\n",
       "    • Most Active: Sheger online-store\n",
       "    • Premium Sellers: EthioBrand®\n",
       "\n",
       "    ========================\n",
       "    LENDING RECOMMENDATIONS:\n",
       "    \n",
       "• APPROVE Shewa Brand (74): $32170 ETB micro-loan\n",
       "• APPROVE EthioBrand® (80): $33900 ETB micro-loan\n",
       "• APPROVE Sheger online-store (74): $26540 ETB micro-loan\n",
       "```"
      ],
      "text/plain": [
       "<IPython.core.display.Markdown object>"
      ]
     },
     "metadata": {},
     "output_type": "display_data"
    }
   ],
   "source": [
    "from IPython.display import Markdown, display\n",
    "\n",
    "display(Markdown(f\"```\\n{scorecard_report}\\n```\"))"
   ]
  },
  {
   "cell_type": "code",
   "execution_count": null,
   "id": "b6ed02e5",
   "metadata": {},
   "outputs": [
    {
     "data": {
      "image/png": "[encoded data removed]",
      "text/plain": [
       "<Figure size 1000x600 with 1 Axes>"
      ]
     },
     "metadata": {},
     "output_type": "display_data"
    },
    {
     "data": {
      "image/png": "[encoded data removed]",
      "text/plain": [
       "<Figure size 1000x600 with 2 Axes>"
      ]
     },
     "metadata": {},
     "output_type": "display_data"
    }
   ],
   "source": [
    "import matplotlib.pyplot as plt\n",
    "import pandas as pd\n",
    "\n",
    "def create_visualizations(df):    \n",
    "    # Score Distribution\n",
    "    plt.figure(figsize=(10,6))\n",
    "    plt.hist(df['Lending Score'], bins=20, color='skyblue')\n",
    "    plt.title(\"Vendor Lending Score Distribution\")\n",
    "    plt.xlabel(\"Score\")\n",
    "    plt.ylabel(\"Number of Vendors\")\n",
    "    plt.show()\n",
    "    \n",
    "    # Price vs. Activity\n",
    "    plt.figure(figsize=(10,6))\n",
    "    plt.scatter(df['Posts/Week'], df['Avg. Price (ETB)'], c=df['Lending Score'], cmap='viridis')\n",
    "    plt.colorbar(label='Lending Score')\n",
    "    plt.title(\"Business Activity vs. Price Point\")\n",
    "    plt.xlabel(\"Posts/Week\")\n",
    "    plt.ylabel(\"Average Price (ETB)\")\n",
    "    plt.show()\n",
    "\n",
    "create_visualizations(scorecard)"
   ]
  }
 ],
 "metadata": {
  "kernelspec": {
   "display_name": "venv",
   "language": "python",
   "name": "python3"
  },
  "language_info": {
   "codemirror_mode": {
    "name": "ipython",
    "version": 3
   },
   "file_extension": ".py",
   "mimetype": "text/x-python",
   "name": "python",
   "nbconvert_exporter": "python",
   "pygments_lexer": "ipython3",
   "version": "3.13.3"
  }
 },
 "nbformat": 4,
 "nbformat_minor": 5
}
