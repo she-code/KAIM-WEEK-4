{
 "cells": [
  {
   "cell_type": "code",
   "execution_count": 5,
   "id": "dcfe20ce",
   "metadata": {},
   "outputs": [
    {
     "name": "stderr",
     "output_type": "stream",
     "text": [
      "Attempt 1 at connecting failed: TimeoutError: \n",
      "Attempt 2 at connecting failed: TimeoutError: \n",
      "Attempt 3 at connecting failed: TimeoutError: \n",
      "Attempt 4 at connecting failed: TimeoutError: \n"
     ]
    },
    {
     "name": "stdout",
     "output_type": "stream",
     "text": [
      "Scraped data from @shageronlinestore\n",
      "Scraped data from @ethio_brand_collection\n"
     ]
    },
    {
     "ename": "CancelledError",
     "evalue": "",
     "output_type": "error",
     "traceback": [
      "\u001b[31m---------------------------------------------------------------------------\u001b[39m",
      "\u001b[31mCancelledError\u001b[39m                            Traceback (most recent call last)",
      "\u001b[36mCell\u001b[39m\u001b[36m \u001b[39m\u001b[32mIn[5]\u001b[39m\u001b[32m, line 55\u001b[39m\n\u001b[32m     52\u001b[39m             \u001b[38;5;28mprint\u001b[39m(\u001b[33mf\u001b[39m\u001b[33m\"\u001b[39m\u001b[33mScraped data from \u001b[39m\u001b[38;5;132;01m{\u001b[39;00mchannel\u001b[38;5;132;01m}\u001b[39;00m\u001b[33m\"\u001b[39m)\n\u001b[32m     54\u001b[39m \u001b[38;5;28;01masync\u001b[39;00m \u001b[38;5;28;01mwith\u001b[39;00m client:\n\u001b[32m---> \u001b[39m\u001b[32m55\u001b[39m     \u001b[38;5;28;01mawait\u001b[39;00m main()\n",
      "\u001b[36mCell\u001b[39m\u001b[36m \u001b[39m\u001b[32mIn[5]\u001b[39m\u001b[32m, line 51\u001b[39m, in \u001b[36mmain\u001b[39m\u001b[34m()\u001b[39m\n\u001b[32m     49\u001b[39m \u001b[38;5;66;03m# Iterate over channels and scrape data into the single CSV file\u001b[39;00m\n\u001b[32m     50\u001b[39m \u001b[38;5;28;01mfor\u001b[39;00m channel \u001b[38;5;129;01min\u001b[39;00m channels:\n\u001b[32m---> \u001b[39m\u001b[32m51\u001b[39m     \u001b[38;5;28;01mawait\u001b[39;00m scrape_channel(client, channel, writer, media_dir)\n\u001b[32m     52\u001b[39m     \u001b[38;5;28mprint\u001b[39m(\u001b[33mf\u001b[39m\u001b[33m\"\u001b[39m\u001b[33mScraped data from \u001b[39m\u001b[38;5;132;01m{\u001b[39;00mchannel\u001b[38;5;132;01m}\u001b[39;00m\u001b[33m\"\u001b[39m)\n",
      "\u001b[36mCell\u001b[39m\u001b[36m \u001b[39m\u001b[32mIn[5]\u001b[39m\u001b[32m, line 23\u001b[39m, in \u001b[36mscrape_channel\u001b[39m\u001b[34m(client, channel_username, writer, media_dir)\u001b[39m\n\u001b[32m     21\u001b[39m     media_path = os.path.join(media_dir, filename)\n\u001b[32m     22\u001b[39m     \u001b[38;5;66;03m# Download the media to the specified directory if it's a photo\u001b[39;00m\n\u001b[32m---> \u001b[39m\u001b[32m23\u001b[39m     \u001b[38;5;28;01mawait\u001b[39;00m client.download_media(message.media, media_path)\n\u001b[32m     25\u001b[39m \u001b[38;5;66;03m# Write the channel title along with other data\u001b[39;00m\n\u001b[32m     26\u001b[39m writer.writerow([channel_title, channel_username, message.id, message.message, message.date, media_path])\n",
      "\u001b[36mFile \u001b[39m\u001b[32md:\\projects\\TenAcademy\\week4\\KAIM-WEEK-4\\venv\\Lib\\site-packages\\telethon\\client\\downloads.py:434\u001b[39m, in \u001b[36mDownloadMethods.download_media\u001b[39m\u001b[34m(self, message, file, thumb, progress_callback)\u001b[39m\n\u001b[32m    431\u001b[39m         media = media.webpage.document \u001b[38;5;129;01mor\u001b[39;00m media.webpage.photo\n\u001b[32m    433\u001b[39m \u001b[38;5;28;01mif\u001b[39;00m \u001b[38;5;28misinstance\u001b[39m(media, (types.MessageMediaPhoto, types.Photo)):\n\u001b[32m--> \u001b[39m\u001b[32m434\u001b[39m     \u001b[38;5;28;01mreturn\u001b[39;00m \u001b[38;5;28;01mawait\u001b[39;00m \u001b[38;5;28mself\u001b[39m._download_photo(\n\u001b[32m    435\u001b[39m         media, file, date, thumb, progress_callback\n\u001b[32m    436\u001b[39m     )\n\u001b[32m    437\u001b[39m \u001b[38;5;28;01melif\u001b[39;00m \u001b[38;5;28misinstance\u001b[39m(media, (types.MessageMediaDocument, types.Document)):\n\u001b[32m    438\u001b[39m     \u001b[38;5;28;01mreturn\u001b[39;00m \u001b[38;5;28;01mawait\u001b[39;00m \u001b[38;5;28mself\u001b[39m._download_document(\n\u001b[32m    439\u001b[39m         media, file, date, thumb, progress_callback, msg_data\n\u001b[32m    440\u001b[39m     )\n",
      "\u001b[36mFile \u001b[39m\u001b[32md:\\projects\\TenAcademy\\week4\\KAIM-WEEK-4\\venv\\Lib\\site-packages\\telethon\\client\\downloads.py:868\u001b[39m, in \u001b[36mDownloadMethods._download_photo\u001b[39m\u001b[34m(self, photo, file, date, thumb, progress_callback)\u001b[39m\n\u001b[32m    865\u001b[39m \u001b[38;5;28;01melse\u001b[39;00m:\n\u001b[32m    866\u001b[39m     file_size = size.size\n\u001b[32m--> \u001b[39m\u001b[32m868\u001b[39m result = \u001b[38;5;28;01mawait\u001b[39;00m \u001b[38;5;28mself\u001b[39m.download_file(\n\u001b[32m    869\u001b[39m     types.InputPhotoFileLocation(\n\u001b[32m    870\u001b[39m         \u001b[38;5;28mid\u001b[39m=photo.id,\n\u001b[32m    871\u001b[39m         access_hash=photo.access_hash,\n\u001b[32m    872\u001b[39m         file_reference=photo.file_reference,\n\u001b[32m    873\u001b[39m         thumb_size=size.type\n\u001b[32m    874\u001b[39m     ),\n\u001b[32m    875\u001b[39m     file,\n\u001b[32m    876\u001b[39m     file_size=file_size,\n\u001b[32m    877\u001b[39m     progress_callback=progress_callback\n\u001b[32m    878\u001b[39m )\n\u001b[32m    879\u001b[39m \u001b[38;5;28;01mreturn\u001b[39;00m result \u001b[38;5;28;01mif\u001b[39;00m file \u001b[38;5;129;01mis\u001b[39;00m \u001b[38;5;28mbytes\u001b[39m \u001b[38;5;28;01melse\u001b[39;00m file\n",
      "\u001b[36mFile \u001b[39m\u001b[32md:\\projects\\TenAcademy\\week4\\KAIM-WEEK-4\\venv\\Lib\\site-packages\\telethon\\client\\downloads.py:513\u001b[39m, in \u001b[36mDownloadMethods.download_file\u001b[39m\u001b[34m(self, input_location, file, part_size_kb, file_size, progress_callback, dc_id, key, iv)\u001b[39m\n\u001b[32m    450\u001b[39m \u001b[38;5;28;01masync\u001b[39;00m \u001b[38;5;28;01mdef\u001b[39;00m\u001b[38;5;250m \u001b[39m\u001b[34mdownload_file\u001b[39m(\n\u001b[32m    451\u001b[39m         \u001b[38;5;28mself\u001b[39m: \u001b[33m'\u001b[39m\u001b[33mTelegramClient\u001b[39m\u001b[33m'\u001b[39m,\n\u001b[32m    452\u001b[39m         input_location: \u001b[33m'\u001b[39m\u001b[33mhints.FileLike\u001b[39m\u001b[33m'\u001b[39m,\n\u001b[32m   (...)\u001b[39m\u001b[32m    459\u001b[39m         key: \u001b[38;5;28mbytes\u001b[39m = \u001b[38;5;28;01mNone\u001b[39;00m,\n\u001b[32m    460\u001b[39m         iv: \u001b[38;5;28mbytes\u001b[39m = \u001b[38;5;28;01mNone\u001b[39;00m) -> typing.Optional[\u001b[38;5;28mbytes\u001b[39m]:\n\u001b[32m    461\u001b[39m \u001b[38;5;250m    \u001b[39m\u001b[33;03m\"\"\"\u001b[39;00m\n\u001b[32m    462\u001b[39m \u001b[33;03m    Low-level method to download files from their input location.\u001b[39;00m\n\u001b[32m    463\u001b[39m \n\u001b[32m   (...)\u001b[39m\u001b[32m    511\u001b[39m \u001b[33;03m            print(data[:16])\u001b[39;00m\n\u001b[32m    512\u001b[39m \u001b[33;03m    \"\"\"\u001b[39;00m\n\u001b[32m--> \u001b[39m\u001b[32m513\u001b[39m     \u001b[38;5;28;01mreturn\u001b[39;00m \u001b[38;5;28;01mawait\u001b[39;00m \u001b[38;5;28mself\u001b[39m._download_file(\n\u001b[32m    514\u001b[39m         input_location,\n\u001b[32m    515\u001b[39m         file,\n\u001b[32m    516\u001b[39m         part_size_kb=part_size_kb,\n\u001b[32m    517\u001b[39m         file_size=file_size,\n\u001b[32m    518\u001b[39m         progress_callback=progress_callback,\n\u001b[32m    519\u001b[39m         dc_id=dc_id,\n\u001b[32m    520\u001b[39m         key=key,\n\u001b[32m    521\u001b[39m         iv=iv,\n\u001b[32m    522\u001b[39m     )\n",
      "\u001b[36mFile \u001b[39m\u001b[32md:\\projects\\TenAcademy\\week4\\KAIM-WEEK-4\\venv\\Lib\\site-packages\\telethon\\client\\downloads.py:563\u001b[39m, in \u001b[36mDownloadMethods._download_file\u001b[39m\u001b[34m(self, input_location, file, part_size_kb, file_size, progress_callback, dc_id, key, iv, msg_data, cdn_redirect)\u001b[39m\n\u001b[32m    560\u001b[39m     f = file\n\u001b[32m    562\u001b[39m \u001b[38;5;28;01mtry\u001b[39;00m:\n\u001b[32m--> \u001b[39m\u001b[32m563\u001b[39m     \u001b[38;5;28;01masync\u001b[39;00m \u001b[38;5;28;01mfor\u001b[39;00m chunk \u001b[38;5;129;01min\u001b[39;00m \u001b[38;5;28mself\u001b[39m._iter_download(\n\u001b[32m    564\u001b[39m             input_location, request_size=part_size, dc_id=dc_id, msg_data=msg_data, cdn_redirect=cdn_redirect):\n\u001b[32m    565\u001b[39m         \u001b[38;5;28;01mif\u001b[39;00m iv \u001b[38;5;129;01mand\u001b[39;00m key:\n\u001b[32m    566\u001b[39m             chunk = AES.decrypt_ige(chunk, key, iv)\n",
      "\u001b[36mFile \u001b[39m\u001b[32md:\\projects\\TenAcademy\\week4\\KAIM-WEEK-4\\venv\\Lib\\site-packages\\telethon\\requestiter.py:74\u001b[39m, in \u001b[36mRequestIter.__anext__\u001b[39m\u001b[34m(self)\u001b[39m\n\u001b[32m     72\u001b[39m     \u001b[38;5;28mself\u001b[39m.index = \u001b[32m0\u001b[39m\n\u001b[32m     73\u001b[39m     \u001b[38;5;28mself\u001b[39m.buffer = []\n\u001b[32m---> \u001b[39m\u001b[32m74\u001b[39m     \u001b[38;5;28;01mif\u001b[39;00m \u001b[38;5;28;01mawait\u001b[39;00m \u001b[38;5;28mself\u001b[39m._load_next_chunk():\n\u001b[32m     75\u001b[39m         \u001b[38;5;28mself\u001b[39m.left = \u001b[38;5;28mlen\u001b[39m(\u001b[38;5;28mself\u001b[39m.buffer)\n\u001b[32m     77\u001b[39m \u001b[38;5;28;01mif\u001b[39;00m \u001b[38;5;129;01mnot\u001b[39;00m \u001b[38;5;28mself\u001b[39m.buffer:\n",
      "\u001b[36mFile \u001b[39m\u001b[32md:\\projects\\TenAcademy\\week4\\KAIM-WEEK-4\\venv\\Lib\\site-packages\\telethon\\client\\downloads.py:76\u001b[39m, in \u001b[36m_DirectDownloadIter._load_next_chunk\u001b[39m\u001b[34m(self)\u001b[39m\n\u001b[32m     75\u001b[39m \u001b[38;5;28;01masync\u001b[39;00m \u001b[38;5;28;01mdef\u001b[39;00m\u001b[38;5;250m \u001b[39m\u001b[34m_load_next_chunk\u001b[39m(\u001b[38;5;28mself\u001b[39m):\n\u001b[32m---> \u001b[39m\u001b[32m76\u001b[39m     cur = \u001b[38;5;28;01mawait\u001b[39;00m \u001b[38;5;28mself\u001b[39m._request()\n\u001b[32m     77\u001b[39m     \u001b[38;5;28mself\u001b[39m.buffer.append(cur)\n\u001b[32m     78\u001b[39m     \u001b[38;5;28;01mif\u001b[39;00m \u001b[38;5;28mlen\u001b[39m(cur) < \u001b[38;5;28mself\u001b[39m.request.limit:\n",
      "\u001b[36mFile \u001b[39m\u001b[32md:\\projects\\TenAcademy\\week4\\KAIM-WEEK-4\\venv\\Lib\\site-packages\\telethon\\client\\downloads.py:86\u001b[39m, in \u001b[36m_DirectDownloadIter._request\u001b[39m\u001b[34m(self)\u001b[39m\n\u001b[32m     84\u001b[39m \u001b[38;5;28;01masync\u001b[39;00m \u001b[38;5;28;01mdef\u001b[39;00m\u001b[38;5;250m \u001b[39m\u001b[34m_request\u001b[39m(\u001b[38;5;28mself\u001b[39m):\n\u001b[32m     85\u001b[39m     \u001b[38;5;28;01mtry\u001b[39;00m:\n\u001b[32m---> \u001b[39m\u001b[32m86\u001b[39m         result = \u001b[38;5;28;01mawait\u001b[39;00m \u001b[38;5;28mself\u001b[39m._client._call(\u001b[38;5;28mself\u001b[39m._sender, \u001b[38;5;28mself\u001b[39m.request)\n\u001b[32m     87\u001b[39m         \u001b[38;5;28mself\u001b[39m._timed_out = \u001b[38;5;28;01mFalse\u001b[39;00m\n\u001b[32m     88\u001b[39m         \u001b[38;5;28;01mif\u001b[39;00m \u001b[38;5;28misinstance\u001b[39m(result, types.upload.FileCdnRedirect):\n",
      "\u001b[36mFile \u001b[39m\u001b[32md:\\projects\\TenAcademy\\week4\\KAIM-WEEK-4\\venv\\Lib\\site-packages\\telethon\\client\\users.py:92\u001b[39m, in \u001b[36mUserMethods._call\u001b[39m\u001b[34m(self, sender, request, ordered, flood_sleep_threshold)\u001b[39m\n\u001b[32m     90\u001b[39m         \u001b[38;5;28;01mreturn\u001b[39;00m results\n\u001b[32m     91\u001b[39m \u001b[38;5;28;01melse\u001b[39;00m:\n\u001b[32m---> \u001b[39m\u001b[32m92\u001b[39m     result = \u001b[38;5;28;01mawait\u001b[39;00m future\n\u001b[32m     93\u001b[39m     \u001b[38;5;28mself\u001b[39m.session.process_entities(result)\n\u001b[32m     94\u001b[39m     \u001b[38;5;28;01mreturn\u001b[39;00m result\n",
      "\u001b[31mCancelledError\u001b[39m: "
     ]
    }
   ],
   "source": [
    "from telethon import TelegramClient\n",
    "import csv\n",
    "import os\n",
    "from dotenv import load_dotenv\n",
    "\n",
    "# Load environment variables once\n",
    "load_dotenv('../.env')\n",
    "api_id = os.getenv('TG_API_ID')\n",
    "api_hash = os.getenv('TG_API_HASH')\n",
    "phone = os.getenv('TG_PHONE_NUMBER')\n",
    "\n",
    "# Function to scrape data from a single channel\n",
    "async def scrape_channel(client, channel_username, writer, media_dir):\n",
    "    entity = await client.get_entity(channel_username)\n",
    "    channel_title = entity.title  # Extract the channel's title\n",
    "    async for message in client.iter_messages(entity, limit=1000):\n",
    "        media_path = None\n",
    "        if message.media and hasattr(message.media, 'photo'):\n",
    "            # Create a unique filename for the photo\n",
    "            filename = f\"{channel_username}_{message.id}.jpg\"\n",
    "            media_path = os.path.join(media_dir, filename)\n",
    "            # Download the media to the specified directory if it's a photo\n",
    "            await client.download_media(message.media, media_path)\n",
    "        \n",
    "        # Write the channel title along with other data\n",
    "        writer.writerow([channel_title, channel_username, message.id, message.message, message.date, media_path])\n",
    "\n",
    "# Initialize the client once\n",
    "client = TelegramClient('scraping_session', api_id, api_hash)\n",
    "\n",
    "async def main():\n",
    "    await client.start()\n",
    "    \n",
    "    # Create a directory for media files\n",
    "    media_dir = '../data/photos'\n",
    "    os.makedirs(media_dir, exist_ok=True)\n",
    "\n",
    "    # Open the CSV file and prepare the writer\n",
    "    with open('../data/raw/telegram_data.csv', 'w', newline='', encoding='utf-8') as file:\n",
    "        writer = csv.writer(file)\n",
    "        writer.writerow(['Channel Title', 'Channel Username', 'ID', 'Message', 'Date', 'Media Path'])  # Include channel title in the header\n",
    "        \n",
    "        # List of channels to scrape\n",
    "        channels = [\n",
    "            '@shageronlinestore', '@ethio_brand_collection', '@Shewabrand', '@gebeyaadama', '@classybrands'\n",
    "            \n",
    "        ]\n",
    "        \n",
    "        # Iterate over channels and scrape data into the single CSV file\n",
    "        for channel in channels:\n",
    "            await scrape_channel(client, channel, writer, media_dir)\n",
    "            print(f\"Scraped data from {channel}\")\n",
    "\n",
    "async with client:\n",
    "    await main()"
   ]
  },
  {
   "cell_type": "code",
   "execution_count": 7,
   "id": "c1ed8490",
   "metadata": {},
   "outputs": [
    {
     "name": "stdout",
     "output_type": "stream",
     "text": [
      "Data loaded successfully from ../data/raw/telegram_data.csv\n"
     ]
    }
   ],
   "source": [
    "\n",
    "import pandas as pd\n",
    "import numpy as np\n",
    "import matplotlib.pyplot as plt\n",
    "import seaborn as sns\n",
    "import sys\n",
    "sys.path.append('../src') \n",
    "\n",
    "from utils.data_loader import load_data\n",
    "\n",
    "# Load data\n",
    "df = load_data('../data/raw/telegram_data.csv')\n",
    "# print(df.head())"
   ]
  },
  {
   "cell_type": "code",
   "execution_count": 8,
   "id": "2046af8f",
   "metadata": {},
   "outputs": [
    {
     "name": "stdout",
     "output_type": "stream",
     "text": [
      "<class 'pandas.core.frame.DataFrame'>\n",
      "RangeIndex: 2694 entries, 0 to 2693\n",
      "Data columns (total 6 columns):\n",
      " #   Column            Non-Null Count  Dtype \n",
      "---  ------            --------------  ----- \n",
      " 0   Channel Title     2694 non-null   object\n",
      " 1   Channel Username  2694 non-null   object\n",
      " 2   ID                2694 non-null   int64 \n",
      " 3   Message           2049 non-null   object\n",
      " 4   Date              2694 non-null   object\n",
      " 5   Media Path        2507 non-null   object\n",
      "dtypes: int64(1), object(5)\n",
      "memory usage: 126.4+ KB\n"
     ]
    }
   ],
   "source": [
    "df.info()"
   ]
  },
  {
   "cell_type": "code",
   "execution_count": 9,
   "id": "331c799f",
   "metadata": {},
   "outputs": [
    {
     "data": {
      "application/vnd.microsoft.datawrangler.viewer.v0+json": {
       "columns": [
        {
         "name": "index",
         "rawType": "object",
         "type": "string"
        },
        {
         "name": "0",
         "rawType": "int64",
         "type": "integer"
        }
       ],
       "ref": "844ee7c8-a9d5-4685-8991-bca5409e9df5",
       "rows": [
        [
         "Channel Title",
         "0"
        ],
        [
         "Channel Username",
         "0"
        ],
        [
         "ID",
         "0"
        ],
        [
         "Message",
         "645"
        ],
        [
         "Date",
         "0"
        ],
        [
         "Media Path",
         "187"
        ]
       ],
       "shape": {
        "columns": 1,
        "rows": 6
       }
      },
      "text/plain": [
       "Channel Title         0\n",
       "Channel Username      0\n",
       "ID                    0\n",
       "Message             645\n",
       "Date                  0\n",
       "Media Path          187\n",
       "dtype: int64"
      ]
     },
     "execution_count": 9,
     "metadata": {},
     "output_type": "execute_result"
    }
   ],
   "source": [
    "df.isna().sum()"
   ]
  },
  {
   "cell_type": "code",
   "execution_count": 10,
   "id": "67f16f51",
   "metadata": {},
   "outputs": [],
   "source": [
    "df.dropna(subset=['Message','Media Path'], inplace=True)  # Drop rows where 'Message' is NaN"
   ]
  },
  {
   "cell_type": "code",
   "execution_count": 11,
   "id": "4d129992",
   "metadata": {},
   "outputs": [
    {
     "data": {
      "application/vnd.microsoft.datawrangler.viewer.v0+json": {
       "columns": [
        {
         "name": "index",
         "rawType": "object",
         "type": "string"
        },
        {
         "name": "0",
         "rawType": "int64",
         "type": "integer"
        }
       ],
       "ref": "97990b14-9b2d-4a82-90ef-ce579e9c7932",
       "rows": [
        [
         "Channel Title",
         "0"
        ],
        [
         "Channel Username",
         "0"
        ],
        [
         "ID",
         "0"
        ],
        [
         "Message",
         "0"
        ],
        [
         "Date",
         "0"
        ],
        [
         "Media Path",
         "0"
        ]
       ],
       "shape": {
        "columns": 1,
        "rows": 6
       }
      },
      "text/plain": [
       "Channel Title       0\n",
       "Channel Username    0\n",
       "ID                  0\n",
       "Message             0\n",
       "Date                0\n",
       "Media Path          0\n",
       "dtype: int64"
      ]
     },
     "execution_count": 11,
     "metadata": {},
     "output_type": "execute_result"
    }
   ],
   "source": [
    "df.isna().sum()"
   ]
  }
 ],
 "metadata": {
  "kernelspec": {
   "display_name": "venv",
   "language": "python",
   "name": "python3"
  },
  "language_info": {
   "codemirror_mode": {
    "name": "ipython",
    "version": 3
   },
   "file_extension": ".py",
   "mimetype": "text/x-python",
   "name": "python",
   "nbconvert_exporter": "python",
   "pygments_lexer": "ipython3",
   "version": "3.13.3"
  }
 },
 "nbformat": 4,
 "nbformat_minor": 5
}
